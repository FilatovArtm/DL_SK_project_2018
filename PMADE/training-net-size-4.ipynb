{
 "cells": [
  {
   "cell_type": "code",
   "execution_count": 12,
   "metadata": {
    "collapsed": true
   },
   "outputs": [],
   "source": [
    "import torch, torch.nn as nn\n",
    "import torch.nn.functional as F\n",
    "from torch.autograd import Variable\n",
    "import torch.optim as optim\n",
    "import numpy as np\n",
    "import matplotlib.pyplot as plt\n",
    "%matplotlib inline\n",
    "import pickle\n",
    "from loader import get_train_loader\n",
    "import time"
   ]
  },
  {
   "cell_type": "code",
   "execution_count": 2,
   "metadata": {
    "collapsed": true
   },
   "outputs": [],
   "source": [
    "class Autoencoder4(nn.Module):\n",
    "    def __init__(self):\n",
    "        super(Autoencoder4, self).__init__()\n",
    "        \n",
    "        self.encoder = nn.Sequential(\n",
    "            nn.Conv2d(3, 16, kernel_size=2, padding=0),\n",
    "#             nn.BatchNorm2d(16),\n",
    "            nn.ReLU(),\n",
    "            nn.Conv2d(16, 16, kernel_size=2, padding=1),\n",
    "            nn.BatchNorm2d(16),\n",
    "            nn.MaxPool2d(2),\n",
    "            nn.ReLU(),\n",
    "        )\n",
    "        \n",
    "        self.decoder = nn.Sequential(\n",
    "            nn.ConvTranspose2d(16, 16, 2, stride=2),\n",
    "            nn.BatchNorm2d(16),\n",
    "            nn.ReLU(),\n",
    "            nn.Conv2d(16, 3, kernel_size=3, padding=1),\n",
    "            \n",
    "            nn.Sigmoid(),\n",
    "        )\n",
    "        \n",
    "    def forward(self, x):\n",
    "        latent_code = self.encoder(x)\n",
    "        reconstruction = self.decoder(latent_code)\n",
    "        return reconstruction, latent_code"
   ]
  },
  {
   "cell_type": "code",
   "execution_count": 3,
   "metadata": {
    "collapsed": true
   },
   "outputs": [],
   "source": [
    "autoencoder_people = torch.load('autoencoder.people.4.pt')"
   ]
  },
  {
   "cell_type": "code",
   "execution_count": 4,
   "metadata": {
    "collapsed": true
   },
   "outputs": [],
   "source": [
    "autoencoder_stickmans = torch.load('autoencoder.stickmen.4.pt')"
   ]
  },
  {
   "cell_type": "code",
   "execution_count": 5,
   "metadata": {
    "collapsed": true
   },
   "outputs": [],
   "source": [
    "dim_x = 8\n",
    "batch_size = 64\n",
    "train_loader, val_loader = get_train_loader(\"../deepfashion/index.p\", batch_size=batch_size, resize_size=8)"
   ]
  },
  {
   "cell_type": "code",
   "execution_count": 91,
   "metadata": {
    "collapsed": true
   },
   "outputs": [],
   "source": [
    "class Net4Group2(nn.Module):\n",
    "    \"\"\"\n",
    "        Network for predictions group 2 images based on group 1.\n",
    "        input size: 4x4\n",
    "        output size: 4x4\n",
    "    \"\"\"\n",
    "\n",
    "    def __init__(self, layers=[1], bottelneck_size=32):\n",
    "        super(Net4Group2, self).__init__()\n",
    "        \n",
    "        self.first_part = nn.Sequential(\n",
    "            nn.Conv2d(3, 8, kernel_size=2, stride=1, padding=1),\n",
    "            nn.ReLU(inplace=True),\n",
    "            nn.Conv2d(8, 16, kernel_size=2),\n",
    "            nn.BatchNorm2d(16),\n",
    "            nn.ReLU(inplace=True)\n",
    "        )\n",
    "\n",
    "        self.up_1 = nn.Sequential(\n",
    "            nn.ConvTranspose2d(48, 64, 1, stride=2)\n",
    "        )\n",
    "\n",
    "        self.conv_1 = nn.Sequential(\n",
    "            nn.Conv2d(64, 64, kernel_size=(2, 2), stride=1, padding=0),\n",
    "            nn.ReLU(),\n",
    "            nn.Conv2d(64, 64, kernel_size=(2, 2), stride=1, padding=0),\n",
    "            nn.BatchNorm2d(64),\n",
    "            nn.ReLU(),\n",
    "            nn.Conv2d(64, 3, kernel_size=(2, 2), stride=1, padding=0),\n",
    "            nn.Sigmoid()\n",
    "        )\n",
    "\n",
    "    def forward(self, x, keypoints, embeddings):\n",
    "        x = self.first_part(x)\n",
    "        x = torch.cat((x, keypoints, embeddings), dim=1)\n",
    "        x = self.up_1(x)\n",
    "        x = self.conv_1(x)\n",
    "        return x"
   ]
  },
  {
   "cell_type": "code",
   "execution_count": 353,
   "metadata": {
    "collapsed": true
   },
   "outputs": [],
   "source": [
    "mask_input_1 = np.zeros((batch_size, 3, dim_x, dim_x)).astype(bool)\n",
    "for m in range(batch_size):\n",
    "    for n in range(3):\n",
    "        for i in range(dim_x):\n",
    "            for j in range(dim_x):\n",
    "                if i % 2 == 0 and j % 2 ==0:\n",
    "                    mask_input_1[m][n][i][j] = True"
   ]
  },
  {
   "cell_type": "code",
   "execution_count": 354,
   "metadata": {
    "collapsed": true
   },
   "outputs": [],
   "source": [
    "mask_output_1 = np.zeros((batch_size, 3, dim_x, dim_x)).astype(bool)\n",
    "for m in range(batch_size):\n",
    "    for n in range(3):\n",
    "        for i in range(dim_x):\n",
    "            for j in range(dim_x):\n",
    "                if i % 2 == 0 and j % 2 == 1:\n",
    "                    mask_output_1[m][n][i][j] = True"
   ]
  },
  {
   "cell_type": "code",
   "execution_count": 94,
   "metadata": {
    "collapsed": true
   },
   "outputs": [],
   "source": [
    "criterion = torch.nn.MSELoss()\n",
    "net4_group2 = Net4Group2().cuda()\n",
    "optimizer = optim.Adam(net4_group2.parameters(), lr=1e-3)"
   ]
  },
  {
   "cell_type": "code",
   "execution_count": 95,
   "metadata": {
    "collapsed": true
   },
   "outputs": [],
   "source": [
    "def train_network(net, criterion, optimizer, mask_input, mask_output, shape_input, shape_output, num_epochs):\n",
    "    train_loss = []\n",
    "    val_loss = []\n",
    "    \n",
    "    for epoch in range(num_epochs):\n",
    "        start_time = time.time()\n",
    "        net.train(True)\n",
    "        i = 0\n",
    "        for X_batch, y_batch in train_loader:\n",
    "            i += 1\n",
    "            if X_batch.shape[0] != batch_size:\n",
    "                continue\n",
    "            X_batch_input = X_batch[:, 0]\n",
    "            X_batch_input = X_batch_input[mask_input.nonzero()].view(shape_input)\n",
    "            X_batch_input = Variable(X_batch_input).cuda()\n",
    "\n",
    "            X_batch_output = X_batch[:, 1]\n",
    "            X_batch_output = X_batch_output[mask_output.nonzero()].view(shape_output)\n",
    "            X_batch_output = Variable(X_batch_output).cuda()\n",
    "\n",
    "            output_img = net(X_batch_input,\n",
    "                                     keypoints=autoencoder_stickmans(Variable(y_batch[:, 1]).cuda())[1],\n",
    "                                     embeddings=autoencoder_people(Variable(X_batch[:, 0]).cuda())[1])\n",
    "            loss = criterion(output_img, X_batch_output)\n",
    "            loss.backward()\n",
    "            optimizer.step()\n",
    "            optimizer.zero_grad()\n",
    "            train_loss.append(loss.cpu().data.numpy()[0])\n",
    "\n",
    "        # And a full pass over the validation data:\n",
    "    #     autoencoder.train(False) # disable dropout / use averages for batch_norm\n",
    "    #     for X_batch, y_batch in val_loader:\n",
    "    #         X_batch_0 = Variable(y_batch[:, 0]).cuda()\n",
    "    #         output_img, _ = autoencoder(X_batch_0)\n",
    "    #         val_loss.append(criterion(output_img, X_batch_0).cpu().data.numpy()[0])\n",
    "    #         X_batch_1 = Variable(y_batch[:, 1]).cuda()\n",
    "    #         output_img, _ = autoencoder(X_batch_1)\n",
    "    #         val_loss.append(criterion(output_img, X_batch_1).cpu().data.numpy()[0])\n",
    "\n",
    "        print \n",
    "        print(\"Epoch {} of {} took {:.3f}s\".format(\n",
    "            epoch + 1, num_epochs, time.time() - start_time))\n",
    "        print(\"  training loss (in-iteration): \\t{:.6f}\".format(\n",
    "            np.mean(train_loss[-2 * len(train_loader):])))\n",
    "    #     print(\"  validation loss: \\t\\t\\t{:.6f}\".format(\n",
    "    #         np.mean(val_loss[-2 * len(val_loader):])))"
   ]
  },
  {
   "cell_type": "code",
   "execution_count": 96,
   "metadata": {
    "scrolled": true
   },
   "outputs": [
    {
     "name": "stdout",
     "output_type": "stream",
     "text": [
      "Epoch 1 of 100 took 45.934s\n",
      "  training loss (in-iteration): \t0.018011\n",
      "Epoch 2 of 100 took 44.553s\n",
      "  training loss (in-iteration): \t0.012722\n",
      "Epoch 3 of 100 took 44.233s\n",
      "  training loss (in-iteration): \t0.007005\n",
      "Epoch 4 of 100 took 44.253s\n",
      "  training loss (in-iteration): \t0.006341\n",
      "Epoch 5 of 100 took 44.978s\n",
      "  training loss (in-iteration): \t0.005992\n",
      "Epoch 6 of 100 took 42.923s\n",
      "  training loss (in-iteration): \t0.005762\n",
      "Epoch 7 of 100 took 42.849s\n",
      "  training loss (in-iteration): \t0.005590\n",
      "Epoch 8 of 100 took 43.588s\n",
      "  training loss (in-iteration): \t0.005446\n",
      "Epoch 9 of 100 took 44.872s\n",
      "  training loss (in-iteration): \t0.005321\n",
      "Epoch 10 of 100 took 45.248s\n",
      "  training loss (in-iteration): \t0.005213\n",
      "Epoch 11 of 100 took 45.352s\n",
      "  training loss (in-iteration): \t0.005118\n",
      "Epoch 12 of 100 took 43.590s\n",
      "  training loss (in-iteration): \t0.005033\n",
      "Epoch 13 of 100 took 48.816s\n",
      "  training loss (in-iteration): \t0.004957\n",
      "Epoch 14 of 100 took 50.339s\n",
      "  training loss (in-iteration): \t0.004889\n",
      "Epoch 15 of 100 took 49.096s\n",
      "  training loss (in-iteration): \t0.004825\n",
      "Epoch 16 of 100 took 47.169s\n",
      "  training loss (in-iteration): \t0.004764\n",
      "Epoch 17 of 100 took 45.707s\n",
      "  training loss (in-iteration): \t0.004703\n",
      "Epoch 18 of 100 took 43.022s\n",
      "  training loss (in-iteration): \t0.004646\n",
      "Epoch 19 of 100 took 44.418s\n",
      "  training loss (in-iteration): \t0.004589\n",
      "Epoch 20 of 100 took 43.855s\n",
      "  training loss (in-iteration): \t0.004535\n",
      "Epoch 21 of 100 took 42.683s\n",
      "  training loss (in-iteration): \t0.004488\n",
      "Epoch 22 of 100 took 42.461s\n",
      "  training loss (in-iteration): \t0.004442\n",
      "Epoch 23 of 100 took 43.200s\n",
      "  training loss (in-iteration): \t0.004394\n",
      "Epoch 24 of 100 took 46.332s\n",
      "  training loss (in-iteration): \t0.004345\n",
      "Epoch 25 of 100 took 46.449s\n",
      "  training loss (in-iteration): \t0.004300\n",
      "Epoch 26 of 100 took 44.430s\n",
      "  training loss (in-iteration): \t0.004258\n",
      "Epoch 27 of 100 took 45.340s\n",
      "  training loss (in-iteration): \t0.004220\n",
      "Epoch 28 of 100 took 45.723s\n",
      "  training loss (in-iteration): \t0.004185\n",
      "Epoch 29 of 100 took 48.219s\n",
      "  training loss (in-iteration): \t0.004150\n",
      "Epoch 30 of 100 took 47.950s\n",
      "  training loss (in-iteration): \t0.004113\n",
      "Epoch 31 of 100 took 47.548s\n",
      "  training loss (in-iteration): \t0.004080\n",
      "Epoch 32 of 100 took 47.504s\n",
      "  training loss (in-iteration): \t0.004051\n",
      "Epoch 33 of 100 took 47.486s\n",
      "  training loss (in-iteration): \t0.004020\n",
      "Epoch 34 of 100 took 47.495s\n",
      "  training loss (in-iteration): \t0.003990\n",
      "Epoch 35 of 100 took 44.627s\n",
      "  training loss (in-iteration): \t0.003964\n",
      "Epoch 36 of 100 took 43.801s\n",
      "  training loss (in-iteration): \t0.003943\n",
      "Epoch 37 of 100 took 43.611s\n",
      "  training loss (in-iteration): \t0.003921\n",
      "Epoch 38 of 100 took 42.393s\n",
      "  training loss (in-iteration): \t0.003894\n",
      "Epoch 39 of 100 took 44.253s\n",
      "  training loss (in-iteration): \t0.003870\n",
      "Epoch 40 of 100 took 43.048s\n",
      "  training loss (in-iteration): \t0.003848\n",
      "Epoch 41 of 100 took 43.872s\n",
      "  training loss (in-iteration): \t0.003822\n",
      "Epoch 42 of 100 took 43.859s\n",
      "  training loss (in-iteration): \t0.003793\n",
      "Epoch 43 of 100 took 43.133s\n",
      "  training loss (in-iteration): \t0.003768\n",
      "Epoch 44 of 100 took 44.585s\n",
      "  training loss (in-iteration): \t0.003747\n",
      "Epoch 45 of 100 took 44.113s\n",
      "  training loss (in-iteration): \t0.003729\n",
      "Epoch 46 of 100 took 45.417s\n",
      "  training loss (in-iteration): \t0.003716\n",
      "Epoch 47 of 100 took 43.732s\n",
      "  training loss (in-iteration): \t0.003706\n",
      "Epoch 48 of 100 took 44.176s\n",
      "  training loss (in-iteration): \t0.003697\n",
      "Epoch 49 of 100 took 44.489s\n",
      "  training loss (in-iteration): \t0.003685\n",
      "Epoch 50 of 100 took 43.516s\n",
      "  training loss (in-iteration): \t0.003666\n",
      "Epoch 51 of 100 took 48.736s\n",
      "  training loss (in-iteration): \t0.003643\n",
      "Epoch 52 of 100 took 47.533s\n",
      "  training loss (in-iteration): \t0.003617\n",
      "Epoch 53 of 100 took 47.922s\n",
      "  training loss (in-iteration): \t0.003597\n",
      "Epoch 54 of 100 took 46.871s\n",
      "  training loss (in-iteration): \t0.003578\n",
      "Epoch 55 of 100 took 50.494s\n",
      "  training loss (in-iteration): \t0.003552\n",
      "Epoch 56 of 100 took 43.142s\n",
      "  training loss (in-iteration): \t0.003533\n",
      "Epoch 57 of 100 took 43.900s\n",
      "  training loss (in-iteration): \t0.003522\n",
      "Epoch 58 of 100 took 43.851s\n",
      "  training loss (in-iteration): \t0.003503\n",
      "Epoch 59 of 100 took 43.691s\n",
      "  training loss (in-iteration): \t0.003476\n",
      "Epoch 60 of 100 took 44.267s\n",
      "  training loss (in-iteration): \t0.003457\n",
      "Epoch 61 of 100 took 44.222s\n",
      "  training loss (in-iteration): \t0.003449\n",
      "Epoch 62 of 100 took 45.986s\n",
      "  training loss (in-iteration): \t0.003437\n",
      "Epoch 63 of 100 took 45.169s\n",
      "  training loss (in-iteration): \t0.003424\n",
      "Epoch 64 of 100 took 45.171s\n",
      "  training loss (in-iteration): \t0.003413\n",
      "Epoch 65 of 100 took 44.675s\n",
      "  training loss (in-iteration): \t0.003399\n",
      "Epoch 66 of 100 took 43.937s\n",
      "  training loss (in-iteration): \t0.003385\n",
      "Epoch 67 of 100 took 45.280s\n",
      "  training loss (in-iteration): \t0.003371\n",
      "Epoch 68 of 100 took 53.496s\n",
      "  training loss (in-iteration): \t0.003358\n",
      "Epoch 69 of 100 took 60.471s\n",
      "  training loss (in-iteration): \t0.003341\n",
      "Epoch 70 of 100 took 51.772s\n",
      "  training loss (in-iteration): \t0.003324\n",
      "Epoch 71 of 100 took 45.938s\n",
      "  training loss (in-iteration): \t0.003308\n",
      "Epoch 72 of 100 took 46.535s\n",
      "  training loss (in-iteration): \t0.003294\n",
      "Epoch 73 of 100 took 45.556s\n",
      "  training loss (in-iteration): \t0.003284\n",
      "Epoch 74 of 100 took 44.670s\n",
      "  training loss (in-iteration): \t0.003280\n",
      "Epoch 75 of 100 took 44.811s\n",
      "  training loss (in-iteration): \t0.003282\n",
      "Epoch 76 of 100 took 42.654s\n",
      "  training loss (in-iteration): \t0.003284\n",
      "Epoch 77 of 100 took 42.567s\n",
      "  training loss (in-iteration): \t0.003288\n",
      "Epoch 78 of 100 took 42.509s\n",
      "  training loss (in-iteration): \t0.003294\n",
      "Epoch 79 of 100 took 42.736s\n",
      "  training loss (in-iteration): \t0.003286\n",
      "Epoch 80 of 100 took 48.866s\n",
      "  training loss (in-iteration): \t0.003265\n",
      "Epoch 81 of 100 took 55.565s\n",
      "  training loss (in-iteration): \t0.003240\n",
      "Epoch 82 of 100 took 52.493s\n",
      "  training loss (in-iteration): \t0.003214\n",
      "Epoch 83 of 100 took 45.654s\n",
      "  training loss (in-iteration): \t0.003191\n",
      "Epoch 84 of 100 took 43.505s\n",
      "  training loss (in-iteration): \t0.003169\n",
      "Epoch 85 of 100 took 43.194s\n",
      "  training loss (in-iteration): \t0.003152\n",
      "Epoch 86 of 100 took 43.713s\n",
      "  training loss (in-iteration): \t0.003141\n",
      "Epoch 87 of 100 took 42.924s\n",
      "  training loss (in-iteration): \t0.003131\n",
      "Epoch 88 of 100 took 43.571s\n",
      "  training loss (in-iteration): \t0.003124\n",
      "Epoch 89 of 100 took 43.002s\n",
      "  training loss (in-iteration): \t0.003117\n",
      "Epoch 90 of 100 took 44.293s\n",
      "  training loss (in-iteration): \t0.003106\n",
      "Epoch 91 of 100 took 43.255s\n",
      "  training loss (in-iteration): \t0.003092\n",
      "Epoch 92 of 100 took 43.858s\n",
      "  training loss (in-iteration): \t0.003083\n",
      "Epoch 93 of 100 took 42.961s\n",
      "  training loss (in-iteration): \t0.003076\n",
      "Epoch 94 of 100 took 44.567s\n",
      "  training loss (in-iteration): \t0.003071\n",
      "Epoch 95 of 100 took 43.869s\n",
      "  training loss (in-iteration): \t0.003066\n",
      "Epoch 96 of 100 took 43.810s\n",
      "  training loss (in-iteration): \t0.003061\n",
      "Epoch 97 of 100 took 45.509s\n",
      "  training loss (in-iteration): \t0.003052\n",
      "Epoch 98 of 100 took 48.841s\n",
      "  training loss (in-iteration): \t0.003038\n",
      "Epoch 99 of 100 took 51.199s\n",
      "  training loss (in-iteration): \t0.003021\n",
      "Epoch 100 of 100 took 49.292s\n",
      "  training loss (in-iteration): \t0.003006\n"
     ]
    }
   ],
   "source": [
    "train_network(net4_group2, criterion, optimizer, mask_input_1, mask_output_1,\n",
    "              shape_input=(batch_size, 3, int(dim_x / 2), int(dim_x / 2)),\n",
    "              shape_output=(batch_size, 3, int(dim_x / 2), int(dim_x / 2)),\n",
    "              num_epochs=100\n",
    "             )"
   ]
  },
  {
   "cell_type": "code",
   "execution_count": 113,
   "metadata": {
    "scrolled": true
   },
   "outputs": [
    {
     "name": "stderr",
     "output_type": "stream",
     "text": [
      "/home/koloskov/anaconda3/lib/python3.6/site-packages/torch/serialization.py:159: UserWarning: Couldn't retrieve source code for container of type Net4Group2. It won't be checked for correctness upon loading.\n",
      "  \"type \" + obj.__name__ + \". It won't be checked \"\n"
     ]
    }
   ],
   "source": [
    "torch.save(net4_group2, \"net4.group2.pt\")"
   ]
  },
  {
   "cell_type": "code",
   "execution_count": 97,
   "metadata": {
    "collapsed": true
   },
   "outputs": [],
   "source": [
    "def plot_gallery(images, h, w, n_row=3, n_col=6):\n",
    "    \"\"\"Helper function to plot a gallery of portraits\"\"\"\n",
    "    scale_const = 1.2\n",
    "    plt.figure(figsize=(3 / scale_const * n_col, 3.4 / scale_const * n_row))\n",
    "    plt.subplots_adjust(bottom=0, left=.01, right=.99, top=.90, hspace=.35)\n",
    "    for i in range(n_row * n_col):\n",
    "        plt.subplot(n_row, n_col, i + 1)\n",
    "        plt.imshow(images[i].numpy().transpose(1,2,0), cmap=plt.cm.gray, vmin=-1, vmax=1, interpolation='nearest')\n",
    "        plt.xticks(())\n",
    "        plt.yticks(())"
   ]
  },
  {
   "cell_type": "code",
   "execution_count": 98,
   "metadata": {
    "collapsed": true
   },
   "outputs": [],
   "source": [
    "for X_batch, y_batch in train_loader:\n",
    "    break"
   ]
  },
  {
   "cell_type": "code",
   "execution_count": 104,
   "metadata": {
    "collapsed": true
   },
   "outputs": [],
   "source": [
    "X_batch_input = X_batch[:, 0]\n",
    "X_batch_input = X_batch_input[mask_input.nonzero()].view((batch_size, 3, int(dim_x / 2), int(dim_x / 2)))\n",
    "X_batch_input = Variable(X_batch_input).cuda()"
   ]
  },
  {
   "cell_type": "code",
   "execution_count": 110,
   "metadata": {
    "scrolled": true
   },
   "outputs": [
    {
     "data": {
      "image/png": "[encoded data removed]",
      "text/plain": [
       "<matplotlib.figure.Figure at 0x7f273e27e6a0>"
      ]
     },
     "metadata": {},
     "output_type": "display_data"
    }
   ],
   "source": [
    "plot_gallery(X_batch_input.cpu().data, 8, 8, 1, 3)"
   ]
  },
  {
   "cell_type": "code",
   "execution_count": 108,
   "metadata": {},
   "outputs": [
    {
     "data": {
      "image/png": "[encoded data removed]",
      "text/plain": [
       "<matplotlib.figure.Figure at 0x7f27500bfef0>"
      ]
     },
     "metadata": {},
     "output_type": "display_data"
    }
   ],
   "source": [
    "plot_gallery(net4_group2(X_batch_input,\n",
    "                 keypoints=autoencoder_stickmans(Variable(y_batch[:, 1]).cuda())[1],\n",
    "                 embeddings=autoencoder_people(Variable(X_batch[:, 0]).cuda())[1]).cpu().data,\n",
    "             8, 8, 1, 3)"
   ]
  },
  {
   "cell_type": "code",
   "execution_count": 111,
   "metadata": {
    "collapsed": true
   },
   "outputs": [],
   "source": [
    "X_batch_output = X_batch[:, 1]\n",
    "X_batch_output = X_batch_output[mask_output.nonzero()].view((batch_size, 3, int(dim_x / 2), int(dim_x / 2)))"
   ]
  },
  {
   "cell_type": "code",
   "execution_count": 112,
   "metadata": {},
   "outputs": [
    {
     "data": {
      "image/png": "[encoded data removed]",
      "text/plain": [
       "<matplotlib.figure.Figure at 0x7f273e2f82e8>"
      ]
     },
     "metadata": {},
     "output_type": "display_data"
    }
   ],
   "source": [
    "plot_gallery(X_batch_output, 8, 8, 1, 3)"
   ]
  },
  {
   "cell_type": "code",
   "execution_count": 296,
   "metadata": {
    "collapsed": true
   },
   "outputs": [],
   "source": [
    "class Net4Group3(nn.Module):\n",
    "    \"\"\"\n",
    "        Network for predictions group 2 images based on group 1.\n",
    "        input size: 4x4\n",
    "        output size: 4x4\n",
    "    \"\"\"\n",
    "    def __init__(self, layers=[1], bottelneck_size=32):\n",
    "        super(Net4Group3, self).__init__()\n",
    "        \n",
    "        self.first_part = nn.Sequential(\n",
    "            \n",
    "            nn.Conv2d(3, 8, kernel_size=2, stride=1, padding=1),\n",
    "            nn.ReLU(inplace=True),\n",
    "            nn.Conv2d(8, 8, kernel_size=(1, 3), stride=1, padding=1),\n",
    "            nn.ReLU(inplace=True),\n",
    "            nn.Conv2d(8, 16, kernel_size=2),\n",
    "            nn.BatchNorm2d(16),\n",
    "            nn.ReLU(inplace=True),\n",
    "            nn.Conv2d(16, 16, kernel_size=(1, 3)),\n",
    "            nn.ReLU(inplace=True),\n",
    "            nn.Conv2d(16, 16, kernel_size=3),\n",
    "            nn.ReLU(inplace=True)\n",
    "        )\n",
    "\n",
    "        self.up_1 = nn.Sequential(\n",
    "            nn.ConvTranspose2d(48, 64, 1, stride=2)\n",
    "        )\n",
    "\n",
    "        self.conv_1 = nn.Sequential(\n",
    "            nn.Conv2d(64, 64, kernel_size=(2, 2), stride=1, padding=0),\n",
    "            nn.ReLU(),\n",
    "            nn.Conv2d(64, 64, kernel_size=(2, 2), stride=1, padding=0),\n",
    "            nn.BatchNorm2d(64),\n",
    "            nn.ReLU(),\n",
    "            nn.Conv2d(64, 3, kernel_size=(2, 2), stride=1, padding=0),\n",
    "            nn.Sigmoid()\n",
    "        )\n",
    "\n",
    "    def forward(self, x, keypoints, embeddings):\n",
    "        x = self.first_part(x)\n",
    "#         print(x.shape)\n",
    "        x = torch.cat((x, keypoints, embeddings), dim=1)\n",
    "        x = self.up_1(x)\n",
    "        x = self.conv_1(x)\n",
    "        return x"
   ]
  },
  {
   "cell_type": "code",
   "execution_count": 294,
   "metadata": {
    "collapsed": true
   },
   "outputs": [],
   "source": [
    "# class Net4Group3(nn.Module):\n",
    "#     \"\"\"\n",
    "#         Network for predictions group 2 images based on group 1.\n",
    "#         input size: 4x4\n",
    "#         output size: 4x4\n",
    "#     \"\"\"\n",
    "#     def __init__(self, layers=[1], bottelneck_size=32):\n",
    "#         super(Net4Group3, self).__init__()\n",
    "        \n",
    "#         self.first_part = nn.Sequential(\n",
    "#             nn.Conv2d(3, 8, kernel_size=2),\n",
    "#             nn.MaxPool2d((1, 2)),\n",
    "#             nn.ReLU(inplace=True),\n",
    "#             nn.Conv2d(8, 16, kernel_size=2, stride=1, padding=1),\n",
    "#             nn.BatchNorm2d(16),\n",
    "#             nn.ReLU(inplace=True)\n",
    "#         )\n",
    "\n",
    "#         self.up_1 = nn.Sequential(\n",
    "#             nn.ConvTranspose2d(48, 64, 1, stride=2)\n",
    "#         )\n",
    "\n",
    "#         self.conv_1 = nn.Sequential(\n",
    "#             nn.Conv2d(64, 64, kernel_size=(2, 2), stride=1, padding=0),\n",
    "#             nn.ReLU(),\n",
    "#             nn.Conv2d(64, 64, kernel_size=(2, 2), stride=1, padding=0),\n",
    "#             nn.BatchNorm2d(64),\n",
    "#             nn.ReLU(),\n",
    "#             nn.Conv2d(64, 3, kernel_size=(2, 2), stride=1, padding=0),\n",
    "#             nn.Sigmoid()\n",
    "#         )\n",
    "\n",
    "#     def forward(self, x, keypoints, embeddings):\n",
    "# #         print(x.shape)\n",
    "#         x = self.first_part(x)\n",
    "# #         print(x.shape)\n",
    "#         x = torch.cat((x, keypoints, embeddings), dim=1)\n",
    "#         x = self.up_1(x)\n",
    "#         x = self.conv_1(x)\n",
    "#         return x"
   ]
  },
  {
   "cell_type": "code",
   "execution_count": 364,
   "metadata": {
    "collapsed": true
   },
   "outputs": [],
   "source": [
    "mask_input_2 = np.zeros((batch_size, 3, dim_x, dim_x)).astype(bool)\n",
    "for m in range(batch_size):\n",
    "    for n in range(3):\n",
    "        for i in range(dim_x):\n",
    "            for j in range(dim_x):\n",
    "                if i % 2 == 0:\n",
    "                    mask_input_2[m][n][i][j] = True"
   ]
  },
  {
   "cell_type": "code",
   "execution_count": 365,
   "metadata": {
    "collapsed": true
   },
   "outputs": [],
   "source": [
    "mask_output_2 = np.zeros((batch_size, 3, dim_x, dim_x)).astype(bool)\n",
    "for m in range(batch_size):\n",
    "    for n in range(3):\n",
    "        for i in range(dim_x):\n",
    "            for j in range(dim_x):\n",
    "                if i % 2 == 1 and j % 2 == 0:\n",
    "                    mask_output_2[m][n][i][j] = True"
   ]
  },
  {
   "cell_type": "code",
   "execution_count": 299,
   "metadata": {
    "collapsed": true
   },
   "outputs": [],
   "source": [
    "criterion = torch.nn.MSELoss()\n",
    "net4_group3 = Net4Group3().cuda()\n",
    "optimizer = optim.Adam(net4_group3.parameters(), lr=1e-3)"
   ]
  },
  {
   "cell_type": "code",
   "execution_count": null,
   "metadata": {},
   "outputs": [
    {
     "name": "stdout",
     "output_type": "stream",
     "text": [
      "Epoch 1 of 100 took 43.915s\n",
      "  training loss (in-iteration): \t0.016668\n",
      "Epoch 2 of 100 took 43.274s\n",
      "  training loss (in-iteration): \t0.012164\n",
      "Epoch 3 of 100 took 43.242s\n",
      "  training loss (in-iteration): \t0.007289\n",
      "Epoch 4 of 100 took 43.849s\n",
      "  training loss (in-iteration): \t0.006705\n",
      "Epoch 5 of 100 took 43.894s\n",
      "  training loss (in-iteration): \t0.006379\n",
      "Epoch 6 of 100 took 43.236s\n",
      "  training loss (in-iteration): \t0.006155\n",
      "Epoch 7 of 100 took 44.300s\n",
      "  training loss (in-iteration): \t0.005981\n",
      "Epoch 8 of 100 took 44.871s\n",
      "  training loss (in-iteration): \t0.005840\n",
      "Epoch 9 of 100 took 43.848s\n",
      "  training loss (in-iteration): \t0.005720\n",
      "Epoch 10 of 100 took 43.909s\n",
      "  training loss (in-iteration): \t0.005613\n",
      "Epoch 11 of 100 took 45.354s\n",
      "  training loss (in-iteration): \t0.005518\n",
      "Epoch 12 of 100 took 44.739s\n",
      "  training loss (in-iteration): \t0.005432\n",
      "Epoch 13 of 100 took 43.520s\n",
      "  training loss (in-iteration): \t0.005351\n",
      "Epoch 14 of 100 took 43.197s\n",
      "  training loss (in-iteration): \t0.005277\n",
      "Epoch 15 of 100 took 42.896s\n",
      "  training loss (in-iteration): \t0.005212\n",
      "Epoch 16 of 100 took 42.933s\n",
      "  training loss (in-iteration): \t0.005149\n",
      "Epoch 17 of 100 took 42.865s\n",
      "  training loss (in-iteration): \t0.005087\n",
      "Epoch 18 of 100 took 43.371s\n",
      "  training loss (in-iteration): \t0.005028\n",
      "Epoch 19 of 100 took 44.307s\n",
      "  training loss (in-iteration): \t0.004973\n",
      "Epoch 20 of 100 took 42.572s\n",
      "  training loss (in-iteration): \t0.004920\n",
      "Epoch 21 of 100 took 43.011s\n",
      "  training loss (in-iteration): \t0.004866\n",
      "Epoch 22 of 100 took 45.721s\n",
      "  training loss (in-iteration): \t0.004808\n",
      "Epoch 23 of 100 took 43.033s\n",
      "  training loss (in-iteration): \t0.004754\n",
      "Epoch 24 of 100 took 43.138s\n",
      "  training loss (in-iteration): \t0.004703\n",
      "Epoch 25 of 100 took 42.518s\n",
      "  training loss (in-iteration): \t0.004655\n",
      "Epoch 26 of 100 took 43.789s\n",
      "  training loss (in-iteration): \t0.004607\n",
      "Epoch 27 of 100 took 43.993s\n",
      "  training loss (in-iteration): \t0.004562\n",
      "Epoch 28 of 100 took 47.716s\n",
      "  training loss (in-iteration): \t0.004524\n",
      "Epoch 29 of 100 took 46.185s\n",
      "  training loss (in-iteration): \t0.004489\n",
      "Epoch 30 of 100 took 44.316s\n",
      "  training loss (in-iteration): \t0.004450\n",
      "Epoch 31 of 100 took 44.572s\n",
      "  training loss (in-iteration): \t0.004414\n",
      "Epoch 32 of 100 took 42.629s\n",
      "  training loss (in-iteration): \t0.004370\n",
      "Epoch 33 of 100 took 51.214s\n",
      "  training loss (in-iteration): \t0.004327\n",
      "Epoch 34 of 100 took 57.318s\n",
      "  training loss (in-iteration): \t0.004294\n",
      "Epoch 35 of 100 took 51.314s\n",
      "  training loss (in-iteration): \t0.004265\n",
      "Epoch 36 of 100 took 43.923s\n",
      "  training loss (in-iteration): \t0.004243\n",
      "Epoch 37 of 100 took 44.048s\n",
      "  training loss (in-iteration): \t0.004223\n",
      "Epoch 38 of 100 took 43.630s\n",
      "  training loss (in-iteration): \t0.004197\n",
      "Epoch 39 of 100 took 43.580s\n",
      "  training loss (in-iteration): \t0.004174\n",
      "Epoch 40 of 100 took 43.276s\n",
      "  training loss (in-iteration): \t0.004156\n",
      "Epoch 41 of 100 took 43.561s\n",
      "  training loss (in-iteration): \t0.004144\n",
      "Epoch 42 of 100 took 45.473s\n",
      "  training loss (in-iteration): \t0.004132\n",
      "Epoch 43 of 100 took 44.775s\n",
      "  training loss (in-iteration): \t0.004115\n",
      "Epoch 44 of 100 took 43.469s\n",
      "  training loss (in-iteration): \t0.004093\n",
      "Epoch 45 of 100 took 43.168s\n",
      "  training loss (in-iteration): \t0.004064\n",
      "Epoch 46 of 100 took 44.600s\n",
      "  training loss (in-iteration): \t0.004025\n",
      "Epoch 47 of 100 took 42.915s\n",
      "  training loss (in-iteration): \t0.003987\n",
      "Epoch 48 of 100 took 42.640s\n",
      "  training loss (in-iteration): \t0.003950\n",
      "Epoch 49 of 100 took 44.439s\n",
      "  training loss (in-iteration): \t0.003914\n",
      "Epoch 50 of 100 took 44.495s\n",
      "  training loss (in-iteration): \t0.003889\n",
      "Epoch 51 of 100 took 43.858s\n",
      "  training loss (in-iteration): \t0.003873\n",
      "Epoch 52 of 100 took 43.562s\n",
      "  training loss (in-iteration): \t0.003855\n",
      "Epoch 53 of 100 took 43.027s\n",
      "  training loss (in-iteration): \t0.003831\n",
      "Epoch 54 of 100 took 42.995s\n",
      "  training loss (in-iteration): \t0.003801\n",
      "Epoch 55 of 100 took 44.607s\n",
      "  training loss (in-iteration): \t0.003771\n",
      "Epoch 56 of 100 took 45.251s\n",
      "  training loss (in-iteration): \t0.003747\n",
      "Epoch 57 of 100 took 49.655s\n",
      "  training loss (in-iteration): \t0.003735\n",
      "Epoch 58 of 100 took 52.735s\n",
      "  training loss (in-iteration): \t0.003726\n",
      "Epoch 59 of 100 took 49.479s\n",
      "  training loss (in-iteration): \t0.003712\n"
     ]
    }
   ],
   "source": [
    "train_network(net4_group3, criterion, optimizer, mask_input, mask_output,\n",
    "              shape_input=(batch_size, 3, int(dim_x / 2), int(dim_x)),\n",
    "              shape_output=(batch_size, 3, int(dim_x / 2), int(dim_x / 2)),\n",
    "              num_epochs=100\n",
    "             )"
   ]
  },
  {
   "cell_type": "code",
   "execution_count": 302,
   "metadata": {},
   "outputs": [
    {
     "name": "stdout",
     "output_type": "stream",
     "text": [
      "Epoch 1 of 1 took 44.164s\n",
      "  training loss (in-iteration): \t0.003142\n"
     ]
    }
   ],
   "source": [
    "train_network(net4_group3, criterion, optimizer, mask_input, mask_output,\n",
    "              shape_input=(batch_size, 3, int(dim_x / 2), int(dim_x)),\n",
    "              shape_output=(batch_size, 3, int(dim_x / 2), int(dim_x / 2)),\n",
    "              num_epochs=1\n",
    "             )"
   ]
  },
  {
   "cell_type": "code",
   "execution_count": 303,
   "metadata": {},
   "outputs": [
    {
     "name": "stderr",
     "output_type": "stream",
     "text": [
      "/home/koloskov/anaconda3/lib/python3.6/site-packages/torch/serialization.py:159: UserWarning: Couldn't retrieve source code for container of type Net4Group3. It won't be checked for correctness upon loading.\n",
      "  \"type \" + obj.__name__ + \". It won't be checked \"\n"
     ]
    }
   ],
   "source": [
    "torch.save(net4_group3, \"net4.group3.pt\")"
   ]
  },
  {
   "cell_type": "code",
   "execution_count": 305,
   "metadata": {},
   "outputs": [
    {
     "data": {
      "image/png": "[encoded data removed]",
      "text/plain": [
       "<matplotlib.figure.Figure at 0x7f273e2f8748>"
      ]
     },
     "metadata": {},
     "output_type": "display_data"
    }
   ],
   "source": [
    "X_batch_input = X_batch[:, 0]\n",
    "X_batch_input = X_batch_input[mask_input.nonzero()].view((batch_size, 3, int(dim_x / 2), int(dim_x)))\n",
    "X_batch_input = Variable(X_batch_input).cuda()\n",
    "plot_gallery(X_batch_input.cpu().data, 8, 8, 1, 3)"
   ]
  },
  {
   "cell_type": "code",
   "execution_count": 306,
   "metadata": {},
   "outputs": [
    {
     "data": {
      "image/png": "[encoded data removed]",
      "text/plain": [
       "<matplotlib.figure.Figure at 0x7f273e2f8908>"
      ]
     },
     "metadata": {},
     "output_type": "display_data"
    }
   ],
   "source": [
    "plot_gallery(net4_group3(X_batch_input,\n",
    "                 keypoints=autoencoder_stickmans(Variable(y_batch[:, 1]).cuda())[1],\n",
    "                 embeddings=autoencoder_people(Variable(X_batch[:, 0]).cuda())[1]).cpu().data,\n",
    "             8, 8, 1, 3)"
   ]
  },
  {
   "cell_type": "code",
   "execution_count": 307,
   "metadata": {
    "scrolled": true
   },
   "outputs": [
    {
     "data": {
      "image/png": "[encoded data removed]",
      "text/plain": [
       "<matplotlib.figure.Figure at 0x7f273e293f60>"
      ]
     },
     "metadata": {},
     "output_type": "display_data"
    }
   ],
   "source": [
    "X_batch_output = X_batch[:, 1]\n",
    "X_batch_output = X_batch_output[mask_output.nonzero()].view((batch_size, 3, int(dim_x / 2), int(dim_x / 2)))\n",
    "plot_gallery(X_batch_output, 8, 8, 1, 3)"
   ]
  },
  {
   "cell_type": "code",
   "execution_count": null,
   "metadata": {
    "collapsed": true
   },
   "outputs": [],
   "source": []
  },
  {
   "cell_type": "code",
   "execution_count": 319,
   "metadata": {
    "collapsed": true
   },
   "outputs": [],
   "source": [
    "def train_group4_network(net, criterion, optimizer, mask_input, mask_output, shape_output, num_epochs):\n",
    "    train_loss = []\n",
    "    val_loss = []\n",
    "    \n",
    "    for epoch in range(num_epochs):\n",
    "        start_time = time.time()\n",
    "        net.train(True)\n",
    "        i = 0\n",
    "        for X_batch, y_batch in train_loader:\n",
    "            i += 1\n",
    "            if X_batch.shape[0] != batch_size:\n",
    "                continue\n",
    "            X_batch_input = X_batch[:, 0]\n",
    "            X_batch_input[(~mask_input).nonzero()] = 0\n",
    "            X_batch_input = Variable(X_batch_input).cuda()\n",
    "\n",
    "            X_batch_output = X_batch[:, 1]\n",
    "            X_batch_output = X_batch_output[mask_output.nonzero()].view(shape_output)\n",
    "            X_batch_output = Variable(X_batch_output).cuda()\n",
    "\n",
    "            output_img = net(X_batch_input,\n",
    "                                     keypoints=autoencoder_stickmans(Variable(y_batch[:, 1]).cuda())[1],\n",
    "                                     embeddings=autoencoder_people(Variable(X_batch[:, 0]).cuda())[1])\n",
    "            loss = criterion(output_img, X_batch_output)\n",
    "            loss.backward()\n",
    "            optimizer.step()\n",
    "            optimizer.zero_grad()\n",
    "            train_loss.append(loss.cpu().data.numpy()[0])\n",
    "\n",
    "        # And a full pass over the validation data:\n",
    "    #     autoencoder.train(False) # disable dropout / use averages for batch_norm\n",
    "    #     for X_batch, y_batch in val_loader:\n",
    "    #         X_batch_0 = Variable(y_batch[:, 0]).cuda()\n",
    "    #         output_img, _ = autoencoder(X_batch_0)\n",
    "    #         val_loss.append(criterion(output_img, X_batch_0).cpu().data.numpy()[0])\n",
    "    #         X_batch_1 = Variable(y_batch[:, 1]).cuda()\n",
    "    #         output_img, _ = autoencoder(X_batch_1)\n",
    "    #         val_loss.append(criterion(output_img, X_batch_1).cpu().data.numpy()[0])\n",
    "\n",
    "        print \n",
    "        print(\"Epoch {} of {} took {:.3f}s\".format(\n",
    "            epoch + 1, num_epochs, time.time() - start_time))\n",
    "        print(\"  training loss (in-iteration): \\t{:.6f}\".format(\n",
    "            np.mean(train_loss[-2 * len(train_loader):])))\n",
    "    #     print(\"  validation loss: \\t\\t\\t{:.6f}\".format(\n",
    "    #         np.mean(val_loss[-2 * len(val_loader):])))"
   ]
  },
  {
   "cell_type": "code",
   "execution_count": 340,
   "metadata": {},
   "outputs": [],
   "source": [
    "class Net4Group4(nn.Module):\n",
    "    \"\"\"\n",
    "        Network for predictions group 2 images based on group 1.\n",
    "        input size: 4x4\n",
    "        output size: 4x4\n",
    "    \"\"\"\n",
    "\n",
    "    def __init__(self, layers=[1], bottelneck_size=32):\n",
    "        super(Net4Group4, self).__init__()\n",
    "        \n",
    "        self.first_part = nn.Sequential(\n",
    "            nn.Conv2d(3, 16, kernel_size=2, stride=1, padding=1),\n",
    "            nn.MaxPool2d(2),\n",
    "            nn.ReLU(inplace=True),\n",
    "            nn.Conv2d(16, 32, kernel_size=3, padding=1),\n",
    "            nn.BatchNorm2d(32),\n",
    "            \n",
    "            nn.ReLU(inplace=True),\n",
    "        )\n",
    "\n",
    "        self.up_1 = nn.Sequential(\n",
    "            nn.ConvTranspose2d(64, 64, 1, stride=2)\n",
    "        )\n",
    "\n",
    "        self.conv_1 = nn.Sequential(\n",
    "            nn.Conv2d(64, 64, kernel_size=(2, 2), stride=1, padding=0),\n",
    "            nn.ReLU(),\n",
    "            nn.Conv2d(64, 64, kernel_size=(2, 2), stride=1, padding=0),\n",
    "            nn.BatchNorm2d(64),\n",
    "            nn.ReLU(),\n",
    "            nn.Conv2d(64, 3, kernel_size=(2, 2), stride=1, padding=0),\n",
    "            nn.Sigmoid()\n",
    "        )\n",
    "\n",
    "    def forward(self, x, keypoints, embeddings):\n",
    "        x = self.first_part(x)\n",
    "        x = torch.cat((x, keypoints, embeddings), dim=1)\n",
    "        x = self.up_1(x)\n",
    "        x = self.conv_1(x)\n",
    "        return x"
   ]
  },
  {
   "cell_type": "code",
   "execution_count": 362,
   "metadata": {
    "collapsed": true
   },
   "outputs": [],
   "source": [
    "mask_input_3 = np.zeros((batch_size, 3, dim_x, dim_x)).astype(bool)\n",
    "for m in range(batch_size):\n",
    "    for n in range(3):\n",
    "        for i in range(dim_x):\n",
    "            for j in range(dim_x):\n",
    "                if i % 2 == 0 or j % 2 == 0:\n",
    "                    mask_input_3[m][n][i][j] = True"
   ]
  },
  {
   "cell_type": "code",
   "execution_count": 363,
   "metadata": {
    "collapsed": true
   },
   "outputs": [],
   "source": [
    "mask_output_3 = np.zeros((batch_size, 3, dim_x, dim_x)).astype(bool)\n",
    "for m in range(batch_size):\n",
    "    for n in range(3):\n",
    "        for i in range(dim_x):\n",
    "            for j in range(dim_x):\n",
    "                if i % 2 == 1 and j % 2 == 1:\n",
    "                    mask_output_3[m][n][i][j] = True"
   ]
  },
  {
   "cell_type": "code",
   "execution_count": 343,
   "metadata": {},
   "outputs": [],
   "source": [
    "criterion = torch.nn.MSELoss()\n",
    "net4_group4 = Net4Group4().cuda()\n",
    "optimizer = optim.Adam(net4_group4.parameters(), lr=1e-3)"
   ]
  },
  {
   "cell_type": "code",
   "execution_count": 344,
   "metadata": {},
   "outputs": [
    {
     "name": "stdout",
     "output_type": "stream",
     "text": [
      "Epoch 1 of 100 took 42.841s\n",
      "  training loss (in-iteration): \t0.015678\n",
      "Epoch 2 of 100 took 43.864s\n",
      "  training loss (in-iteration): \t0.011817\n",
      "Epoch 3 of 100 took 45.041s\n",
      "  training loss (in-iteration): \t0.007518\n",
      "Epoch 4 of 100 took 44.261s\n",
      "  training loss (in-iteration): \t0.006845\n",
      "Epoch 5 of 100 took 42.551s\n",
      "  training loss (in-iteration): \t0.006491\n",
      "Epoch 6 of 100 took 42.373s\n",
      "  training loss (in-iteration): \t0.006247\n",
      "Epoch 7 of 100 took 43.562s\n",
      "  training loss (in-iteration): \t0.006060\n",
      "Epoch 8 of 100 took 43.679s\n",
      "  training loss (in-iteration): \t0.005906\n",
      "Epoch 9 of 100 took 43.410s\n",
      "  training loss (in-iteration): \t0.005773\n",
      "Epoch 10 of 100 took 44.620s\n",
      "  training loss (in-iteration): \t0.005650\n",
      "Epoch 11 of 100 took 42.912s\n",
      "  training loss (in-iteration): \t0.005543\n",
      "Epoch 12 of 100 took 44.131s\n",
      "  training loss (in-iteration): \t0.005446\n",
      "Epoch 13 of 100 took 43.266s\n",
      "  training loss (in-iteration): \t0.005356\n",
      "Epoch 14 of 100 took 44.248s\n",
      "  training loss (in-iteration): \t0.005278\n",
      "Epoch 15 of 100 took 43.180s\n",
      "  training loss (in-iteration): \t0.005206\n",
      "Epoch 16 of 100 took 42.912s\n",
      "  training loss (in-iteration): \t0.005137\n",
      "Epoch 17 of 100 took 42.893s\n",
      "  training loss (in-iteration): \t0.005075\n",
      "Epoch 18 of 100 took 42.968s\n",
      "  training loss (in-iteration): \t0.005011\n",
      "Epoch 19 of 100 took 45.824s\n",
      "  training loss (in-iteration): \t0.004944\n",
      "Epoch 20 of 100 took 51.136s\n",
      "  training loss (in-iteration): \t0.004887\n",
      "Epoch 21 of 100 took 55.708s\n",
      "  training loss (in-iteration): \t0.004837\n",
      "Epoch 22 of 100 took 46.289s\n",
      "  training loss (in-iteration): \t0.004785\n",
      "Epoch 23 of 100 took 43.964s\n",
      "  training loss (in-iteration): \t0.004730\n",
      "Epoch 24 of 100 took 43.620s\n",
      "  training loss (in-iteration): \t0.004683\n",
      "Epoch 25 of 100 took 42.654s\n",
      "  training loss (in-iteration): \t0.004632\n",
      "Epoch 26 of 100 took 44.597s\n",
      "  training loss (in-iteration): \t0.004583\n",
      "Epoch 27 of 100 took 44.806s\n",
      "  training loss (in-iteration): \t0.004542\n",
      "Epoch 28 of 100 took 44.058s\n",
      "  training loss (in-iteration): \t0.004494\n",
      "Epoch 29 of 100 took 43.098s\n",
      "  training loss (in-iteration): \t0.004450\n",
      "Epoch 30 of 100 took 43.803s\n",
      "  training loss (in-iteration): \t0.004419\n",
      "Epoch 31 of 100 took 42.686s\n",
      "  training loss (in-iteration): \t0.004385\n",
      "Epoch 32 of 100 took 42.463s\n",
      "  training loss (in-iteration): \t0.004350\n",
      "Epoch 33 of 100 took 42.893s\n",
      "  training loss (in-iteration): \t0.004324\n",
      "Epoch 34 of 100 took 43.998s\n",
      "  training loss (in-iteration): \t0.004298\n",
      "Epoch 35 of 100 took 43.144s\n",
      "  training loss (in-iteration): \t0.004270\n",
      "Epoch 36 of 100 took 45.284s\n",
      "  training loss (in-iteration): \t0.004243\n",
      "Epoch 37 of 100 took 42.905s\n",
      "  training loss (in-iteration): \t0.004209\n",
      "Epoch 38 of 100 took 44.124s\n",
      "  training loss (in-iteration): \t0.004165\n",
      "Epoch 39 of 100 took 43.038s\n",
      "  training loss (in-iteration): \t0.004117\n",
      "Epoch 40 of 100 took 42.733s\n",
      "  training loss (in-iteration): \t0.004079\n",
      "Epoch 41 of 100 took 42.588s\n",
      "  training loss (in-iteration): \t0.004045\n",
      "Epoch 42 of 100 took 42.833s\n",
      "  training loss (in-iteration): \t0.004012\n",
      "Epoch 43 of 100 took 43.497s\n",
      "  training loss (in-iteration): \t0.003984\n",
      "Epoch 44 of 100 took 43.896s\n",
      "  training loss (in-iteration): \t0.003965\n",
      "Epoch 45 of 100 took 43.452s\n",
      "  training loss (in-iteration): \t0.003953\n",
      "Epoch 46 of 100 took 43.136s\n",
      "  training loss (in-iteration): \t0.003936\n",
      "Epoch 47 of 100 took 43.461s\n",
      "  training loss (in-iteration): \t0.003916\n",
      "Epoch 48 of 100 took 43.820s\n",
      "  training loss (in-iteration): \t0.003889\n",
      "Epoch 49 of 100 took 42.434s\n",
      "  training loss (in-iteration): \t0.003858\n",
      "Epoch 50 of 100 took 43.336s\n",
      "  training loss (in-iteration): \t0.003834\n",
      "Epoch 51 of 100 took 43.616s\n",
      "  training loss (in-iteration): \t0.003815\n",
      "Epoch 52 of 100 took 44.188s\n",
      "  training loss (in-iteration): \t0.003790\n",
      "Epoch 53 of 100 took 44.119s\n",
      "  training loss (in-iteration): \t0.003755\n",
      "Epoch 54 of 100 took 46.123s\n",
      "  training loss (in-iteration): \t0.003726\n",
      "Epoch 55 of 100 took 45.551s\n",
      "  training loss (in-iteration): \t0.003700\n",
      "Epoch 56 of 100 took 44.151s\n",
      "  training loss (in-iteration): \t0.003673\n",
      "Epoch 57 of 100 took 45.046s\n",
      "  training loss (in-iteration): \t0.003654\n",
      "Epoch 58 of 100 took 42.888s\n",
      "  training loss (in-iteration): \t0.003646\n",
      "Epoch 59 of 100 took 42.647s\n",
      "  training loss (in-iteration): \t0.003643\n",
      "Epoch 60 of 100 took 47.043s\n",
      "  training loss (in-iteration): \t0.003641\n",
      "Epoch 61 of 100 took 50.082s\n",
      "  training loss (in-iteration): \t0.003633\n",
      "Epoch 62 of 100 took 50.576s\n",
      "  training loss (in-iteration): \t0.003617\n",
      "Epoch 63 of 100 took 50.718s\n",
      "  training loss (in-iteration): \t0.003602\n",
      "Epoch 64 of 100 took 42.391s\n",
      "  training loss (in-iteration): \t0.003589\n",
      "Epoch 65 of 100 took 42.328s\n",
      "  training loss (in-iteration): \t0.003577\n",
      "Epoch 66 of 100 took 43.055s\n",
      "  training loss (in-iteration): \t0.003556\n",
      "Epoch 67 of 100 took 43.482s\n",
      "  training loss (in-iteration): \t0.003527\n",
      "Epoch 68 of 100 took 44.209s\n",
      "  training loss (in-iteration): \t0.003504\n",
      "Epoch 69 of 100 took 43.683s\n",
      "  training loss (in-iteration): \t0.003492\n",
      "Epoch 70 of 100 took 42.805s\n",
      "  training loss (in-iteration): \t0.003481\n",
      "Epoch 71 of 100 took 42.461s\n",
      "  training loss (in-iteration): \t0.003473\n",
      "Epoch 72 of 100 took 43.174s\n",
      "  training loss (in-iteration): \t0.003460\n",
      "Epoch 73 of 100 took 43.346s\n",
      "  training loss (in-iteration): \t0.003438\n",
      "Epoch 74 of 100 took 43.662s\n",
      "  training loss (in-iteration): \t0.003419\n",
      "Epoch 75 of 100 took 44.330s\n",
      "  training loss (in-iteration): \t0.003395\n",
      "Epoch 76 of 100 took 43.143s\n",
      "  training loss (in-iteration): \t0.003373\n",
      "Epoch 77 of 100 took 44.771s\n",
      "  training loss (in-iteration): \t0.003362\n",
      "Epoch 78 of 100 took 43.754s\n",
      "  training loss (in-iteration): \t0.003348\n",
      "Epoch 79 of 100 took 43.705s\n",
      "  training loss (in-iteration): \t0.003330\n",
      "Epoch 80 of 100 took 43.266s\n",
      "  training loss (in-iteration): \t0.003318\n",
      "Epoch 81 of 100 took 42.520s\n",
      "  training loss (in-iteration): \t0.003312\n",
      "Epoch 82 of 100 took 42.460s\n",
      "  training loss (in-iteration): \t0.003306\n",
      "Epoch 83 of 100 took 44.132s\n",
      "  training loss (in-iteration): \t0.003290\n",
      "Epoch 84 of 100 took 43.738s\n",
      "  training loss (in-iteration): \t0.003281\n",
      "Epoch 85 of 100 took 44.324s\n",
      "  training loss (in-iteration): \t0.003287\n",
      "Epoch 86 of 100 took 43.639s\n",
      "  training loss (in-iteration): \t0.003297\n",
      "Epoch 87 of 100 took 43.444s\n",
      "  training loss (in-iteration): \t0.003303\n",
      "Epoch 88 of 100 took 43.656s\n",
      "  training loss (in-iteration): \t0.003291\n",
      "Epoch 89 of 100 took 44.906s\n",
      "  training loss (in-iteration): \t0.003268\n",
      "Epoch 90 of 100 took 43.171s\n",
      "  training loss (in-iteration): \t0.003253\n",
      "Epoch 91 of 100 took 42.560s\n",
      "  training loss (in-iteration): \t0.003237\n",
      "Epoch 92 of 100 took 45.077s\n",
      "  training loss (in-iteration): \t0.003216\n",
      "Epoch 93 of 100 took 49.374s\n",
      "  training loss (in-iteration): \t0.003198\n",
      "Epoch 94 of 100 took 50.932s\n",
      "  training loss (in-iteration): \t0.003179\n",
      "Epoch 95 of 100 took 47.142s\n",
      "  training loss (in-iteration): \t0.003159\n",
      "Epoch 96 of 100 took 46.255s\n",
      "  training loss (in-iteration): \t0.003144\n",
      "Epoch 97 of 100 took 47.251s\n",
      "  training loss (in-iteration): \t0.003124\n",
      "Epoch 98 of 100 took 44.233s\n",
      "  training loss (in-iteration): \t0.003101\n",
      "Epoch 99 of 100 took 43.480s\n",
      "  training loss (in-iteration): \t0.003091\n",
      "Epoch 100 of 100 took 42.218s\n",
      "  training loss (in-iteration): \t0.003090\n"
     ]
    }
   ],
   "source": [
    "train_group4_network(net4_group4, criterion, optimizer, mask_input_3, mask_output_3,\n",
    "              shape_output=(batch_size, 3, int(dim_x / 2), int(dim_x / 2)),\n",
    "              num_epochs=100\n",
    "             )"
   ]
  },
  {
   "cell_type": "code",
   "execution_count": 345,
   "metadata": {
    "scrolled": true
   },
   "outputs": [
    {
     "name": "stderr",
     "output_type": "stream",
     "text": [
      "/home/koloskov/anaconda3/lib/python3.6/site-packages/torch/serialization.py:159: UserWarning: Couldn't retrieve source code for container of type Net4Group4. It won't be checked for correctness upon loading.\n",
      "  \"type \" + obj.__name__ + \". It won't be checked \"\n"
     ]
    }
   ],
   "source": [
    "torch.save(net4_group4, \"net4.group4.pt\")"
   ]
  },
  {
   "cell_type": "code",
   "execution_count": 347,
   "metadata": {},
   "outputs": [
    {
     "data": {
      "image/png": "[encoded data removed]",
      "text/plain": [
       "<matplotlib.figure.Figure at 0x7f2748111f98>"
      ]
     },
     "metadata": {},
     "output_type": "display_data"
    }
   ],
   "source": [
    "X_batch_input = X_batch[:, 0].clone()\n",
    "X_batch_input[(~mask_input_3).nonzero()] = 0\n",
    "X_batch_input = Variable(X_batch_input).cuda()\n",
    "plot_gallery(X_batch_input.cpu().data, 8, 8, 1, 3)"
   ]
  },
  {
   "cell_type": "code",
   "execution_count": 357,
   "metadata": {
    "collapsed": true
   },
   "outputs": [],
   "source": [
    "mask_group_1 = np.zeros((batch_size, 3, dim_x, dim_x)).astype(bool)\n",
    "for m in range(batch_size):\n",
    "    for n in range(3):\n",
    "        for i in range(dim_x):\n",
    "            for j in range(dim_x):\n",
    "                if i % 2 == 0 and j % 2 == 0:\n",
    "                    mask_group_1[m][n][i][j] = True\n",
    "\n",
    "mask_group_2 = np.zeros((batch_size, 3, dim_x, dim_x)).astype(bool)\n",
    "for m in range(batch_size):\n",
    "    for n in range(3):\n",
    "        for i in range(dim_x):\n",
    "            for j in range(dim_x):\n",
    "                if i % 2 == 0 and j % 2 == 1:\n",
    "                    mask_group_2[m][n][i][j] = True\n",
    "\n",
    "mask_group_3 = np.zeros((batch_size, 3, dim_x, dim_x)).astype(bool)\n",
    "for m in range(batch_size):\n",
    "    for n in range(3):\n",
    "        for i in range(dim_x):\n",
    "            for j in range(dim_x):\n",
    "                if i % 2 == 1 and j % 2 == 0:\n",
    "                    mask_group_3[m][n][i][j] = True\n",
    "\n",
    "mask_group_4 = np.zeros((batch_size, 3, dim_x, dim_x)).astype(bool)\n",
    "for m in range(batch_size):\n",
    "    for n in range(3):\n",
    "        for i in range(dim_x):\n",
    "            for j in range(dim_x):\n",
    "                if i % 2 == 1 and j % 2 == 1:\n",
    "                    mask_group_4[m][n][i][j] = True"
   ]
  },
  {
   "cell_type": "code",
   "execution_count": 404,
   "metadata": {
    "collapsed": true
   },
   "outputs": [],
   "source": [
    "def convert_input_into_image(X_batch):\n",
    "    X_batch_input = X_batch[:, 0].clone()\n",
    "    X_batch_input = X_batch_input[mask_input_1.nonzero()].view((batch_size, 3, int(dim_x / 2), int(dim_x / 2)))\n",
    "    X_batch_input = Variable(X_batch_input).cuda()\n",
    "    \n",
    "    group_1 = X_batch_input\n",
    "    group_2 = net4_group2(X_batch_input,\n",
    "                 keypoints=autoencoder_stickmans(Variable(y_batch[:, 1]).cuda())[1],\n",
    "                 embeddings=autoencoder_people(Variable(X_batch[:, 0]).cuda())[1]).cpu().data\n",
    "    \n",
    "    X_batch_input = X_batch[:, 0].clone()\n",
    "    X_batch_input = X_batch_input[mask_input_2.nonzero()].view((batch_size, 3, int(dim_x / 2), int(dim_x)))\n",
    "    X_batch_input = Variable(X_batch_input).cuda()\n",
    "    \n",
    "    group_3 = net4_group3(X_batch_input,\n",
    "                 keypoints=autoencoder_stickmans(Variable(y_batch[:, 1]).cuda())[1],\n",
    "                 embeddings=autoencoder_people(Variable(X_batch[:, 0]).cuda())[1]).cpu().data\n",
    "    \n",
    "    X_batch_input = X_batch[:, 0].clone()\n",
    "    X_batch_input[(~mask_input_3).nonzero()] = 0\n",
    "    X_batch_input = Variable(X_batch_input).cuda()\n",
    "    \n",
    "    group_4 = net4_group4(X_batch_input,\n",
    "                 keypoints=autoencoder_stickmans(Variable(y_batch[:, 1]).cuda())[1],\n",
    "                 embeddings=autoencoder_people(Variable(X_batch[:, 0]).cuda())[1]).cpu().data\n",
    "    \n",
    "    final_image = torch.zeros_like(X_batch[:, 1]).double()\n",
    "    final_image[mask_group_1.nonzero()] = group_1.view(-1).cpu().data.double()\n",
    "    final_image[mask_group_2.nonzero()] = group_2.view(-1).double()\n",
    "    final_image[mask_group_3.nonzero()] = group_3.view(-1).double()\n",
    "    final_image[mask_group_4.nonzero()] = group_4.view(-1).double()\n",
    "    \n",
    "    plot_gallery(X_batch[:, 1], 8, 8, 1, 3)\n",
    "    plot_gallery(final_image, 8, 8, 1, 3)"
   ]
  },
  {
   "cell_type": "code",
   "execution_count": 405,
   "metadata": {},
   "outputs": [
    {
     "data": {
      "image/png": "[encoded data removed]",
      "text/plain": [
       "<matplotlib.figure.Figure at 0x7f273df81390>"
      ]
     },
     "metadata": {},
     "output_type": "display_data"
    },
    {
     "data": {
      "image/png": "[encoded data removed]",
      "text/plain": [
       "<matplotlib.figure.Figure at 0x7f273e10dcc0>"
      ]
     },
     "metadata": {},
     "output_type": "display_data"
    }
   ],
   "source": [
    "convert_input_into_image(X_batch)"
   ]
  },
  {
   "cell_type": "code",
   "execution_count": 402,
   "metadata": {},
   "outputs": [
    {
     "data": {
      "image/png": "[encoded data removed]",
      "text/plain": [
       "<matplotlib.figure.Figure at 0x7f273df12080>"
      ]
     },
     "metadata": {},
     "output_type": "display_data"
    },
    {
     "data": {
      "image/png": "[encoded data removed]",
      "text/plain": [
       "<matplotlib.figure.Figure at 0x7f273e038e48>"
      ]
     },
     "metadata": {},
     "output_type": "display_data"
    }
   ],
   "source": [
    "convert_input_into_image(X_batch)"
   ]
  },
  {
   "cell_type": "code",
   "execution_count": 400,
   "metadata": {
    "collapsed": true
   },
   "outputs": [],
   "source": [
    "for X_batch, y_batch in train_loader:\n",
    "    break"
   ]
  },
  {
   "cell_type": "code",
   "execution_count": 403,
   "metadata": {},
   "outputs": [
    {
     "data": {
      "image/png": "[encoded data removed]",
      "text/plain": [
       "<matplotlib.figure.Figure at 0x7f273e293390>"
      ]
     },
     "metadata": {},
     "output_type": "display_data"
    }
   ],
   "source": [
    "plot_gallery(X_batch[:, 0], 8, 8, 1, 3)"
   ]
  },
  {
   "cell_type": "code",
   "execution_count": 349,
   "metadata": {},
   "outputs": [
    {
     "data": {
      "image/png": "[encoded data removed]",
      "text/plain": [
       "<matplotlib.figure.Figure at 0x7f27481113c8>"
      ]
     },
     "metadata": {},
     "output_type": "display_data"
    }
   ],
   "source": [
    "plot_gallery(net4_group4(X_batch_input,\n",
    "                 keypoints=autoencoder_stickmans(Variable(y_batch[:, 1]).cuda())[1],\n",
    "                 embeddings=autoencoder_people(Variable(X_batch[:, 0]).cuda())[1]).cpu().data,\n",
    "             8, 8, 1, 3)"
   ]
  },
  {
   "cell_type": "code",
   "execution_count": 350,
   "metadata": {},
   "outputs": [
    {
     "data": {
      "image/png": "[encoded data removed]",
      "text/plain": [
       "<matplotlib.figure.Figure at 0x7f273e2dd668>"
      ]
     },
     "metadata": {},
     "output_type": "display_data"
    }
   ],
   "source": [
    "X_batch_output = X_batch[:, 1]\n",
    "X_batch_output = X_batch_output[mask_output.nonzero()].view((batch_size, 3, int(dim_x / 2), int(dim_x / 2)))\n",
    "plot_gallery(X_batch_output, 8, 8, 1, 3)"
   ]
  },
  {
   "cell_type": "code",
   "execution_count": null,
   "metadata": {
    "collapsed": true
   },
   "outputs": [],
   "source": []
  }
 ],
 "metadata": {
  "kernelspec": {
   "display_name": "Python 3",
   "language": "python",
   "name": "python3"
  },
  "language_info": {
   "codemirror_mode": {
    "name": "ipython",
    "version": 3
   },
   "file_extension": ".py",
   "mimetype": "text/x-python",
   "name": "python",
   "nbconvert_exporter": "python",
   "pygments_lexer": "ipython3",
   "version": "3.6.3"
  }
 },
 "nbformat": 4,
 "nbformat_minor": 2
}
