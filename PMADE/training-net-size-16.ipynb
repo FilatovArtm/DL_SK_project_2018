{
 "cells": [
  {
   "cell_type": "code",
   "execution_count": 1,
   "metadata": {
    "collapsed": true
   },
   "outputs": [],
   "source": [
    "import torch, torch.nn as nn\n",
    "import torch.nn.functional as F\n",
    "from torch.autograd import Variable\n",
    "import torch.optim as optim\n",
    "import numpy as np\n",
    "import matplotlib.pyplot as plt\n",
    "%matplotlib inline\n",
    "import pickle\n",
    "from loader import get_train_loader\n",
    "import time"
   ]
  },
  {
   "cell_type": "code",
   "execution_count": 2,
   "metadata": {
    "collapsed": true
   },
   "outputs": [],
   "source": [
    "from networks import *"
   ]
  },
  {
   "cell_type": "code",
   "execution_count": 3,
   "metadata": {
    "collapsed": true
   },
   "outputs": [],
   "source": [
    "autoencoder_people_4 = torch.load('autoencoder.people.4.pt')\n",
    "autoencoder_stickmans_4 = torch.load('autoencoder.stickmen.4.pt')\n",
    "autoencoder_people_8 = torch.load('autoencoder.people.8.pt')\n",
    "autoencoder_stickmans_8 = torch.load('autoencoder.stickmen.8.pt')\n",
    "autoencoder_people_16 = torch.load('autoencoder.people.16.pt')\n",
    "autoencoder_stickmans_16 = torch.load('autoencoder.stickmen.16.pt')"
   ]
  },
  {
   "cell_type": "code",
   "execution_count": 130,
   "metadata": {
    "collapsed": true
   },
   "outputs": [],
   "source": [
    "batch_size = 64\n",
    "mask4_group_1 = np.zeros((batch_size, 3, 8, 8)).astype(bool)\n",
    "for m in range(batch_size):\n",
    "    for n in range(3):\n",
    "        for i in range(8):\n",
    "            for j in range(8):\n",
    "                if i % 2 == 0 and j % 2 == 0:\n",
    "                    mask4_group_1[m][n][i][j] = True\n",
    "\n",
    "mask4_group_2 = np.zeros((batch_size, 3, 8, 8)).astype(bool)\n",
    "for m in range(batch_size):\n",
    "    for n in range(3):\n",
    "        for i in range(8):\n",
    "            for j in range(8):\n",
    "                if i % 2 == 0 and j % 2 == 1:\n",
    "                    mask4_group_2[m][n][i][j] = True\n",
    "\n",
    "mask4_group_3 = np.zeros((batch_size, 3, 8, 8)).astype(bool)\n",
    "for m in range(batch_size):\n",
    "    for n in range(3):\n",
    "        for i in range(8):\n",
    "            for j in range(8):\n",
    "                if i % 2 == 1 and j % 2 == 0:\n",
    "                    mask4_group_3[m][n][i][j] = True\n",
    "\n",
    "mask4_group_4 = np.zeros((batch_size, 3, 8, 8)).astype(bool)\n",
    "for m in range(batch_size):\n",
    "    for n in range(3):\n",
    "        for i in range(8):\n",
    "            for j in range(8):\n",
    "                if i % 2 == 1 and j % 2 == 1:\n",
    "                    mask4_group_4[m][n][i][j] = True\n",
    "                    \n",
    "                    \n",
    "\n",
    "mask8_group_1 = np.zeros((batch_size, 3, 16, 16)).astype(bool)\n",
    "for m in range(batch_size):\n",
    "    for n in range(3):\n",
    "        for i in range(16):\n",
    "            for j in range(16):\n",
    "                if i % 2 == 0 and j % 2 == 0:\n",
    "                    mask8_group_1[m][n][i][j] = True\n",
    "\n",
    "mask8_group_2 = np.zeros((batch_size, 3, 16, 16)).astype(bool)\n",
    "for m in range(batch_size):\n",
    "    for n in range(3):\n",
    "        for i in range(16):\n",
    "            for j in range(16):\n",
    "                if i % 2 == 0 and j % 2 == 1:\n",
    "                    mask8_group_2[m][n][i][j] = True\n",
    "\n",
    "mask8_group_3 = np.zeros((batch_size, 3, 16, 16)).astype(bool)\n",
    "for m in range(batch_size):\n",
    "    for n in range(3):\n",
    "        for i in range(16):\n",
    "            for j in range(16):\n",
    "                if i % 2 == 1 and j % 2 == 0:\n",
    "                    mask8_group_3[m][n][i][j] = True\n",
    "\n",
    "mask8_group_4 = np.zeros((batch_size, 3, 16, 16)).astype(bool)\n",
    "for m in range(batch_size):\n",
    "    for n in range(3):\n",
    "        for i in range(16):\n",
    "            for j in range(16):\n",
    "                if i % 2 == 1 and j % 2 == 1:\n",
    "                    mask8_group_4[m][n][i][j] = True"
   ]
  },
  {
   "cell_type": "code",
   "execution_count": 26,
   "metadata": {
    "collapsed": true
   },
   "outputs": [],
   "source": [
    "net4_group2 = torch.load(\"net4.group2.pt\")\n",
    "net4_group3 = torch.load(\"net4.group3.pt\")\n",
    "net4_group4 = torch.load(\"net4.group4.pt\")\n",
    "\n",
    "net8_group2 = torch.load(\"net8.group2.pt\")\n",
    "net8_group3 = torch.load(\"net8.group3.pt\")\n",
    "net8_group4 = torch.load(\"net8.group4.pt\")"
   ]
  },
  {
   "cell_type": "code",
   "execution_count": 27,
   "metadata": {
    "collapsed": true
   },
   "outputs": [],
   "source": [
    "def convert_input_into_image_4(X_batch_input_initial, y_batch_output, is_plot=False):\n",
    "    X_batch_input = X_batch_input_initial.clone()\n",
    "    X_batch_input = X_batch_input[mask4_group_1.nonzero()].view((batch_size, 3, 4, 4))\n",
    "    X_batch_input = Variable(X_batch_input).cuda()\n",
    "    \n",
    "    group_1 = X_batch_input.clone()\n",
    "    group_2 = net4_group2(X_batch_input,\n",
    "                 keypoints=autoencoder_stickmans_4(Variable(y_batch_output).cuda())[1],\n",
    "                 embeddings=autoencoder_people_4(Variable(X_batch_input_initial).cuda())[1]).cpu().data\n",
    "    \n",
    "    X_batch_input = X_batch_input_initial.clone()\n",
    "    X_batch_input = X_batch_input[(mask4_group_1 + mask4_group_2).nonzero()].view((batch_size, 3, 4, 8))\n",
    "    X_batch_input = Variable(X_batch_input).cuda()\n",
    "    \n",
    "    group_3 = net4_group3(X_batch_input,\n",
    "                 keypoints=autoencoder_stickmans_4(Variable(y_batch_output).cuda())[1],\n",
    "                 embeddings=autoencoder_people_4(Variable(X_batch_input_initial).cuda())[1]).cpu().data\n",
    "    \n",
    "    X_batch_input = X_batch_input_initial.clone()\n",
    "    X_batch_input[(mask4_group_4).nonzero()] = 0\n",
    "    X_batch_input = Variable(X_batch_input).cuda()\n",
    "    \n",
    "    group_4 = net4_group4(X_batch_input,\n",
    "                 keypoints=autoencoder_stickmans_4(Variable(y_batch_output).cuda())[1],\n",
    "                 embeddings=autoencoder_people_4(Variable(X_batch_input_initial).cuda())[1]).cpu().data\n",
    "    \n",
    "    final_image = torch.zeros_like(X_batch_input).cpu().data.float()\n",
    "    final_image[mask4_group_1.nonzero()] = group_1.view(-1).cpu().data.float()\n",
    "    final_image[mask4_group_2.nonzero()] = group_2.view(-1).float()\n",
    "    final_image[mask4_group_3.nonzero()] = group_3.view(-1).float()\n",
    "    final_image[mask4_group_4.nonzero()] = group_4.view(-1).float()\n",
    "#     if is_plot:\n",
    "#         plot_gallery(X_batch[:, 1], 8, 8, 1, 3)\n",
    "#         plot_gallery(final_image, 8, 8, 1, 3)\n",
    "    return final_image"
   ]
  },
  {
   "cell_type": "code",
   "execution_count": 69,
   "metadata": {
    "collapsed": true
   },
   "outputs": [],
   "source": [
    "mask_first_part_8 = np.zeros((batch_size, 3, 8, 16)).astype(bool)\n",
    "for m in range(batch_size):\n",
    "    for n in range(3):\n",
    "        for i in range(8):\n",
    "            for j in range(16):\n",
    "                if j % 2 == 0:\n",
    "                    mask_first_part_8[m][n][i][j] = True\n",
    "mask_second_part_8 = np.zeros((batch_size, 3, 8, 16)).astype(bool)\n",
    "for m in range(batch_size):\n",
    "    for n in range(3):\n",
    "        for i in range(8):\n",
    "            for j in range(16):\n",
    "                if j % 2 == 1:\n",
    "                    mask_second_part_8[m][n][i][j] = True\n",
    "\n",
    "def convert_input_into_image_8(X_batch_initial_input, y_batch_initial_output):\n",
    "    X_batch_input = X_batch_initial_input.clone()\n",
    "    X_batch_input = X_batch_input[mask8_group_1.nonzero()].view((batch_size, 3, 8, 8))\n",
    "\n",
    "    y_batch_output = y_batch_initial_output.clone()\n",
    "    y_batch_output = y_batch_output[mask8_group_1.nonzero()].view((batch_size, 3, 8, 8))\n",
    "\n",
    "    X_batch_input = convert_input_into_image_4(X_batch_input, y_batch_output)\n",
    "    \n",
    "    group_1 = X_batch_input\n",
    "    \n",
    "    group_2 = net8_group2(Variable(X_batch_input).cuda(),\n",
    "                 keypoints=autoencoder_stickmans_8(Variable(y_batch_initial_output).cuda())[1],\n",
    "                 embeddings=autoencoder_people_8(Variable(X_batch_initial_input).cuda())[1]).cpu().data\n",
    "    \n",
    "    X_cur_input = torch.zeros((batch_size, 3, 8, 16)).float()\n",
    "    X_cur_input[mask_first_part_8.nonzero()] = group_1.view(-1).float()\n",
    "    X_cur_input[mask_second_part_8.nonzero()] = group_2.view(-1).float()\n",
    "    group_3 = net8_group3(Variable(X_cur_input).cuda(),\n",
    "             keypoints=autoencoder_stickmans_8(Variable(y_batch_initial_output).cuda())[1],\n",
    "             embeddings=autoencoder_people_8(Variable(X_batch_initial_input).cuda())[1]).cpu().data\n",
    "    \n",
    "    X_cur_input = torch.zeros((batch_size, 3, 16, 16)).float()\n",
    "    X_cur_input[mask8_group_1.nonzero()] = group_1.view(-1).float()\n",
    "    X_cur_input[mask8_group_2.nonzero()] = group_2.view(-1).float()\n",
    "    X_cur_input[mask8_group_3.nonzero()] = group_3.view(-1).float()\n",
    "    \n",
    "    group_4 = net8_group4(Variable(X_cur_input).cuda(),\n",
    "                         keypoints=autoencoder_stickmans_8(Variable(y_batch_initial_output).cuda())[1],\n",
    "                         embeddings=autoencoder_people_8(Variable(X_batch_initial_input).cuda())[1]).cpu().data\n",
    "    \n",
    "    final_image = torch.zeros_like(y_batch_initial_output).float()\n",
    "    final_image[mask8_group_1.nonzero()] = group_1.view(-1).float()\n",
    "    final_image[mask8_group_2.nonzero()] = group_2.view(-1).float()\n",
    "    final_image[mask8_group_3.nonzero()] = group_3.view(-1).float()\n",
    "    final_image[mask8_group_4.nonzero()] = group_4.view(-1).float()\n",
    "    \n",
    "#     plot_gallery(X_batch[:, 0], 8, 8, 1, 3)\n",
    "#     plot_gallery(X_batch[:, 1], 8, 8, 1, 3)\n",
    "#     plot_gallery(final_image, 8, 8, 1, 3)\n",
    "    return final_image"
   ]
  },
  {
   "cell_type": "code",
   "execution_count": 58,
   "metadata": {
    "collapsed": true
   },
   "outputs": [],
   "source": [
    "dim_x = 32\n",
    "batch_size = 64\n",
    "train_loader, val_loader = get_train_loader(\"../deepfashion/index.p\", batch_size=batch_size, resize_size=dim_x)"
   ]
  },
  {
   "cell_type": "code",
   "execution_count": 83,
   "metadata": {
    "collapsed": true
   },
   "outputs": [],
   "source": [
    "class Net16Group2(nn.Module):\n",
    "    \"\"\"\n",
    "        Network for predictions group 2 images based on group 1.\n",
    "        input size: 4x4\n",
    "        output size: 4x4\n",
    "    \"\"\"\n",
    "\n",
    "    def __init__(self, layers=[1], bottelneck_size=32):\n",
    "        super(Net16Group2, self).__init__()\n",
    "        \n",
    "        self.first_part = nn.Sequential(\n",
    "            nn.Conv2d(3, 32, kernel_size=2, padding=0),\n",
    "            nn.BatchNorm2d(32),\n",
    "            nn.MaxPool2d(2),\n",
    "            nn.ReLU(inplace=True),\n",
    "            nn.Conv2d(32, 64, kernel_size=2, padding=1),\n",
    "            nn.BatchNorm2d(64),\n",
    "            nn.ReLU(inplace=True),\n",
    "            nn.Conv2d(64, 64, kernel_size=(3, 3), padding=1),\n",
    "            nn.ReLU(inplace=True)\n",
    "        )\n",
    "\n",
    "        self.up_1 = nn.Sequential(\n",
    "            nn.ConvTranspose2d(96, 64, 2, stride=2)\n",
    "        )\n",
    "\n",
    "        self.conv_1 = nn.Sequential(\n",
    "            nn.Conv2d(64, 64, kernel_size=(2, 2), padding=1),\n",
    "            nn.ReLU(),\n",
    "            nn.Conv2d(64, 64, kernel_size=(2, 2), padding=0),\n",
    "            nn.BatchNorm2d(64),\n",
    "            nn.ReLU(),\n",
    "            nn.Conv2d(64, 64, kernel_size=(2, 2), padding=1),\n",
    "            nn.ReLU()\n",
    "        )\n",
    "\n",
    "        self.conv_2 = nn.Sequential(\n",
    "            nn.Conv2d(64, 64, kernel_size=(2, 2), stride=1, padding=1),\n",
    "            nn.ReLU(),\n",
    "            nn.Conv2d(64, 64, kernel_size=(2, 2), stride=1, padding=0),\n",
    "            nn.BatchNorm2d(64),\n",
    "            nn.ReLU(),\n",
    "            nn.Conv2d(64, 3, kernel_size=(2, 2), stride=1, padding=0),\n",
    "            nn.Sigmoid()\n",
    "        )\n",
    "\n",
    "    def forward(self, x, keypoints, embeddings):\n",
    "        x = self.first_part(x)\n",
    "        x = torch.cat((x, keypoints, embeddings), dim=1)\n",
    "        x = self.up_1(x)\n",
    "        x = self.conv_1(x)\n",
    "        x = self.conv_2(x)\n",
    "        return x"
   ]
  },
  {
   "cell_type": "code",
   "execution_count": 84,
   "metadata": {
    "collapsed": true
   },
   "outputs": [],
   "source": [
    "mask_input_1 = np.zeros((batch_size, 3, dim_x, dim_x)).astype(bool)\n",
    "for m in range(batch_size):\n",
    "    for n in range(3):\n",
    "        for i in range(dim_x):\n",
    "            for j in range(dim_x):\n",
    "                if i % 2 == 0 and j % 2 ==0:\n",
    "                    mask_input_1[m][n][i][j] = True"
   ]
  },
  {
   "cell_type": "code",
   "execution_count": 85,
   "metadata": {
    "collapsed": true
   },
   "outputs": [],
   "source": [
    "mask_output_1 = np.zeros((batch_size, 3, dim_x, dim_x)).astype(bool)\n",
    "for m in range(batch_size):\n",
    "    for n in range(3):\n",
    "        for i in range(dim_x):\n",
    "            for j in range(dim_x):\n",
    "                if i % 2 == 0 and j % 2 == 1:\n",
    "                    mask_output_1[m][n][i][j] = True"
   ]
  },
  {
   "cell_type": "code",
   "execution_count": 86,
   "metadata": {
    "collapsed": true
   },
   "outputs": [],
   "source": [
    "criterion = torch.nn.MSELoss()\n",
    "net16_group2 = Net16Group2().cuda()\n",
    "optimizer = optim.Adam(net16_group2.parameters(), lr=1e-3)"
   ]
  },
  {
   "cell_type": "code",
   "execution_count": 87,
   "metadata": {
    "collapsed": true
   },
   "outputs": [],
   "source": [
    "def train_network(net, criterion, optimizer, mask_input, mask_output, shape_input, shape_output, num_epochs):\n",
    "    train_loss = []\n",
    "    val_loss = []\n",
    "    \n",
    "    for epoch in range(num_epochs):\n",
    "        start_time = time.time()\n",
    "        net.train(True)\n",
    "        i = 0\n",
    "        for X_batch, y_batch in train_loader:\n",
    "            i += 1\n",
    "            if X_batch.shape[0] != batch_size:\n",
    "                continue\n",
    "            X_batch_input = X_batch[:, 0]\n",
    "            X_batch_input = X_batch_input[mask_input.nonzero()].view(shape_input)\n",
    "            \n",
    "            y_batch_output = y_batch[:, 1]\n",
    "            y_batch_output = y_batch_output[mask_input.nonzero()].view(shape_input)\n",
    "            \n",
    "            X_batch_input = Variable(convert_input_into_image_8(X_batch_input, y_batch_output)).cuda()\n",
    "\n",
    "            X_batch_output = X_batch[:, 1]\n",
    "            X_batch_output = X_batch_output[mask_output.nonzero()].view(shape_output)\n",
    "            X_batch_output = Variable(X_batch_output).cuda()\n",
    "\n",
    "            output_img = net(X_batch_input,\n",
    "                                     keypoints=autoencoder_stickmans_16(Variable(y_batch[:, 1]).cuda())[1],\n",
    "                                     embeddings=autoencoder_people_16(Variable(X_batch[:, 0]).cuda())[1])\n",
    "            loss = criterion(output_img, X_batch_output)\n",
    "            loss.backward()\n",
    "            optimizer.step()\n",
    "            optimizer.zero_grad()\n",
    "            train_loss.append(loss.cpu().data.numpy()[0])\n",
    "\n",
    "        # And a full pass over the validation data:\n",
    "    #     autoencoder.train(False) # disable dropout / use averages for batch_norm\n",
    "    #     for X_batch, y_batch in val_loader:\n",
    "    #         X_batch_0 = Variable(y_batch[:, 0]).cuda()\n",
    "    #         output_img, _ = autoencoder(X_batch_0)\n",
    "    #         val_loss.append(criterion(output_img, X_batch_0).cpu().data.numpy()[0])\n",
    "    #         X_batch_1 = Variable(y_batch[:, 1]).cuda()\n",
    "    #         output_img, _ = autoencoder(X_batch_1)\n",
    "    #         val_loss.append(criterion(output_img, X_batch_1).cpu().data.numpy()[0])\n",
    "\n",
    "        print \n",
    "        print(\"Epoch {} of {} took {:.3f}s\".format(\n",
    "            epoch + 1, num_epochs, time.time() - start_time))\n",
    "        print(\"  training loss (in-iteration): \\t{:.6f}\".format(\n",
    "            np.mean(train_loss[-2 * len(train_loader):])))\n",
    "    #     print(\"  validation loss: \\t\\t\\t{:.6f}\".format(\n",
    "    #         np.mean(val_loss[-2 * len(val_loader):])))"
   ]
  },
  {
   "cell_type": "code",
   "execution_count": null,
   "metadata": {},
   "outputs": [
    {
     "name": "stdout",
     "output_type": "stream",
     "text": [
      "Epoch 1 of 200 took 60.222s\n",
      "  training loss (in-iteration): \t0.010461\n",
      "Epoch 2 of 200 took 59.364s\n",
      "  training loss (in-iteration): \t0.010392\n",
      "Epoch 3 of 200 took 67.030s\n",
      "  training loss (in-iteration): \t0.010266\n",
      "Epoch 4 of 200 took 91.134s\n",
      "  training loss (in-iteration): \t0.010150\n",
      "Epoch 5 of 200 took 83.484s\n",
      "  training loss (in-iteration): \t0.010032\n",
      "Epoch 6 of 200 took 76.592s\n",
      "  training loss (in-iteration): \t0.009913\n",
      "Epoch 7 of 200 took 60.543s\n",
      "  training loss (in-iteration): \t0.009815\n",
      "Epoch 8 of 200 took 59.300s\n",
      "  training loss (in-iteration): \t0.009723\n",
      "Epoch 9 of 200 took 60.387s\n",
      "  training loss (in-iteration): \t0.009619\n",
      "Epoch 10 of 200 took 59.711s\n",
      "  training loss (in-iteration): \t0.009520\n",
      "Epoch 11 of 200 took 61.373s\n",
      "  training loss (in-iteration): \t0.009436\n",
      "Epoch 12 of 200 took 61.270s\n",
      "  training loss (in-iteration): \t0.009354\n",
      "Epoch 13 of 200 took 62.042s\n",
      "  training loss (in-iteration): \t0.009271\n",
      "Epoch 14 of 200 took 59.564s\n",
      "  training loss (in-iteration): \t0.009178\n",
      "Epoch 15 of 200 took 59.993s\n",
      "  training loss (in-iteration): \t0.009089\n",
      "Epoch 16 of 200 took 61.784s\n",
      "  training loss (in-iteration): \t0.009013\n",
      "Epoch 17 of 200 took 60.135s\n",
      "  training loss (in-iteration): \t0.008945\n",
      "Epoch 18 of 200 took 58.477s\n",
      "  training loss (in-iteration): \t0.008881\n",
      "Epoch 19 of 200 took 61.301s\n",
      "  training loss (in-iteration): \t0.008828\n",
      "Epoch 20 of 200 took 61.038s\n",
      "  training loss (in-iteration): \t0.008772\n",
      "Epoch 21 of 200 took 58.817s\n",
      "  training loss (in-iteration): \t0.008684\n",
      "Epoch 22 of 200 took 59.792s\n",
      "  training loss (in-iteration): \t0.008593\n"
     ]
    }
   ],
   "source": [
    "train_network(net16_group2, criterion, optimizer, mask_input_1, mask_output_1,\n",
    "              shape_input=(batch_size, 3, int(dim_x / 2), int(dim_x / 2)),\n",
    "              shape_output=(batch_size, 3, int(dim_x / 2), int(dim_x / 2)),\n",
    "              num_epochs=200\n",
    "             )"
   ]
  },
  {
   "cell_type": "code",
   "execution_count": 90,
   "metadata": {},
   "outputs": [
    {
     "name": "stdout",
     "output_type": "stream",
     "text": [
      "Epoch 1 of 1 took 62.069s\n",
      "  training loss (in-iteration): \t0.005138\n"
     ]
    }
   ],
   "source": [
    "train_network(net16_group2, criterion, optimizer, mask_input_1, mask_output_1,\n",
    "              shape_input=(batch_size, 3, int(dim_x / 2), int(dim_x / 2)),\n",
    "              shape_output=(batch_size, 3, int(dim_x / 2), int(dim_x / 2)),\n",
    "              num_epochs=1\n",
    "             )"
   ]
  },
  {
   "cell_type": "code",
   "execution_count": 91,
   "metadata": {
    "scrolled": true
   },
   "outputs": [
    {
     "name": "stderr",
     "output_type": "stream",
     "text": [
      "/home/koloskov/anaconda3/lib/python3.6/site-packages/torch/serialization.py:159: UserWarning: Couldn't retrieve source code for container of type Net16Group2. It won't be checked for correctness upon loading.\n",
      "  \"type \" + obj.__name__ + \". It won't be checked \"\n"
     ]
    }
   ],
   "source": [
    "torch.save(net16_group2, \"net16.group2.pt\")"
   ]
  },
  {
   "cell_type": "code",
   "execution_count": 16,
   "metadata": {
    "collapsed": true
   },
   "outputs": [],
   "source": [
    "# net8_group2 = torch.load(\"net16.group2.pt\")"
   ]
  },
  {
   "cell_type": "code",
   "execution_count": 424,
   "metadata": {
    "collapsed": true
   },
   "outputs": [],
   "source": [
    "for X_batch, y_batch in train_loader:\n",
    "    break"
   ]
  },
  {
   "cell_type": "code",
   "execution_count": 330,
   "metadata": {
    "collapsed": true
   },
   "outputs": [],
   "source": [
    "X_batch_input = X_batch[:, 0]\n",
    "X_batch_input = X_batch_input[mask_input_1.nonzero()].view((batch_size, 3, int(dim_x / 2), int(dim_x / 2)))\n",
    "X_batch_input = Variable(X_batch_input).cuda()"
   ]
  },
  {
   "cell_type": "code",
   "execution_count": 331,
   "metadata": {
    "scrolled": true
   },
   "outputs": [
    {
     "data": {
      "image/png": "[encoded data removed]",
      "text/plain": [
       "<matplotlib.figure.Figure at 0x7f9b003b1278>"
      ]
     },
     "metadata": {},
     "output_type": "display_data"
    }
   ],
   "source": [
    "plot_gallery(X_batch_input.cpu().data, 8, 8, 1, 3)"
   ]
  },
  {
   "cell_type": "code",
   "execution_count": 332,
   "metadata": {
    "scrolled": false
   },
   "outputs": [
    {
     "data": {
      "image/png": "[encoded data removed]",
      "text/plain": [
       "<matplotlib.figure.Figure at 0x7f9b00991358>"
      ]
     },
     "metadata": {},
     "output_type": "display_data"
    }
   ],
   "source": [
    "X_batch_input = X_batch[:, 0]\n",
    "X_batch_input = X_batch_input[mask_input_1.nonzero()].view((batch_size, 3, int(dim_x / 2), int(dim_x / 2)))\n",
    "\n",
    "y_batch_output = y_batch[:, 1]\n",
    "y_batch_output = y_batch_output[mask_input_1.nonzero()].view((batch_size, 3, int(dim_x / 2), int(dim_x / 2)))\n",
    "\n",
    "X_batch_input = Variable(convert_input_into_image_4(X_batch_input, y_batch_output)).cuda()\n",
    "\n",
    "X_batch_output = X_batch[:, 1]\n",
    "X_batch_output = X_batch_output[mask_output_1.nonzero()].view((batch_size, 3, int(dim_x / 2), int(dim_x / 2)))\n",
    "X_batch_output = Variable(X_batch_output).cuda()\n",
    "plot_gallery(net8_group2(X_batch_input,\n",
    "                 keypoints=autoencoder_stickmans_8(Variable(y_batch[:, 1]).cuda())[1],\n",
    "                 embeddings=autoencoder_people_8(Variable(X_batch[:, 0]).cuda())[1]).cpu().data,\n",
    "             8, 8, 1, 3)"
   ]
  },
  {
   "cell_type": "code",
   "execution_count": 333,
   "metadata": {
    "collapsed": true
   },
   "outputs": [],
   "source": [
    "X_batch_output = X_batch[:, 1]\n",
    "X_batch_output = X_batch_output[mask_output_1.nonzero()].view((batch_size, 3, int(dim_x / 2), int(dim_x / 2)))"
   ]
  },
  {
   "cell_type": "code",
   "execution_count": 334,
   "metadata": {},
   "outputs": [
    {
     "data": {
      "image/png": "[encoded data removed]",
      "text/plain": [
       "<matplotlib.figure.Figure at 0x7f9b00160cf8>"
      ]
     },
     "metadata": {},
     "output_type": "display_data"
    }
   ],
   "source": [
    "plot_gallery(X_batch_output, 8, 8, 1, 3)"
   ]
  },
  {
   "cell_type": "code",
   "execution_count": 121,
   "metadata": {
    "collapsed": true
   },
   "outputs": [],
   "source": [
    "class Net16Group3(nn.Module):\n",
    "    \"\"\"\n",
    "        Network for predictions group 2 images based on group 1.\n",
    "        input size: 4x4\n",
    "        output size: 4x4\n",
    "    \"\"\"\n",
    "\n",
    "    def __init__(self, layers=[1], bottelneck_size=32):\n",
    "        super(Net16Group3, self).__init__()\n",
    "        \n",
    "        self.first_part = nn.Sequential(\n",
    "            nn.Conv2d(3, 32, kernel_size=2, padding=0),\n",
    "            nn.MaxPool2d(2),\n",
    "            nn.ReLU(inplace=True),\n",
    "            nn.Conv2d(32, 32, kernel_size=(1, 3), stride=1, padding=1),\n",
    "            nn.BatchNorm2d(32),\n",
    "            nn.ReLU(inplace=True),\n",
    "            nn.Conv2d(32, 64, kernel_size=2, padding=1),\n",
    "            nn.BatchNorm2d(64),\n",
    "            nn.ReLU(inplace=True),\n",
    "            nn.Conv2d(64, 64, kernel_size=(1, 3)),\n",
    "            nn.ReLU(inplace=True),\n",
    "            nn.Conv2d(64, 64, kernel_size=(3, 3), padding=0),\n",
    "            nn.BatchNorm2d(64),\n",
    "            nn.ReLU(inplace=True),\n",
    "            nn.Conv2d(64, 64, kernel_size=(1, 3)),\n",
    "            nn.ReLU(inplace=True),\n",
    "            nn.Conv2d(64, 64, kernel_size=(1, 3)),\n",
    "            nn.ReLU(inplace=True)\n",
    "        )\n",
    "\n",
    "        self.up_1 = nn.Sequential(\n",
    "            nn.ConvTranspose2d(96, 64, 2, stride=2)\n",
    "        )\n",
    "\n",
    "        self.conv_1 = nn.Sequential(\n",
    "            nn.Conv2d(64, 64, kernel_size=(2, 2), padding=1),\n",
    "            nn.ReLU(),\n",
    "            nn.Conv2d(64, 64, kernel_size=(2, 2), padding=0),\n",
    "            nn.BatchNorm2d(64),\n",
    "            nn.ReLU(),\n",
    "            nn.Conv2d(64, 64, kernel_size=(2, 2), padding=1),\n",
    "            nn.ReLU()\n",
    "        )\n",
    "\n",
    "        self.conv_2 = nn.Sequential(\n",
    "            nn.Conv2d(64, 64, kernel_size=(2, 2), stride=1, padding=1),\n",
    "            nn.ReLU(),\n",
    "            nn.Conv2d(64, 64, kernel_size=(2, 2), stride=1, padding=0),\n",
    "            nn.BatchNorm2d(64),\n",
    "            nn.ReLU(),\n",
    "            nn.Conv2d(64, 3, kernel_size=(2, 2), stride=1, padding=0),\n",
    "            nn.Sigmoid()\n",
    "        )\n",
    "\n",
    "    def forward(self, x, keypoints, embeddings):\n",
    "        x = self.first_part(x)\n",
    "#         print(x.shape)\n",
    "        x = torch.cat((x, keypoints, embeddings), dim=1)\n",
    "        x = self.up_1(x)\n",
    "        x = self.conv_1(x)\n",
    "        x = self.conv_2(x)\n",
    "        return x"
   ]
  },
  {
   "cell_type": "code",
   "execution_count": 120,
   "metadata": {
    "collapsed": true
   },
   "outputs": [],
   "source": [
    "def train_network_group_3(net, criterion, optimizer, mask_input, mask_output, shape_input, shape_output, num_epochs):\n",
    "    train_loss = []\n",
    "    val_loss = []\n",
    "    \n",
    "    mask_first_part = np.zeros((batch_size, 3, int(dim_x / 2), dim_x)).astype(bool)\n",
    "    for m in range(batch_size):\n",
    "        for n in range(3):\n",
    "            for i in range(int(dim_x/2)):\n",
    "                for j in range(dim_x):\n",
    "                    if j % 2 == 0:\n",
    "                        mask_first_part[m][n][i][j] = True\n",
    "    mask_second_part = np.zeros((batch_size, 3, int(dim_x / 2), dim_x)).astype(bool)\n",
    "    for m in range(batch_size):\n",
    "        for n in range(3):\n",
    "            for i in range(int(dim_x/2)):\n",
    "                for j in range(dim_x):\n",
    "                    if j % 2 == 1:\n",
    "                        mask_second_part[m][n][i][j] = True\n",
    "    \n",
    "    for epoch in range(num_epochs):\n",
    "        start_time = time.time()\n",
    "        net.train(True)\n",
    "        i = 0\n",
    "        for X_batch, y_batch in train_loader:\n",
    "            i += 1\n",
    "            if X_batch.shape[0] != batch_size:\n",
    "                continue\n",
    "            X_batch_input = X_batch[:, 0]\n",
    "            X_batch_input = X_batch_input[mask_input.nonzero()].view(shape_output)\n",
    "            \n",
    "            y_batch_output = y_batch[:, 1]\n",
    "            y_batch_output = y_batch_output[mask_input.nonzero()].view(shape_output)\n",
    "            \n",
    "            X_batch_input = Variable(convert_input_into_image_8(X_batch_input, y_batch_output)).cuda()\n",
    "            X_batch_group_2 = net16_group2(X_batch_input,\n",
    "                 keypoints=autoencoder_stickmans_16(Variable(y_batch[:, 1]).cuda())[1],\n",
    "                 embeddings=autoencoder_people_16(Variable(X_batch[:, 0]).cuda())[1])\n",
    "#             print(X_batch_input.shape)\n",
    "#             print(X_batch_group_2.shape)\n",
    "            X_cur_input = Variable(torch.zeros(shape_input)).cuda().float()\n",
    "            X_cur_input[mask_first_part.nonzero()] = X_batch_input.view(-1).float()\n",
    "            X_cur_input[mask_second_part.nonzero()] = X_batch_group_2.view(-1).float()\n",
    "#             print(X_cur_input.shape)\n",
    "            X_batch_output = X_batch[:, 1]\n",
    "            X_batch_output = X_batch_output[mask_output.nonzero()].view(shape_output)\n",
    "            X_batch_output = Variable(X_batch_output).cuda()\n",
    "\n",
    "            output_img = net(X_cur_input,\n",
    "                                     keypoints=autoencoder_stickmans_16(Variable(y_batch[:, 1]).cuda())[1],\n",
    "                                     embeddings=autoencoder_people_16(Variable(X_batch[:, 0]).cuda())[1])\n",
    "            loss = criterion(output_img, X_batch_output)\n",
    "            loss.backward()\n",
    "            optimizer.step()\n",
    "            optimizer.zero_grad()\n",
    "            train_loss.append(loss.cpu().data.numpy()[0])\n",
    "\n",
    "        # And a full pass over the validation data:\n",
    "    #     autoencoder.train(False) # disable dropout / use averages for batch_norm\n",
    "    #     for X_batch, y_batch in val_loader:\n",
    "    #         X_batch_0 = Variable(y_batch[:, 0]).cuda()\n",
    "    #         output_img, _ = autoencoder(X_batch_0)\n",
    "    #         val_loss.append(criterion(output_img, X_batch_0).cpu().data.numpy()[0])\n",
    "    #         X_batch_1 = Variable(y_batch[:, 1]).cuda()\n",
    "    #         output_img, _ = autoencoder(X_batch_1)\n",
    "    #         val_loss.append(criterion(output_img, X_batch_1).cpu().data.numpy()[0])\n",
    "\n",
    "        print \n",
    "        print(\"Epoch {} of {} took {:.3f}s\".format(\n",
    "            epoch + 1, num_epochs, time.time() - start_time))\n",
    "        print(\"  training loss (in-iteration): \\t{:.6f}\".format(\n",
    "            np.mean(train_loss[-2 * len(train_loader):])))\n",
    "    #     print(\"  validation loss: \\t\\t\\t{:.6f}\".format(\n",
    "    #         np.mean(val_loss[-2 * len(val_loader):])))"
   ]
  },
  {
   "cell_type": "code",
   "execution_count": 115,
   "metadata": {
    "collapsed": true
   },
   "outputs": [],
   "source": [
    "# mask_input_2 = np.zeros((batch_size, 3, dim_x, dim_x)).astype(bool)\n",
    "# for m in range(batch_size):\n",
    "#     for n in range(3):\n",
    "#         for i in range(dim_x):\n",
    "#             for j in range(dim_x):\n",
    "#                 if i % 2 == 0:\n",
    "#                     mask_input_2[m][n][i][j] = True"
   ]
  },
  {
   "cell_type": "code",
   "execution_count": 116,
   "metadata": {
    "collapsed": true
   },
   "outputs": [],
   "source": [
    "mask_output_2 = np.zeros((batch_size, 3, dim_x, dim_x)).astype(bool)\n",
    "for m in range(batch_size):\n",
    "    for n in range(3):\n",
    "        for i in range(dim_x):\n",
    "            for j in range(dim_x):\n",
    "                if i % 2 == 1 and j % 2 == 0:\n",
    "                    mask_output_2[m][n][i][j] = True"
   ]
  },
  {
   "cell_type": "code",
   "execution_count": 123,
   "metadata": {
    "collapsed": true
   },
   "outputs": [],
   "source": [
    "criterion = torch.nn.MSELoss()\n",
    "net16_group3 = Net16Group3().cuda()\n",
    "optimizer = optim.Adam(net16_group3.parameters(), lr=1e-3)"
   ]
  },
  {
   "cell_type": "code",
   "execution_count": 124,
   "metadata": {},
   "outputs": [
    {
     "name": "stdout",
     "output_type": "stream",
     "text": [
      "Epoch 1 of 100 took 65.663s\n",
      "  training loss (in-iteration): \t0.023012\n",
      "Epoch 2 of 100 took 67.341s\n",
      "  training loss (in-iteration): \t0.016831\n",
      "Epoch 3 of 100 took 66.272s\n",
      "  training loss (in-iteration): \t0.009960\n",
      "Epoch 4 of 100 took 64.322s\n",
      "  training loss (in-iteration): \t0.008999\n",
      "Epoch 5 of 100 took 69.305s\n",
      "  training loss (in-iteration): \t0.008588\n",
      "Epoch 6 of 100 took 68.688s\n",
      "  training loss (in-iteration): \t0.008323\n",
      "Epoch 7 of 100 took 66.699s\n",
      "  training loss (in-iteration): \t0.008122\n",
      "Epoch 8 of 100 took 67.570s\n",
      "  training loss (in-iteration): \t0.007940\n",
      "Epoch 9 of 100 took 68.324s\n",
      "  training loss (in-iteration): \t0.007783\n",
      "Epoch 10 of 100 took 69.963s\n",
      "  training loss (in-iteration): \t0.007645\n",
      "Epoch 11 of 100 took 67.807s\n",
      "  training loss (in-iteration): \t0.007523\n",
      "Epoch 12 of 100 took 67.325s\n",
      "  training loss (in-iteration): \t0.007422\n",
      "Epoch 13 of 100 took 67.352s\n",
      "  training loss (in-iteration): \t0.007326\n",
      "Epoch 14 of 100 took 67.286s\n",
      "  training loss (in-iteration): \t0.007233\n",
      "Epoch 15 of 100 took 70.280s\n",
      "  training loss (in-iteration): \t0.007152\n",
      "Epoch 16 of 100 took 68.040s\n",
      "  training loss (in-iteration): \t0.007079\n",
      "Epoch 17 of 100 took 66.043s\n",
      "  training loss (in-iteration): \t0.007010\n",
      "Epoch 18 of 100 took 66.157s\n",
      "  training loss (in-iteration): \t0.006954\n",
      "Epoch 19 of 100 took 65.012s\n",
      "  training loss (in-iteration): \t0.006917\n",
      "Epoch 20 of 100 took 66.802s\n",
      "  training loss (in-iteration): \t0.006860\n",
      "Epoch 21 of 100 took 63.130s\n",
      "  training loss (in-iteration): \t0.006780\n",
      "Epoch 22 of 100 took 69.315s\n",
      "  training loss (in-iteration): \t0.006725\n",
      "Epoch 23 of 100 took 73.037s\n",
      "  training loss (in-iteration): \t0.006688\n",
      "Epoch 24 of 100 took 68.601s\n",
      "  training loss (in-iteration): \t0.006628\n",
      "Epoch 25 of 100 took 69.852s\n",
      "  training loss (in-iteration): \t0.006551\n",
      "Epoch 26 of 100 took 69.031s\n",
      "  training loss (in-iteration): \t0.006476\n",
      "Epoch 27 of 100 took 71.130s\n",
      "  training loss (in-iteration): \t0.006414\n",
      "Epoch 28 of 100 took 70.008s\n",
      "  training loss (in-iteration): \t0.006362\n",
      "Epoch 29 of 100 took 69.645s\n",
      "  training loss (in-iteration): \t0.006308\n",
      "Epoch 30 of 100 took 65.651s\n",
      "  training loss (in-iteration): \t0.006258\n",
      "Epoch 31 of 100 took 65.099s\n",
      "  training loss (in-iteration): \t0.006237\n",
      "Epoch 32 of 100 took 66.422s\n",
      "  training loss (in-iteration): \t0.006238\n",
      "Epoch 33 of 100 took 64.154s\n",
      "  training loss (in-iteration): \t0.006236\n",
      "Epoch 34 of 100 took 64.177s\n",
      "  training loss (in-iteration): \t0.006223\n",
      "Epoch 35 of 100 took 65.770s\n",
      "  training loss (in-iteration): \t0.006171\n",
      "Epoch 36 of 100 took 66.916s\n",
      "  training loss (in-iteration): \t0.006102\n",
      "Epoch 37 of 100 took 65.581s\n",
      "  training loss (in-iteration): \t0.006057\n",
      "Epoch 38 of 100 took 67.307s\n",
      "  training loss (in-iteration): \t0.006034\n",
      "Epoch 39 of 100 took 67.087s\n",
      "  training loss (in-iteration): \t0.006006\n",
      "Epoch 40 of 100 took 70.266s\n",
      "  training loss (in-iteration): \t0.005973\n",
      "Epoch 41 of 100 took 69.554s\n",
      "  training loss (in-iteration): \t0.005919\n",
      "Epoch 42 of 100 took 70.517s\n",
      "  training loss (in-iteration): \t0.005838\n",
      "Epoch 43 of 100 took 71.560s\n",
      "  training loss (in-iteration): \t0.005762\n",
      "Epoch 44 of 100 took 68.935s\n",
      "  training loss (in-iteration): \t0.005708\n",
      "Epoch 45 of 100 took 67.374s\n",
      "  training loss (in-iteration): \t0.005681\n",
      "Epoch 46 of 100 took 69.966s\n",
      "  training loss (in-iteration): \t0.005668\n",
      "Epoch 47 of 100 took 69.308s\n",
      "  training loss (in-iteration): \t0.005650\n",
      "Epoch 48 of 100 took 68.103s\n",
      "  training loss (in-iteration): \t0.005638\n",
      "Epoch 49 of 100 took 68.730s\n",
      "  training loss (in-iteration): \t0.005630\n",
      "Epoch 50 of 100 took 65.668s\n",
      "  training loss (in-iteration): \t0.005619\n",
      "Epoch 51 of 100 took 63.415s\n",
      "  training loss (in-iteration): \t0.005604\n",
      "Epoch 52 of 100 took 61.696s\n",
      "  training loss (in-iteration): \t0.005575\n",
      "Epoch 53 of 100 took 64.932s\n",
      "  training loss (in-iteration): \t0.005526\n",
      "Epoch 54 of 100 took 66.331s\n",
      "  training loss (in-iteration): \t0.005460\n",
      "Epoch 55 of 100 took 68.500s\n",
      "  training loss (in-iteration): \t0.005409\n",
      "Epoch 56 of 100 took 66.755s\n",
      "  training loss (in-iteration): \t0.005370\n",
      "Epoch 57 of 100 took 64.477s\n",
      "  training loss (in-iteration): \t0.005330\n",
      "Epoch 58 of 100 took 63.695s\n",
      "  training loss (in-iteration): \t0.005297\n",
      "Epoch 59 of 100 took 65.253s\n",
      "  training loss (in-iteration): \t0.005271\n",
      "Epoch 60 of 100 took 64.964s\n",
      "  training loss (in-iteration): \t0.005252\n",
      "Epoch 61 of 100 took 66.161s\n",
      "  training loss (in-iteration): \t0.005251\n",
      "Epoch 62 of 100 took 63.916s\n",
      "  training loss (in-iteration): \t0.005254\n",
      "Epoch 63 of 100 took 65.959s\n",
      "  training loss (in-iteration): \t0.005243\n",
      "Epoch 64 of 100 took 68.482s\n",
      "  training loss (in-iteration): \t0.005214\n",
      "Epoch 65 of 100 took 70.705s\n",
      "  training loss (in-iteration): \t0.005175\n",
      "Epoch 66 of 100 took 70.552s\n",
      "  training loss (in-iteration): \t0.005139\n",
      "Epoch 67 of 100 took 68.567s\n",
      "  training loss (in-iteration): \t0.005113\n",
      "Epoch 68 of 100 took 68.182s\n",
      "  training loss (in-iteration): \t0.005082\n",
      "Epoch 69 of 100 took 67.087s\n",
      "  training loss (in-iteration): \t0.005059\n",
      "Epoch 70 of 100 took 67.194s\n",
      "  training loss (in-iteration): \t0.005063\n",
      "Epoch 71 of 100 took 68.910s\n",
      "  training loss (in-iteration): \t0.005077\n",
      "Epoch 72 of 100 took 66.527s\n",
      "  training loss (in-iteration): \t0.005087\n",
      "Epoch 73 of 100 took 65.778s\n",
      "  training loss (in-iteration): \t0.005085\n",
      "Epoch 74 of 100 took 66.593s\n",
      "  training loss (in-iteration): \t0.005072\n",
      "Epoch 75 of 100 took 65.585s\n",
      "  training loss (in-iteration): \t0.005056\n",
      "Epoch 76 of 100 took 66.505s\n",
      "  training loss (in-iteration): \t0.005033\n",
      "Epoch 77 of 100 took 69.031s\n",
      "  training loss (in-iteration): \t0.005021\n",
      "Epoch 78 of 100 took 67.540s\n",
      "  training loss (in-iteration): \t0.005022\n",
      "Epoch 79 of 100 took 67.358s\n",
      "  training loss (in-iteration): \t0.005035\n",
      "Epoch 80 of 100 took 68.166s\n",
      "  training loss (in-iteration): \t0.005053\n",
      "Epoch 81 of 100 took 68.587s\n",
      "  training loss (in-iteration): \t0.005041\n",
      "Epoch 82 of 100 took 68.878s\n",
      "  training loss (in-iteration): \t0.004988\n",
      "Epoch 83 of 100 took 66.543s\n",
      "  training loss (in-iteration): \t0.004926\n",
      "Epoch 84 of 100 took 66.656s\n",
      "  training loss (in-iteration): \t0.004869\n",
      "Epoch 85 of 100 took 64.682s\n",
      "  training loss (in-iteration): \t0.004825\n",
      "Epoch 86 of 100 took 65.527s\n",
      "  training loss (in-iteration): \t0.004793\n",
      "Epoch 87 of 100 took 65.115s\n",
      "  training loss (in-iteration): \t0.004764\n",
      "Epoch 88 of 100 took 66.376s\n",
      "  training loss (in-iteration): \t0.004759\n",
      "Epoch 89 of 100 took 66.526s\n",
      "  training loss (in-iteration): \t0.004760\n",
      "Epoch 90 of 100 took 65.592s\n",
      "  training loss (in-iteration): \t0.004747\n",
      "Epoch 91 of 100 took 64.623s\n",
      "  training loss (in-iteration): \t0.004725\n",
      "Epoch 92 of 100 took 65.237s\n",
      "  training loss (in-iteration): \t0.004711\n",
      "Epoch 93 of 100 took 67.260s\n",
      "  training loss (in-iteration): \t0.004703\n",
      "Epoch 94 of 100 took 66.235s\n",
      "  training loss (in-iteration): \t0.004678\n",
      "Epoch 95 of 100 took 67.583s\n",
      "  training loss (in-iteration): \t0.004641\n",
      "Epoch 96 of 100 took 69.043s\n",
      "  training loss (in-iteration): \t0.004615\n",
      "Epoch 97 of 100 took 69.059s\n",
      "  training loss (in-iteration): \t0.004612\n",
      "Epoch 98 of 100 took 68.376s\n",
      "  training loss (in-iteration): \t0.004624\n",
      "Epoch 99 of 100 took 69.687s\n",
      "  training loss (in-iteration): \t0.004645\n",
      "Epoch 100 of 100 took 67.966s\n",
      "  training loss (in-iteration): \t0.004654\n"
     ]
    }
   ],
   "source": [
    "train_network_group_3(net16_group3, criterion, optimizer, mask_input_1, mask_output_2,\n",
    "              shape_input=(batch_size, 3, int(dim_x / 2), int(dim_x)),\n",
    "              shape_output=(batch_size, 3, int(dim_x / 2), int(dim_x / 2)),\n",
    "              num_epochs=100\n",
    "             )"
   ]
  },
  {
   "cell_type": "code",
   "execution_count": 125,
   "metadata": {
    "scrolled": true
   },
   "outputs": [
    {
     "name": "stderr",
     "output_type": "stream",
     "text": [
      "/home/koloskov/anaconda3/lib/python3.6/site-packages/torch/serialization.py:159: UserWarning: Couldn't retrieve source code for container of type Net16Group3. It won't be checked for correctness upon loading.\n",
      "  \"type \" + obj.__name__ + \". It won't be checked \"\n"
     ]
    }
   ],
   "source": [
    "torch.save(net16_group3, \"net16.group3.pt\")"
   ]
  },
  {
   "cell_type": "code",
   "execution_count": 127,
   "metadata": {},
   "outputs": [
    {
     "data": {
      "image/png": "[encoded data removed]",
      "text/plain": [
       "<matplotlib.figure.Figure at 0x7ff17580afd0>"
      ]
     },
     "metadata": {},
     "output_type": "display_data"
    }
   ],
   "source": [
    "for X_batch, y_batch in train_loader:\n",
    "    break\n",
    "mask_first_part = np.zeros((batch_size, 3, int(dim_x / 2), dim_x)).astype(bool)\n",
    "for m in range(batch_size):\n",
    "    for n in range(3):\n",
    "        for i in range(int(dim_x/2)):\n",
    "            for j in range(dim_x):\n",
    "                if j % 2 == 0:\n",
    "                    mask_first_part[m][n][i][j] = True\n",
    "mask_second_part = np.zeros((batch_size, 3, int(dim_x / 2), dim_x)).astype(bool)\n",
    "for m in range(batch_size):\n",
    "    for n in range(3):\n",
    "        for i in range(int(dim_x/2)):\n",
    "            for j in range(dim_x):\n",
    "                if j % 2 == 1:\n",
    "                    mask_second_part[m][n][i][j] = True\n",
    "\n",
    "X_batch_input = X_batch[:, 0]\n",
    "X_batch_input = X_batch_input[mask_input_1.nonzero()].view((batch_size, 3, int(dim_x / 2), int(dim_x / 2)))\n",
    "y_batch_output = y_batch[:, 1]\n",
    "y_batch_output = y_batch_output[mask_input_1.nonzero()].view((batch_size, 3, int(dim_x / 2), int(dim_x / 2)))\n",
    "\n",
    "X_batch_input = Variable(convert_input_into_image_8(X_batch_input, y_batch_output)).cuda()\n",
    "X_batch_group_2 = net8_group2(X_batch_input,\n",
    "     keypoints=autoencoder_stickmans_8(Variable(y_batch[:, 1]).cuda())[1],\n",
    "     embeddings=autoencoder_people_8(Variable(X_batch[:, 0]).cuda())[1])\n",
    "#             print(X_batch_input.shape)\n",
    "#             print(X_batch_group_2.shape)\n",
    "X_cur_input = Variable(torch.zeros((batch_size, 3, int(dim_x / 2), int(dim_x)))).cuda().float()\n",
    "X_cur_input[mask_first_part.nonzero()] = X_batch_input.view(-1).float()\n",
    "X_cur_input[mask_second_part.nonzero()] = X_batch_group_2.view(-1).float()\n",
    "plot_gallery(X_cur_input.cpu().data, 8, 8, 1, 3)"
   ]
  },
  {
   "cell_type": "code",
   "execution_count": null,
   "metadata": {
    "collapsed": true
   },
   "outputs": [],
   "source": []
  },
  {
   "cell_type": "code",
   "execution_count": 28,
   "metadata": {},
   "outputs": [
    {
     "data": {
      "image/png": "[encoded data removed]",
      "text/plain": [
       "<matplotlib.figure.Figure at 0x7f3ad88efa20>"
      ]
     },
     "metadata": {},
     "output_type": "display_data"
    }
   ],
   "source": [
    "plot_gallery(net8_group3(X_cur_input,\n",
    "                 keypoints=autoencoder_stickmans_8(Variable(y_batch[:, 1]).cuda())[1],\n",
    "                 embeddings=autoencoder_people_8(Variable(X_batch[:, 0]).cuda())[1]).cpu().data,\n",
    "             8, 8, 1, 3)"
   ]
  },
  {
   "cell_type": "code",
   "execution_count": 30,
   "metadata": {
    "scrolled": false
   },
   "outputs": [
    {
     "data": {
      "image/png": "[encoded data removed]",
      "text/plain": [
       "<matplotlib.figure.Figure at 0x7f3ad8884470>"
      ]
     },
     "metadata": {},
     "output_type": "display_data"
    }
   ],
   "source": [
    "X_batch_output = X_batch[:, 1]\n",
    "X_batch_output = X_batch_output[mask_output_2.nonzero()].view((batch_size, 3, int(dim_x / 2), int(dim_x / 2)))\n",
    "plot_gallery(X_batch_output, 8, 8, 1, 3)"
   ]
  },
  {
   "cell_type": "code",
   "execution_count": 129,
   "metadata": {
    "collapsed": true
   },
   "outputs": [],
   "source": [
    "mask16_group_1 = np.zeros((batch_size, 3, dim_x, dim_x)).astype(bool)\n",
    "for m in range(batch_size):\n",
    "    for n in range(3):\n",
    "        for i in range(dim_x):\n",
    "            for j in range(dim_x):\n",
    "                if i % 2 == 0 and j % 2 == 0:\n",
    "                    mask16_group_1[m][n][i][j] = True\n",
    "mask16_group_2 = np.zeros((batch_size, 3, dim_x, dim_x)).astype(bool)\n",
    "for m in range(batch_size):\n",
    "    for n in range(3):\n",
    "        for i in range(dim_x):\n",
    "            for j in range(dim_x):\n",
    "                if i % 2 == 0 and j % 2 == 1:\n",
    "                    mask16_group_2[m][n][i][j] = True\n",
    "\n",
    "mask16_group_3 = np.zeros((batch_size, 3, dim_x, dim_x)).astype(bool)\n",
    "for m in range(batch_size):\n",
    "    for n in range(3):\n",
    "        for i in range(dim_x):\n",
    "            for j in range(dim_x):\n",
    "                if i % 2 == 1 and j % 2 == 0:\n",
    "                    mask16_group_3[m][n][i][j] = True"
   ]
  },
  {
   "cell_type": "code",
   "execution_count": 131,
   "metadata": {
    "collapsed": true
   },
   "outputs": [],
   "source": [
    "def train_group4_network(net, criterion, optimizer, mask_input, mask_output, shape_output, num_epochs):\n",
    "    train_loss = []\n",
    "    val_loss = []\n",
    "    \n",
    "    mask_first_part = np.zeros((batch_size, 3, int(dim_x / 2), dim_x)).astype(bool)\n",
    "    for m in range(batch_size):\n",
    "        for n in range(3):\n",
    "            for i in range(int(dim_x/2)):\n",
    "                for j in range(dim_x):\n",
    "                    if j % 2 == 0:\n",
    "                        mask_first_part[m][n][i][j] = True\n",
    "    mask_second_part = np.zeros((batch_size, 3, int(dim_x / 2), dim_x)).astype(bool)\n",
    "    for m in range(batch_size):\n",
    "        for n in range(3):\n",
    "            for i in range(int(dim_x/2)):\n",
    "                for j in range(dim_x):\n",
    "                    if j % 2 == 1:\n",
    "                        mask_second_part[m][n][i][j] = True\n",
    "    \n",
    "    for epoch in range(num_epochs):\n",
    "        start_time = time.time()\n",
    "        net.train(True)\n",
    "        i = 0\n",
    "        for X_batch, y_batch in train_loader:\n",
    "            i += 1\n",
    "            if X_batch.shape[0] != batch_size:\n",
    "                continue\n",
    "#             X_batch_input = X_batch[:, 0]\n",
    "#             X_batch_input[(~mask_input).nonzero()] = 0\n",
    "#             X_batch_input = Variable(X_batch_input).cuda()\n",
    "\n",
    "#             X_batch_output = X_batch[:, 1]\n",
    "#             X_batch_output = X_batch_output[mask_output.nonzero()].view(shape_output)\n",
    "#             X_batch_output = Variable(X_batch_output).cuda()\n",
    "\n",
    "            X_batch_input = X_batch[:, 0]\n",
    "            X_batch_input = X_batch_input[mask_input.nonzero()].view(shape_output)\n",
    "            \n",
    "            y_batch_output = y_batch[:, 1]\n",
    "            y_batch_output = y_batch_output[mask_input.nonzero()].view(shape_output)\n",
    "            \n",
    "            X_batch_input = Variable(convert_input_into_image_8(X_batch_input, y_batch_output)).cuda()\n",
    "            X_batch_group_2 = net16_group2(X_batch_input,\n",
    "                 keypoints=autoencoder_stickmans_16(Variable(y_batch[:, 1]).cuda())[1],\n",
    "                 embeddings=autoencoder_people_16(Variable(X_batch[:, 0]).cuda())[1])\n",
    "#             print(X_batch_input.shape)\n",
    "            X_cur_input = Variable(torch.zeros((batch_size, 3, int(dim_x / 2), dim_x))).cuda().float()\n",
    "            X_cur_input[mask_first_part.nonzero()] = X_batch_input.view(-1).float()\n",
    "            X_cur_input[mask_second_part.nonzero()] = X_batch_group_2.view(-1).float()\n",
    "            X_batch_group_3 = net16_group3(X_cur_input,\n",
    "                 keypoints=autoencoder_stickmans_16(Variable(y_batch[:, 1]).cuda())[1],\n",
    "                 embeddings=autoencoder_people_16(Variable(X_batch[:, 0]).cuda())[1])\n",
    "#             print(X_cur_input.shape)\n",
    "\n",
    "            X_cur_input = Variable(torch.zeros((batch_size, 3, dim_x, dim_x))).cuda().float()\n",
    "            X_cur_input[mask16_group_1.nonzero()] = X_batch_input.view(-1).float()\n",
    "            X_cur_input[mask16_group_2.nonzero()] = X_batch_group_2.view(-1).float()\n",
    "            X_cur_input[mask16_group_3.nonzero()] = X_batch_group_3.view(-1).float()\n",
    "    \n",
    "            X_batch_output = X_batch[:, 1]\n",
    "            X_batch_output = X_batch_output[mask_output.nonzero()].view(shape_output)\n",
    "            X_batch_output = Variable(X_batch_output).cuda()\n",
    "\n",
    "            output_img = net(X_cur_input,\n",
    "                             keypoints=autoencoder_stickmans_16(Variable(y_batch[:, 1]).cuda())[1],\n",
    "                             embeddings=autoencoder_people_16(Variable(X_batch[:, 0]).cuda())[1])\n",
    "            loss = criterion(output_img, X_batch_output)\n",
    "            loss.backward()\n",
    "            optimizer.step()\n",
    "            optimizer.zero_grad()\n",
    "            train_loss.append(loss.cpu().data.numpy()[0])\n",
    "\n",
    "        # And a full pass over the validation data:\n",
    "    #     autoencoder.train(False) # disable dropout / use averages for batch_norm\n",
    "    #     for X_batch, y_batch in val_loader:\n",
    "    #         X_batch_0 = Variable(y_batch[:, 0]).cuda()\n",
    "    #         output_img, _ = autoencoder(X_batch_0)\n",
    "    #         val_loss.append(criterion(output_img, X_batch_0).cpu().data.numpy()[0])\n",
    "    #         X_batch_1 = Variable(y_batch[:, 1]).cuda()\n",
    "    #         output_img, _ = autoencoder(X_batch_1)\n",
    "    #         val_loss.append(criterion(output_img, X_batch_1).cpu().data.numpy()[0])\n",
    "\n",
    "        print \n",
    "        print(\"Epoch {} of {} took {:.3f}s\".format(\n",
    "            epoch + 1, num_epochs, time.time() - start_time))\n",
    "        print(\"  training loss (in-iteration): \\t{:.6f}\".format(\n",
    "            np.mean(train_loss[-2 * len(train_loader):])))\n",
    "    #     print(\"  validation loss: \\t\\t\\t{:.6f}\".format(\n",
    "    #         np.mean(val_loss[-2 * len(val_loader):])))"
   ]
  },
  {
   "cell_type": "code",
   "execution_count": 172,
   "metadata": {
    "collapsed": true
   },
   "outputs": [],
   "source": [
    "class Net16Group4(nn.Module):\n",
    "    \"\"\"\n",
    "        Network for predictions group 2 images based on group 1.\n",
    "        input size: 4x4\n",
    "        output size: 4x4\n",
    "    \"\"\"\n",
    "\n",
    "    def __init__(self, layers=[1], bottelneck_size=32):\n",
    "        super(Net16Group4, self).__init__()\n",
    "        \n",
    "        self.first_part = nn.Sequential(\n",
    "            nn.Conv2d(3, 32, kernel_size=2, padding=0),\n",
    "            nn.MaxPool2d(2),\n",
    "            nn.ReLU(inplace=True),\n",
    "            nn.Conv2d(32, 32, kernel_size=(3, 3), stride=1, ),\n",
    "            nn.BatchNorm2d(32),\n",
    "            nn.ReLU(inplace=True),\n",
    "            nn.Conv2d(32, 64, kernel_size=2),\n",
    "            nn.ReLU(inplace=True),\n",
    "            nn.Conv2d(64, 64, kernel_size=(2, 2)),\n",
    "            nn.ReLU(inplace=True),\n",
    "            nn.Conv2d(64, 64, kernel_size=(2, 2), stride=1),\n",
    "            nn.BatchNorm2d(64),\n",
    "            nn.Conv2d(64, 64, kernel_size=(2, 2)),\n",
    "            nn.ReLU(inplace=True),\n",
    "            nn.Conv2d(64, 64, kernel_size=(2, 2)),\n",
    "            nn.BatchNorm2d(64),\n",
    "            nn.ReLU(inplace=True),\n",
    "        )\n",
    "\n",
    "        self.up_1 = nn.Sequential(\n",
    "            nn.ConvTranspose2d(96, 64, 2, stride=2)\n",
    "        )\n",
    "\n",
    "        self.conv_1 = nn.Sequential(\n",
    "            nn.Conv2d(64, 64, kernel_size=(2, 2), padding=1),\n",
    "            nn.ReLU(),\n",
    "            nn.Conv2d(64, 64, kernel_size=(2, 2), padding=0),\n",
    "            nn.BatchNorm2d(64),\n",
    "            nn.ReLU(),\n",
    "            nn.Conv2d(64, 64, kernel_size=(2, 2), padding=1),\n",
    "            nn.ReLU()\n",
    "        )\n",
    "\n",
    "        self.conv_2 = nn.Sequential(\n",
    "            nn.Conv2d(64, 64, kernel_size=(2, 2), stride=1, padding=1),\n",
    "            nn.ReLU(),\n",
    "            nn.Conv2d(64, 64, kernel_size=(2, 2), stride=1, padding=0),\n",
    "            nn.BatchNorm2d(64),\n",
    "            nn.ReLU(),\n",
    "            nn.Conv2d(64, 3, kernel_size=(2, 2), stride=1, padding=0),\n",
    "            nn.Sigmoid()\n",
    "        )\n",
    "\n",
    "    def forward(self, x, keypoints, embeddings):\n",
    "        x = self.first_part(x)\n",
    "        x = torch.cat((x, keypoints, embeddings), dim=1)\n",
    "        x = self.up_1(x)\n",
    "        x = self.conv_1(x)\n",
    "        x = self.conv_2(x)\n",
    "        return x"
   ]
  },
  {
   "cell_type": "code",
   "execution_count": 62,
   "metadata": {
    "collapsed": true
   },
   "outputs": [],
   "source": [
    "# mask_input_3 = np.zeros((batch_size, 3, dim_x, dim_x)).astype(bool)\n",
    "# for m in range(batch_size):\n",
    "#     for n in range(3):\n",
    "#         for i in range(dim_x):\n",
    "#             for j in range(dim_x):\n",
    "#                 if i % 2 == 0 or j % 2 == 0:\n",
    "#                     mask_input_3[m][n][i][j] = True"
   ]
  },
  {
   "cell_type": "code",
   "execution_count": 173,
   "metadata": {
    "collapsed": true
   },
   "outputs": [],
   "source": [
    "mask_output_3 = np.zeros((batch_size, 3, dim_x, dim_x)).astype(bool)\n",
    "for m in range(batch_size):\n",
    "    for n in range(3):\n",
    "        for i in range(dim_x):\n",
    "            for j in range(dim_x):\n",
    "                if i % 2 == 1 and j % 2 == 1:\n",
    "                    mask_output_3[m][n][i][j] = True"
   ]
  },
  {
   "cell_type": "code",
   "execution_count": 174,
   "metadata": {
    "collapsed": true
   },
   "outputs": [],
   "source": [
    "criterion = torch.nn.MSELoss()\n",
    "net16_group4 = Net16Group4().cuda()\n",
    "optimizer = optim.Adam(net16_group4.parameters(), lr=1e-3)"
   ]
  },
  {
   "cell_type": "code",
   "execution_count": null,
   "metadata": {
    "scrolled": true
   },
   "outputs": [
    {
     "name": "stdout",
     "output_type": "stream",
     "text": [
      "Epoch 1 of 100 took 78.283s\n",
      "  training loss (in-iteration): \t0.023855\n",
      "Epoch 2 of 100 took 79.508s\n",
      "  training loss (in-iteration): \t0.017079\n",
      "Epoch 3 of 100 took 79.943s\n",
      "  training loss (in-iteration): \t0.009701\n",
      "Epoch 4 of 100 took 82.998s\n",
      "  training loss (in-iteration): \t0.008757\n",
      "Epoch 5 of 100 took 77.082s\n",
      "  training loss (in-iteration): \t0.008219\n",
      "Epoch 6 of 100 took 78.603s\n",
      "  training loss (in-iteration): \t0.007857\n",
      "Epoch 7 of 100 took 79.255s\n",
      "  training loss (in-iteration): \t0.007567\n"
     ]
    }
   ],
   "source": [
    "train_group4_network(net16_group4, criterion, optimizer, mask_input_1, mask_output_3,\n",
    "#                      shape_input=(batch_size, 3, dim_x, dim_x),\n",
    "              shape_output=(batch_size, 3, int(dim_x / 2), int(dim_x / 2)),\n",
    "              num_epochs=100\n",
    "             )"
   ]
  },
  {
   "cell_type": "code",
   "execution_count": null,
   "metadata": {
    "collapsed": true
   },
   "outputs": [],
   "source": []
  },
  {
   "cell_type": "code",
   "execution_count": 178,
   "metadata": {},
   "outputs": [
    {
     "name": "stdout",
     "output_type": "stream",
     "text": [
      "Epoch 1 of 1 took 79.137s\n",
      "  training loss (in-iteration): \t0.004873\n"
     ]
    }
   ],
   "source": [
    "train_group4_network(net16_group4, criterion, optimizer, mask_input_1, mask_output_3,\n",
    "#                      shape_input=(batch_size, 3, dim_x, dim_x),\n",
    "              shape_output=(batch_size, 3, int(dim_x / 2), int(dim_x / 2)),\n",
    "              num_epochs=1\n",
    "             )"
   ]
  },
  {
   "cell_type": "code",
   "execution_count": null,
   "metadata": {
    "collapsed": true
   },
   "outputs": [],
   "source": [
    "print(\"hi\")"
   ]
  },
  {
   "cell_type": "code",
   "execution_count": 177,
   "metadata": {
    "scrolled": true
   },
   "outputs": [
    {
     "name": "stderr",
     "output_type": "stream",
     "text": [
      "/home/koloskov/anaconda3/lib/python3.6/site-packages/torch/serialization.py:159: UserWarning: Couldn't retrieve source code for container of type Net16Group4. It won't be checked for correctness upon loading.\n",
      "  \"type \" + obj.__name__ + \". It won't be checked \"\n"
     ]
    }
   ],
   "source": [
    "torch.save(net16_group4, \"net16.group4.pt\")"
   ]
  },
  {
   "cell_type": "code",
   "execution_count": 176,
   "metadata": {},
   "outputs": [
    {
     "name": "stdout",
     "output_type": "stream",
     "text": [
      "hi\n"
     ]
    }
   ],
   "source": [
    "print(\"hi\")"
   ]
  },
  {
   "cell_type": "code",
   "execution_count": 347,
   "metadata": {
    "scrolled": true
   },
   "outputs": [
    {
     "data": {
      "image/png": "[encoded data removed]",
      "text/plain": [
       "<matplotlib.figure.Figure at 0x7f2748111f98>"
      ]
     },
     "metadata": {},
     "output_type": "display_data"
    }
   ],
   "source": [
    "X_batch_input = X_batch[:, 0].clone()\n",
    "X_batch_input[(~mask_input_3).nonzero()] = 0\n",
    "X_batch_input = Variable(X_batch_input).cuda()\n",
    "plot_gallery(X_batch_input.cpu().data, 8, 8, 1, 3)"
   ]
  },
  {
   "cell_type": "code",
   "execution_count": 93,
   "metadata": {
    "collapsed": true
   },
   "outputs": [],
   "source": [
    "mask_group_1 = np.zeros((batch_size, 3, dim_x, dim_x)).astype(bool)\n",
    "for m in range(batch_size):\n",
    "    for n in range(3):\n",
    "        for i in range(dim_x):\n",
    "            for j in range(dim_x):\n",
    "                if i % 2 == 0 and j % 2 == 0:\n",
    "                    mask_group_1[m][n][i][j] = True\n",
    "\n",
    "mask_group_2 = np.zeros((batch_size, 3, dim_x, dim_x)).astype(bool)\n",
    "for m in range(batch_size):\n",
    "    for n in range(3):\n",
    "        for i in range(dim_x):\n",
    "            for j in range(dim_x):\n",
    "                if i % 2 == 0 and j % 2 == 1:\n",
    "                    mask_group_2[m][n][i][j] = True\n",
    "\n",
    "mask_group_3 = np.zeros((batch_size, 3, dim_x, dim_x)).astype(bool)\n",
    "for m in range(batch_size):\n",
    "    for n in range(3):\n",
    "        for i in range(dim_x):\n",
    "            for j in range(dim_x):\n",
    "                if i % 2 == 1 and j % 2 == 0:\n",
    "                    mask_group_3[m][n][i][j] = True\n",
    "\n",
    "mask_group_4 = np.zeros((batch_size, 3, dim_x, dim_x)).astype(bool)\n",
    "for m in range(batch_size):\n",
    "    for n in range(3):\n",
    "        for i in range(dim_x):\n",
    "            for j in range(dim_x):\n",
    "                if i % 2 == 1 and j % 2 == 1:\n",
    "                    mask_group_4[m][n][i][j] = True"
   ]
  },
  {
   "cell_type": "code",
   "execution_count": 199,
   "metadata": {
    "collapsed": true
   },
   "outputs": [],
   "source": [
    "def convert_input_into_image_16(X_batch):\n",
    "    X_batch_input = X_batch[:, 0].clone()\n",
    "    X_batch_input = X_batch_input[mask_input_1.nonzero()].view((batch_size, 3, int(dim_x / 2), int(dim_x / 2)))\n",
    "\n",
    "    y_batch_output = y_batch[:, 1].clone()\n",
    "    y_batch_output = y_batch_output[mask_input_1.nonzero()].view((batch_size, 3, int(dim_x / 2), int(dim_x / 2)))\n",
    "\n",
    "    X_batch_input = Variable(convert_input_into_image_8(X_batch_input, y_batch_output)).cuda()\n",
    "    \n",
    "    group_1 = X_batch_input.cpu().data\n",
    "    \n",
    "    group_2 = net16_group2(X_batch_input,\n",
    "                 keypoints=autoencoder_stickmans_16(Variable(y_batch[:, 1]).cuda())[1],\n",
    "                 embeddings=autoencoder_people_16(Variable(X_batch[:, 0]).cuda())[1]).cpu().data\n",
    "    \n",
    "    X_cur_input = torch.zeros((batch_size, 3, int(dim_x / 2), dim_x)).float()\n",
    "    X_cur_input[mask_first_part.nonzero()] = group_1.view(-1).float()\n",
    "    X_cur_input[mask_second_part.nonzero()] = group_2.view(-1).float()\n",
    "    group_3 = net16_group3(Variable(X_cur_input).cuda(),\n",
    "             keypoints=autoencoder_stickmans_16(Variable(y_batch[:, 1]).cuda())[1],\n",
    "             embeddings=autoencoder_people_16(Variable(X_batch[:, 0]).cuda())[1]).cpu().data\n",
    "    \n",
    "    X_cur_input = torch.zeros((batch_size, 3, dim_x, dim_x)).float()\n",
    "    X_cur_input[mask16_group_1.nonzero()] = group_1.view(-1).float()\n",
    "    X_cur_input[mask16_group_2.nonzero()] = group_2.view(-1).float()\n",
    "    X_cur_input[mask16_group_3.nonzero()] = group_3.view(-1).float()\n",
    "    \n",
    "    group_4 = net16_group4(Variable(X_cur_input).cuda(),\n",
    "                         keypoints=autoencoder_stickmans_16(Variable(y_batch[:, 1]).cuda())[1],\n",
    "                         embeddings=autoencoder_people_16(Variable(X_batch[:, 0]).cuda())[1]).cpu().data\n",
    "    \n",
    "    final_image = torch.zeros_like(X_batch[:, 1]).float()\n",
    "    final_image[mask16_group_1.nonzero()] = group_1.view(-1).float()\n",
    "    final_image[mask_output_1.nonzero()] = group_2.view(-1).float()\n",
    "    final_image[mask_output_2.nonzero()] = group_3.view(-1).float()\n",
    "    final_image[mask_output_3.nonzero()] = group_4.view(-1).float()\n",
    "    \n",
    "    plot_gallery(X_batch[:, 0], 8, 8, 1, 1)\n",
    "    plot_gallery(X_batch[:, 1], 8, 8, 1, 1)\n",
    "    plot_gallery(final_image, 8, 8, 1, 1)"
   ]
  },
  {
   "cell_type": "code",
   "execution_count": null,
   "metadata": {
    "collapsed": true
   },
   "outputs": [],
   "source": []
  },
  {
   "cell_type": "code",
   "execution_count": 221,
   "metadata": {
    "collapsed": true
   },
   "outputs": [],
   "source": [
    "for i, (X_batch, y_batch) in enumerate(val_loader):\n",
    "    if i == 18:\n",
    "        break"
   ]
  },
  {
   "cell_type": "code",
   "execution_count": 222,
   "metadata": {},
   "outputs": [
    {
     "data": {
      "image/png": "[encoded data removed]",
      "text/plain": [
       "<matplotlib.figure.Figure at 0x7ff17c1fb7b8>"
      ]
     },
     "metadata": {},
     "output_type": "display_data"
    },
    {
     "data": {
      "image/png": "[encoded data removed]",
      "text/plain": [
       "<matplotlib.figure.Figure at 0x7ff175dfff60>"
      ]
     },
     "metadata": {},
     "output_type": "display_data"
    },
    {
     "data": {
      "image/png": "[encoded data removed]",
      "text/plain": [
       "<matplotlib.figure.Figure at 0x7ff175db9ba8>"
      ]
     },
     "metadata": {},
     "output_type": "display_data"
    }
   ],
   "source": [
    "convert_input_into_image_16(X_batch)"
   ]
  },
  {
   "cell_type": "code",
   "execution_count": 212,
   "metadata": {},
   "outputs": [
    {
     "data": {
      "image/png": "[encoded data removed]",
      "text/plain": [
       "<matplotlib.figure.Figure at 0x7ff1756ffef0>"
      ]
     },
     "metadata": {},
     "output_type": "display_data"
    }
   ],
   "source": [
    "plot_gallery(y_batch[:, 1], 8, 8, 1, 1)"
   ]
  },
  {
   "cell_type": "code",
   "execution_count": 209,
   "metadata": {
    "collapsed": true
   },
   "outputs": [],
   "source": [
    "for i, (X_batch, y_batch) in enumerate(train_loader):\n",
    "    if i == 15:\n",
    "        break"
   ]
  },
  {
   "cell_type": "code",
   "execution_count": 123,
   "metadata": {},
   "outputs": [
    {
     "data": {
      "image/png": "[encoded data removed]",
      "text/plain": [
       "<matplotlib.figure.Figure at 0x7f3ad85e1470>"
      ]
     },
     "metadata": {},
     "output_type": "display_data"
    }
   ],
   "source": [
    "plot_gallery(X_batch[:, 0], 8, 8, 1, 3)"
   ]
  },
  {
   "cell_type": "code",
   "execution_count": 349,
   "metadata": {},
   "outputs": [
    {
     "data": {
      "image/png": "[encoded data removed]",
      "text/plain": [
       "<matplotlib.figure.Figure at 0x7f27481113c8>"
      ]
     },
     "metadata": {},
     "output_type": "display_data"
    }
   ],
   "source": [
    "plot_gallery(net4_group4(X_batch_input,\n",
    "                 keypoints=autoencoder_stickmans(Variable(y_batch[:, 1]).cuda())[1],\n",
    "                 embeddings=autoencoder_people(Variable(X_batch[:, 0]).cuda())[1]).cpu().data,\n",
    "             8, 8, 1, 3)"
   ]
  },
  {
   "cell_type": "code",
   "execution_count": 350,
   "metadata": {},
   "outputs": [
    {
     "data": {
      "image/png": "[encoded data removed]",
      "text/plain": [
       "<matplotlib.figure.Figure at 0x7f273e2dd668>"
      ]
     },
     "metadata": {},
     "output_type": "display_data"
    }
   ],
   "source": [
    "X_batch_output = X_batch[:, 1]\n",
    "X_batch_output = X_batch_output[mask_output.nonzero()].view((batch_size, 3, int(dim_x / 2), int(dim_x / 2)))\n",
    "plot_gallery(X_batch_output, 8, 8, 1, 3)"
   ]
  },
  {
   "cell_type": "markdown",
   "metadata": {},
   "source": [
    "# Video"
   ]
  },
  {
   "cell_type": "code",
   "execution_count": 187,
   "metadata": {},
   "outputs": [
    {
     "ename": "NameError",
     "evalue": "name 'x' is not defined",
     "output_type": "error",
     "traceback": [
      "\u001b[0;31m---------------------------------------------------------------------------\u001b[0m",
      "\u001b[0;31mNameError\u001b[0m                                 Traceback (most recent call last)",
      "\u001b[0;32m<ipython-input-187-b85b89fe8024>\u001b[0m in \u001b[0;36m<module>\u001b[0;34m()\u001b[0m\n\u001b[1;32m     27\u001b[0m \u001b[0mdancing_poses\u001b[0m \u001b[0;34m=\u001b[0m \u001b[0;34m[\u001b[0m\u001b[0;34m]\u001b[0m\u001b[0;34m\u001b[0m\u001b[0m\n\u001b[1;32m     28\u001b[0m \u001b[0;34m\u001b[0m\u001b[0m\n\u001b[0;32m---> 29\u001b[0;31m \u001b[0;32mfor\u001b[0m \u001b[0mi\u001b[0m \u001b[0;32min\u001b[0m \u001b[0mrange\u001b[0m\u001b[0;34m(\u001b[0m\u001b[0mlen\u001b[0m\u001b[0;34m(\u001b[0m\u001b[0mx\u001b[0m\u001b[0;34m)\u001b[0m\u001b[0;34m)\u001b[0m\u001b[0;34m:\u001b[0m\u001b[0;34m\u001b[0m\u001b[0m\n\u001b[0m\u001b[1;32m     30\u001b[0m     \u001b[0mdummy\u001b[0m \u001b[0;34m=\u001b[0m \u001b[0mnp\u001b[0m\u001b[0;34m.\u001b[0m\u001b[0mcopy\u001b[0m\u001b[0;34m(\u001b[0m\u001b[0minitial_dance\u001b[0m\u001b[0;34m)\u001b[0m\u001b[0;34m\u001b[0m\u001b[0m\n\u001b[1;32m     31\u001b[0m     \u001b[0mdummy\u001b[0m\u001b[0;34m[\u001b[0m\u001b[0;36m7\u001b[0m\u001b[0;34m]\u001b[0m \u001b[0;34m=\u001b[0m \u001b[0mdummy\u001b[0m\u001b[0;34m[\u001b[0m\u001b[0;36m6\u001b[0m\u001b[0;34m]\u001b[0m \u001b[0;34m-\u001b[0m \u001b[0mnp\u001b[0m\u001b[0;34m.\u001b[0m\u001b[0marray\u001b[0m\u001b[0;34m(\u001b[0m\u001b[0;34m[\u001b[0m\u001b[0;34m-\u001b[0m\u001b[0mx\u001b[0m\u001b[0;34m[\u001b[0m\u001b[0mi\u001b[0m\u001b[0;34m]\u001b[0m\u001b[0;34m,\u001b[0m \u001b[0my\u001b[0m\u001b[0;34m[\u001b[0m\u001b[0mi\u001b[0m\u001b[0;34m]\u001b[0m\u001b[0;34m]\u001b[0m\u001b[0;34m)\u001b[0m\u001b[0;34m\u001b[0m\u001b[0m\n",
      "\u001b[0;31mNameError\u001b[0m: name 'x' is not defined"
     ]
    }
   ],
   "source": [
    "initial_dance = np.array([ [138.,  27.],\n",
    "                           [133.,  53.],\n",
    "                           [114.,  50.],\n",
    "                           [108.,  90.],\n",
    "                           [114., 121.],\n",
    "                           [152.,  57.],\n",
    "                           [152.,  95.],\n",
    "                           [165., 126.],\n",
    "                           [118., 118.],\n",
    "                           [121., 172.],\n",
    "                           [144., 226.],\n",
    "                           [141., 118.],\n",
    "                           [140., 172.],\n",
    "                           [135., 225.],\n",
    "                           [135.,  21.],\n",
    "                           [144.,  23.],\n",
    "                           [129.,  22.],\n",
    "                           [150.,  27.] ]\n",
    "                        )\n",
    "\n",
    "def generate_circle_trajectory(radius, center, start_y, end_y):\n",
    "    y = np.arange(int(np.min([start_y, end_y])), int(np.max([start_y, end_y])) + 1)\n",
    "    \n",
    "    x = np.round(center[0] + np.sqrt(radius ** 2 - (y - center[1]) ** 2)).astype(np.int32)\n",
    "    return x\n",
    "\n",
    "dancing_poses = []\n",
    "\n",
    "for i in range(len(x)):\n",
    "    dummy = np.copy(initial_dance)\n",
    "    dummy[7] = dummy[6] - np.array([-x[i], y[i]])\n",
    "    dummy[4] = dummy[3] - np.array([x[i], y[i]])\n",
    "    #plt.imshow(dataset.make_joint_img((256, 256, 3), dataset.jo, dummy))\n",
    "    #plt.show()\n",
    "    dancing_poses.append(dummy)\n",
    "\n",
    "for i in range(len(x)):\n",
    "    dummy = np.copy(initial_dance)\n",
    "    dummy[7] = dummy[6] + np.array([x[i], y[i]])\n",
    "    dummy[4] = dummy[3] + np.array([-x[i], y[i]])\n",
    "    #plt.imshow(dataset.make_joint_img((256, 256, 3), dataset.jo, dummy))\n",
    "    #plt.show()\n",
    "    dancing_poses.append(dummy)\n",
    "    \n",
    "np.save('dancing_poses.npy', np.array(dancing_poses))"
   ]
  },
  {
   "cell_type": "code",
   "execution_count": null,
   "metadata": {
    "collapsed": true
   },
   "outputs": [],
   "source": []
  }
 ],
 "metadata": {
  "kernelspec": {
   "display_name": "Python 3",
   "language": "python",
   "name": "python3"
  },
  "language_info": {
   "codemirror_mode": {
    "name": "ipython",
    "version": 3
   },
   "file_extension": ".py",
   "mimetype": "text/x-python",
   "name": "python",
   "nbconvert_exporter": "python",
   "pygments_lexer": "ipython3",
   "version": "3.6.3"
  }
 },
 "nbformat": 4,
 "nbformat_minor": 2
}
