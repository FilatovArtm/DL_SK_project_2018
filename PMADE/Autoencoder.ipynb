{
 "cells": [
  {
   "cell_type": "code",
   "execution_count": 2,
   "metadata": {
    "collapsed": true
   },
   "outputs": [],
   "source": [
    "import torch, torch.nn as nn\n",
    "import torch.nn.functional as F\n",
    "from torch.autograd import Variable\n",
    "import torch.optim as optim\n",
    "import numpy as np\n",
    "import matplotlib.pyplot as plt\n",
    "%matplotlib inline\n",
    "import pickle\n",
    "from loader import get_train_loader"
   ]
  },
  {
   "cell_type": "code",
   "execution_count": 3,
   "metadata": {
    "collapsed": true
   },
   "outputs": [],
   "source": [
    "image_h, image_w = 128, 128"
   ]
  },
  {
   "cell_type": "code",
   "execution_count": 4,
   "metadata": {
    "collapsed": true
   },
   "outputs": [],
   "source": [
    "class Flatten(nn.Module):\n",
    "    def forward(self, input):\n",
    "        return input.view(input.size(0), -1)\n",
    "    \n",
    "class Transpose(nn.Module):\n",
    "    def forward(self, input):\n",
    "        return input.view(input.size(0), 16, 4, 4)"
   ]
  },
  {
   "cell_type": "code",
   "execution_count": 9,
   "metadata": {
    "collapsed": true
   },
   "outputs": [],
   "source": [
    "dimZ = 256\n",
    "\n",
    "class Autoencoder(nn.Module):\n",
    "    def __init__(self):\n",
    "        super(Autoencoder, self).__init__()\n",
    "        \n",
    "        self.encoder = nn.Sequential(\n",
    "            nn.Conv2d(3, 16, kernel_size=2, padding=0),\n",
    "#             nn.BatchNorm2d(16),\n",
    "            nn.ReLU(),\n",
    "            nn.Conv2d(16, 32, kernel_size=2, padding=1),\n",
    "            nn.BatchNorm2d(32),\n",
    "            nn.MaxPool2d(2),\n",
    "            nn.ReLU(),\n",
    "            \n",
    "            nn.Conv2d(32, 32, kernel_size=2, padding=0),\n",
    "#             nn.BatchNorm2d(32),\n",
    "            nn.ReLU(),\n",
    "            nn.Conv2d(32, 32, kernel_size=2, padding=1),\n",
    "#             nn.BatchNorm2d(32),\n",
    "            nn.MaxPool2d(2),\n",
    "            nn.ReLU(),\n",
    "            \n",
    "            nn.Conv2d(32, 32, kernel_size=2, padding=0),\n",
    "#             nn.BatchNorm2d(32),\n",
    "            nn.ReLU(),\n",
    "            nn.Conv2d(32, 32, kernel_size=2, padding=1),\n",
    "#             nn.BatchNorm2d(32),\n",
    "            nn.MaxPool2d(2),\n",
    "            nn.ReLU(),\n",
    "            \n",
    "            nn.Conv2d(32, 32, kernel_size=2, padding=0),\n",
    "#             nn.BatchNorm2d(32),\n",
    "            nn.ReLU(),\n",
    "            nn.Conv2d(32, 32, kernel_size=2, padding=1),\n",
    "#             nn.BatchNorm2d(32),\n",
    "            nn.MaxPool2d(2),\n",
    "            nn.ReLU(),\n",
    "            \n",
    "            nn.Conv2d(32, 32, kernel_size=2, padding=1),\n",
    "#             nn.BatchNorm2d(32),\n",
    "            nn.MaxPool2d(2),\n",
    "            nn.ReLU(),\n",
    "#             Flatten(),\n",
    "#             nn.Linear(256, dimZ),\n",
    "#             nn.BatchNorm1d(dimZ),\n",
    "#             nn.ReLU()\n",
    "        )\n",
    "        \n",
    "        self.decoder = nn.Sequential(\n",
    "#             nn.Linear(dimZ, 256),\n",
    "#             nn.BatchNorm1d(256),\n",
    "#             nn.ReLU(),\n",
    "            \n",
    "#             Transpose(), # TODO: write transpose layer\n",
    "            nn.ConvTranspose2d(32, 32, 2, stride=2),\n",
    "#             nn.BatchNorm2d(32),\n",
    "            nn.ReLU(),\n",
    "            nn.ConvTranspose2d(32, 32, 2, stride=2),\n",
    "#             nn.BatchNorm2d(32),\n",
    "            nn.ReLU(),\n",
    "            nn.ConvTranspose2d(32, 32, 2, stride=2),\n",
    "            nn.BatchNorm2d(32),\n",
    "            nn.ReLU(),\n",
    "            \n",
    "            nn.Conv2d(32, 32, kernel_size=2, padding=0),\n",
    "#             nn.BatchNorm2d(32),\n",
    "            nn.ReLU(),\n",
    "            \n",
    "            \n",
    "            nn.ConvTranspose2d(32, 32, 2, stride=2),\n",
    "#             nn.BatchNorm2d(32),\n",
    "            nn.ReLU(),\n",
    "            \n",
    "            \n",
    "            nn.Conv2d(32, 32, kernel_size=2, padding=1),\n",
    "#             nn.BatchNorm2d(32),\n",
    "            nn.ReLU(),\n",
    "            \n",
    "            nn.ConvTranspose2d(32, 3, 2, stride=2),\n",
    "#             nn.BatchNorm2d(3),\n",
    "            nn.ReLU(),\n",
    "            \n",
    "            nn.Conv2d(3, 3, kernel_size=3, padding=2),\n",
    "#             nn.BatchNorm2d(3),\n",
    "            \n",
    "            nn.Sigmoid(),\n",
    "#             nn.ConvTranspose2d(32, 32, 3, stride=2),\n",
    "#             nn.BatchNorm2d(32),\n",
    "#             nn.ReLU(),\n",
    "#             nn.Conv2d(32, 3, kernel_size=3, stride=1, padding=1),\n",
    "#             nn.BatchNorm2d(3),\n",
    "#             nn.ReLU(),\n",
    "        )\n",
    "#         nn.init.xavier_uniform(list(self.parameters())[0])\n",
    "#         nn.init.constant(list(self.parameters())[1], 0)\n",
    "#         nn.init.xavier_uniform(list(self.parameters())[4])\n",
    "#         nn.init.constant(list(self.parameters())[5], 0)\n",
    "#         nn.init.xavier_uniform(list(self.parameters())[8])\n",
    "#         nn.init.constant(list(self.parameters())[9], 0)\n",
    "#         nn.init.xavier_uniform(list(self.parameters())[12])\n",
    "#         nn.init.constant(list(self.parameters())[13], 0)\n",
    "        \n",
    "    def forward(self, x):\n",
    "        latent_code = self.encoder(x)\n",
    "        reconstruction = self.decoder(latent_code)\n",
    "        return reconstruction, latent_code"
   ]
  },
  {
   "cell_type": "code",
   "execution_count": null,
   "metadata": {
    "collapsed": true
   },
   "outputs": [],
   "source": []
  },
  {
   "cell_type": "code",
   "execution_count": 10,
   "metadata": {
    "collapsed": true
   },
   "outputs": [],
   "source": [
    "# Create MSE loss function\n",
    "criterion = torch.nn.MSELoss()\n",
    "\n",
    "autoencoder = Autoencoder().cuda()\n",
    "\n",
    "# Use Adam optimizer\n",
    "optimizer = optim.Adam(autoencoder.parameters(), lr=1e-3)"
   ]
  },
  {
   "cell_type": "code",
   "execution_count": 7,
   "metadata": {
    "collapsed": true
   },
   "outputs": [],
   "source": [
    "train_loader, val_loader = get_train_loader(\"../deepfashion/index.p\", batch_size=64, resize_size=128)"
   ]
  },
  {
   "cell_type": "code",
   "execution_count": 11,
   "metadata": {
    "scrolled": false
   },
   "outputs": [
    {
     "name": "stdout",
     "output_type": "stream",
     "text": [
      "Epoch 1 of 100 took 101.584s\n",
      "  training loss (in-iteration): \t0.045208\n",
      "  validation loss: \t\t\t0.020248\n",
      "Epoch 2 of 100 took 97.451s\n",
      "  training loss (in-iteration): \t0.017960\n",
      "  validation loss: \t\t\t0.017380\n",
      "Epoch 3 of 100 took 98.644s\n",
      "  training loss (in-iteration): \t0.016012\n",
      "  validation loss: \t\t\t0.015868\n",
      "Epoch 4 of 100 took 97.976s\n",
      "  training loss (in-iteration): \t0.014510\n",
      "  validation loss: \t\t\t0.014797\n",
      "Epoch 5 of 100 took 98.557s\n",
      "  training loss (in-iteration): \t0.013253\n",
      "  validation loss: \t\t\t0.014069\n",
      "Epoch 6 of 100 took 98.844s\n",
      "  training loss (in-iteration): \t0.012161\n",
      "  validation loss: \t\t\t0.013010\n",
      "Epoch 7 of 100 took 98.656s\n",
      "  training loss (in-iteration): \t0.011226\n",
      "  validation loss: \t\t\t0.012182\n",
      "Epoch 8 of 100 took 97.232s\n",
      "  training loss (in-iteration): \t0.010457\n",
      "  validation loss: \t\t\t0.011892\n",
      "Epoch 9 of 100 took 113.661s\n",
      "  training loss (in-iteration): \t0.009823\n",
      "  validation loss: \t\t\t0.011148\n"
     ]
    },
    {
     "ename": "KeyboardInterrupt",
     "evalue": "",
     "output_type": "error",
     "traceback": [
      "\u001b[0;31m---------------------------------------------------------------------------\u001b[0m",
      "\u001b[0;31mKeyboardInterrupt\u001b[0m                         Traceback (most recent call last)",
      "\u001b[0;32m<ipython-input-11-4b6fc1a1f641>\u001b[0m in \u001b[0;36m<module>\u001b[0;34m()\u001b[0m\n\u001b[1;32m     14\u001b[0m     \u001b[0mautoencoder\u001b[0m\u001b[0;34m.\u001b[0m\u001b[0mtrain\u001b[0m\u001b[0;34m(\u001b[0m\u001b[0;32mTrue\u001b[0m\u001b[0;34m)\u001b[0m \u001b[0;31m# enable dropout / batch_norm training behavior\u001b[0m\u001b[0;34m\u001b[0m\u001b[0m\n\u001b[1;32m     15\u001b[0m     \u001b[0mi\u001b[0m \u001b[0;34m=\u001b[0m \u001b[0;36m0\u001b[0m\u001b[0;34m\u001b[0m\u001b[0m\n\u001b[0;32m---> 16\u001b[0;31m     \u001b[0;32mfor\u001b[0m \u001b[0mX_batch\u001b[0m\u001b[0;34m,\u001b[0m \u001b[0my_batch\u001b[0m \u001b[0;32min\u001b[0m \u001b[0mtrain_loader\u001b[0m\u001b[0;34m:\u001b[0m\u001b[0;34m\u001b[0m\u001b[0m\n\u001b[0m\u001b[1;32m     17\u001b[0m         \u001b[0mi\u001b[0m \u001b[0;34m+=\u001b[0m \u001b[0;36m1\u001b[0m\u001b[0;34m\u001b[0m\u001b[0m\n\u001b[1;32m     18\u001b[0m         \u001b[0;31m# train on batch\u001b[0m\u001b[0;34m\u001b[0m\u001b[0;34m\u001b[0m\u001b[0m\n",
      "\u001b[0;32m~/anaconda3/lib/python3.6/site-packages/torch/utils/data/dataloader.py\u001b[0m in \u001b[0;36m__next__\u001b[0;34m(self)\u001b[0m\n\u001b[1;32m    257\u001b[0m         \u001b[0;32mif\u001b[0m \u001b[0mself\u001b[0m\u001b[0;34m.\u001b[0m\u001b[0mnum_workers\u001b[0m \u001b[0;34m==\u001b[0m \u001b[0;36m0\u001b[0m\u001b[0;34m:\u001b[0m  \u001b[0;31m# same-process loading\u001b[0m\u001b[0;34m\u001b[0m\u001b[0m\n\u001b[1;32m    258\u001b[0m             \u001b[0mindices\u001b[0m \u001b[0;34m=\u001b[0m \u001b[0mnext\u001b[0m\u001b[0;34m(\u001b[0m\u001b[0mself\u001b[0m\u001b[0;34m.\u001b[0m\u001b[0msample_iter\u001b[0m\u001b[0;34m)\u001b[0m  \u001b[0;31m# may raise StopIteration\u001b[0m\u001b[0;34m\u001b[0m\u001b[0m\n\u001b[0;32m--> 259\u001b[0;31m             \u001b[0mbatch\u001b[0m \u001b[0;34m=\u001b[0m \u001b[0mself\u001b[0m\u001b[0;34m.\u001b[0m\u001b[0mcollate_fn\u001b[0m\u001b[0;34m(\u001b[0m\u001b[0;34m[\u001b[0m\u001b[0mself\u001b[0m\u001b[0;34m.\u001b[0m\u001b[0mdataset\u001b[0m\u001b[0;34m[\u001b[0m\u001b[0mi\u001b[0m\u001b[0;34m]\u001b[0m \u001b[0;32mfor\u001b[0m \u001b[0mi\u001b[0m \u001b[0;32min\u001b[0m \u001b[0mindices\u001b[0m\u001b[0;34m]\u001b[0m\u001b[0;34m)\u001b[0m\u001b[0;34m\u001b[0m\u001b[0m\n\u001b[0m\u001b[1;32m    260\u001b[0m             \u001b[0;32mif\u001b[0m \u001b[0mself\u001b[0m\u001b[0;34m.\u001b[0m\u001b[0mpin_memory\u001b[0m\u001b[0;34m:\u001b[0m\u001b[0;34m\u001b[0m\u001b[0m\n\u001b[1;32m    261\u001b[0m                 \u001b[0mbatch\u001b[0m \u001b[0;34m=\u001b[0m \u001b[0mpin_memory_batch\u001b[0m\u001b[0;34m(\u001b[0m\u001b[0mbatch\u001b[0m\u001b[0;34m)\u001b[0m\u001b[0;34m\u001b[0m\u001b[0m\n",
      "\u001b[0;32m~/anaconda3/lib/python3.6/site-packages/torch/utils/data/dataloader.py\u001b[0m in \u001b[0;36m<listcomp>\u001b[0;34m(.0)\u001b[0m\n\u001b[1;32m    257\u001b[0m         \u001b[0;32mif\u001b[0m \u001b[0mself\u001b[0m\u001b[0;34m.\u001b[0m\u001b[0mnum_workers\u001b[0m \u001b[0;34m==\u001b[0m \u001b[0;36m0\u001b[0m\u001b[0;34m:\u001b[0m  \u001b[0;31m# same-process loading\u001b[0m\u001b[0;34m\u001b[0m\u001b[0m\n\u001b[1;32m    258\u001b[0m             \u001b[0mindices\u001b[0m \u001b[0;34m=\u001b[0m \u001b[0mnext\u001b[0m\u001b[0;34m(\u001b[0m\u001b[0mself\u001b[0m\u001b[0;34m.\u001b[0m\u001b[0msample_iter\u001b[0m\u001b[0;34m)\u001b[0m  \u001b[0;31m# may raise StopIteration\u001b[0m\u001b[0;34m\u001b[0m\u001b[0m\n\u001b[0;32m--> 259\u001b[0;31m             \u001b[0mbatch\u001b[0m \u001b[0;34m=\u001b[0m \u001b[0mself\u001b[0m\u001b[0;34m.\u001b[0m\u001b[0mcollate_fn\u001b[0m\u001b[0;34m(\u001b[0m\u001b[0;34m[\u001b[0m\u001b[0mself\u001b[0m\u001b[0;34m.\u001b[0m\u001b[0mdataset\u001b[0m\u001b[0;34m[\u001b[0m\u001b[0mi\u001b[0m\u001b[0;34m]\u001b[0m \u001b[0;32mfor\u001b[0m \u001b[0mi\u001b[0m \u001b[0;32min\u001b[0m \u001b[0mindices\u001b[0m\u001b[0;34m]\u001b[0m\u001b[0;34m)\u001b[0m\u001b[0;34m\u001b[0m\u001b[0m\n\u001b[0m\u001b[1;32m    260\u001b[0m             \u001b[0;32mif\u001b[0m \u001b[0mself\u001b[0m\u001b[0;34m.\u001b[0m\u001b[0mpin_memory\u001b[0m\u001b[0;34m:\u001b[0m\u001b[0;34m\u001b[0m\u001b[0m\n\u001b[1;32m    261\u001b[0m                 \u001b[0mbatch\u001b[0m \u001b[0;34m=\u001b[0m \u001b[0mpin_memory_batch\u001b[0m\u001b[0;34m(\u001b[0m\u001b[0mbatch\u001b[0m\u001b[0;34m)\u001b[0m\u001b[0;34m\u001b[0m\u001b[0m\n",
      "\u001b[0;32m~/hw_sk/Projcet/loader.py\u001b[0m in \u001b[0;36m__getitem__\u001b[0;34m(self, i)\u001b[0m\n\u001b[1;32m    148\u001b[0m     \u001b[0;32mdef\u001b[0m \u001b[0m__getitem__\u001b[0m\u001b[0;34m(\u001b[0m\u001b[0mself\u001b[0m\u001b[0;34m,\u001b[0m \u001b[0mi\u001b[0m\u001b[0;34m)\u001b[0m\u001b[0;34m:\u001b[0m\u001b[0;34m\u001b[0m\u001b[0m\n\u001b[1;32m    149\u001b[0m \u001b[0;34m\u001b[0m\u001b[0m\n\u001b[0;32m--> 150\u001b[0;31m         \u001b[0midx\u001b[0m \u001b[0;34m=\u001b[0m \u001b[0mlist\u001b[0m\u001b[0;34m(\u001b[0m\u001b[0mself\u001b[0m\u001b[0;34m.\u001b[0m\u001b[0mkeys\u001b[0m\u001b[0;34m)\u001b[0m\u001b[0;34m[\u001b[0m\u001b[0mi\u001b[0m\u001b[0;34m]\u001b[0m\u001b[0;34m\u001b[0m\u001b[0m\n\u001b[0m\u001b[1;32m    151\u001b[0m         \u001b[0mimgs\u001b[0m \u001b[0;34m=\u001b[0m \u001b[0mlist\u001b[0m\u001b[0;34m(\u001b[0m\u001b[0;34m)\u001b[0m\u001b[0;34m\u001b[0m\u001b[0m\n\u001b[1;32m    152\u001b[0m         \u001b[0mstickmans\u001b[0m \u001b[0;34m=\u001b[0m \u001b[0mlist\u001b[0m\u001b[0;34m(\u001b[0m\u001b[0;34m)\u001b[0m\u001b[0;34m\u001b[0m\u001b[0m\n",
      "\u001b[0;31mKeyboardInterrupt\u001b[0m: "
     ]
    }
   ],
   "source": [
    "# Train your autoencoder\n",
    "# Visualize progress in reconstruction and loss decay\n",
    "\n",
    "train_loss = []\n",
    "val_loss = []\n",
    "reconstructed_pictures = []\n",
    "\n",
    "import time\n",
    "num_epochs = 100 # total amount of full passes over training data\n",
    "\n",
    "for epoch in range(num_epochs):\n",
    "    # In each epoch, we do a full pass over the training data:\n",
    "    start_time = time.time()\n",
    "    autoencoder.train(True) # enable dropout / batch_norm training behavior\n",
    "    i = 0\n",
    "    for X_batch, y_batch in train_loader:\n",
    "        i += 1\n",
    "        # train on batch\n",
    "        X_batch_0 = torch.FloatTensor(X_batch[:, 0])\n",
    "        X_batch_0 = Variable(X_batch_0).cuda()\n",
    "#         X_batch = Variable(X_batch)\n",
    "#         y_batch = Variable(y_batch)\n",
    "        output_img, _ = autoencoder(X_batch_0)\n",
    "        loss = criterion(output_img, X_batch_0)\n",
    "        loss.backward()\n",
    "        optimizer.step()\n",
    "        optimizer.zero_grad()\n",
    "        train_loss.append(loss.cpu().data.numpy()[0])\n",
    "#         train_loss.append(loss.data.numpy())\n",
    "        \n",
    "        X_batch_1 = torch.FloatTensor(X_batch[:, 1])\n",
    "        X_batch_1 = Variable(X_batch_1).cuda()\n",
    "        output_img, _ = autoencoder(X_batch_1)\n",
    "        loss = criterion(output_img, X_batch_1)\n",
    "        loss.backward()\n",
    "        optimizer.step()\n",
    "        optimizer.zero_grad()\n",
    "        train_loss.append(loss.cpu().data.numpy()[0])\n",
    "#         train_loss.append(loss.data.numpy())\n",
    "#         print(i, \":\", loss.data.cpu().numpy()[0], end=\", \")\n",
    "\n",
    "    # And a full pass over the validation data:\n",
    "    autoencoder.train(False) # disable dropout / use averages for batch_norm\n",
    "    for X_batch, y_batch in val_loader:\n",
    "        X_batch_0 = Variable(X_batch[:, 0]).cuda()\n",
    "        output_img, _ = autoencoder(X_batch_0)\n",
    "        val_loss.append(criterion(output_img, X_batch_0).cpu().data.numpy()[0])\n",
    "        X_batch_1 = Variable(X_batch[:, 1]).cuda()\n",
    "        output_img, _ = autoencoder(X_batch_1)\n",
    "        val_loss.append(criterion(output_img, X_batch_1).cpu().data.numpy()[0])\n",
    "#         val_loss.append(criterion(output_img, X_batch).data.numpy())\n",
    "#     if epoch % 16 == 0:\n",
    "#         X_batch = Variable(torch.FloatTensor(np.array([X_val[247]]))).cuda()\n",
    "#         output_img, _ = autoencoder(X_batch)\n",
    "#         # reconstructed_pictures.append(output_img.cpu().data.numpy()[0])\n",
    "#         reconstructed_pictures.append(output_img.data.numpy())\n",
    "    # Then we print the results for this epoch:\n",
    "    print \n",
    "    print(\"Epoch {} of {} took {:.3f}s\".format(\n",
    "        epoch + 1, num_epochs, time.time() - start_time))\n",
    "    print(\"  training loss (in-iteration): \\t{:.6f}\".format(\n",
    "        np.mean(train_loss[-2 * len(train_loader):])))\n",
    "    print(\"  validation loss: \\t\\t\\t{:.6f}\".format(\n",
    "        np.mean(val_loss[-2 * len(val_loader):])))"
   ]
  },
  {
   "cell_type": "code",
   "execution_count": null,
   "metadata": {
    "collapsed": true
   },
   "outputs": [],
   "source": []
  },
  {
   "cell_type": "code",
   "execution_count": 32,
   "metadata": {
    "collapsed": true
   },
   "outputs": [],
   "source": [
    "dimZ = 256\n",
    "\n",
    "class Autoencoder4(nn.Module):\n",
    "    def __init__(self):\n",
    "        super(Autoencoder4, self).__init__()\n",
    "        \n",
    "        self.encoder = nn.Sequential(\n",
    "            nn.Conv2d(3, 16, kernel_size=2, padding=0),\n",
    "#             nn.BatchNorm2d(16),\n",
    "            nn.ReLU(),\n",
    "            nn.Conv2d(16, 16, kernel_size=2, padding=1),\n",
    "            nn.BatchNorm2d(16),\n",
    "            nn.MaxPool2d(2),\n",
    "            nn.ReLU(),\n",
    "        )\n",
    "        \n",
    "        self.decoder = nn.Sequential(\n",
    "            nn.ConvTranspose2d(16, 16, 2, stride=2),\n",
    "            nn.BatchNorm2d(16),\n",
    "            nn.ReLU(),\n",
    "            nn.Conv2d(16, 3, kernel_size=3, padding=1),\n",
    "            \n",
    "            nn.Sigmoid(),\n",
    "        )\n",
    "        \n",
    "    def forward(self, x):\n",
    "        latent_code = self.encoder(x)\n",
    "        reconstruction = self.decoder(latent_code)\n",
    "        return reconstruction, latent_code"
   ]
  },
  {
   "cell_type": "code",
   "execution_count": 33,
   "metadata": {},
   "outputs": [],
   "source": [
    "# Create MSE loss function\n",
    "criterion = torch.nn.MSELoss()\n",
    "\n",
    "autoencoder = Autoencoder4().cuda()\n",
    "\n",
    "# Use Adam optimizer\n",
    "optimizer = optim.Adam(autoencoder.parameters(), lr=1e-3)"
   ]
  },
  {
   "cell_type": "code",
   "execution_count": 34,
   "metadata": {
    "collapsed": true
   },
   "outputs": [],
   "source": [
    "train_loader, val_loader = get_train_loader(\"../deepfashion/index.p\", batch_size=64, resize_size=8)"
   ]
  },
  {
   "cell_type": "code",
   "execution_count": 35,
   "metadata": {},
   "outputs": [
    {
     "name": "stdout",
     "output_type": "stream",
     "text": [
      "Epoch 1 of 100 took 56.348s\n",
      "  training loss (in-iteration): \t0.017195\n",
      "  validation loss: \t\t\t0.006959\n",
      "Epoch 2 of 100 took 55.468s\n",
      "  training loss (in-iteration): \t0.004702\n",
      "  validation loss: \t\t\t0.002406\n",
      "Epoch 3 of 100 took 55.484s\n",
      "  training loss (in-iteration): \t0.001873\n",
      "  validation loss: \t\t\t0.001438\n",
      "Epoch 4 of 100 took 55.467s\n",
      "  training loss (in-iteration): \t0.001368\n",
      "  validation loss: \t\t\t0.001147\n",
      "Epoch 5 of 100 took 55.524s\n",
      "  training loss (in-iteration): \t0.001146\n",
      "  validation loss: \t\t\t0.001000\n",
      "Epoch 6 of 100 took 56.252s\n",
      "  training loss (in-iteration): \t0.001021\n",
      "  validation loss: \t\t\t0.000909\n",
      "Epoch 7 of 100 took 56.680s\n",
      "  training loss (in-iteration): \t0.000938\n",
      "  validation loss: \t\t\t0.000831\n",
      "Epoch 8 of 100 took 54.816s\n",
      "  training loss (in-iteration): \t0.000880\n",
      "  validation loss: \t\t\t0.000788\n",
      "Epoch 9 of 100 took 55.407s\n",
      "  training loss (in-iteration): \t0.000835\n",
      "  validation loss: \t\t\t0.000748\n",
      "Epoch 10 of 100 took 55.228s\n",
      "  training loss (in-iteration): \t0.000797\n",
      "  validation loss: \t\t\t0.000716\n",
      "Epoch 11 of 100 took 55.708s\n",
      "  training loss (in-iteration): \t0.000763\n",
      "  validation loss: \t\t\t0.000689\n",
      "Epoch 12 of 100 took 56.961s\n",
      "  training loss (in-iteration): \t0.000734\n",
      "  validation loss: \t\t\t0.000653\n",
      "Epoch 13 of 100 took 55.470s\n",
      "  training loss (in-iteration): \t0.000707\n",
      "  validation loss: \t\t\t0.000628\n",
      "Epoch 14 of 100 took 55.701s\n",
      "  training loss (in-iteration): \t0.000684\n",
      "  validation loss: \t\t\t0.000604\n",
      "Epoch 15 of 100 took 55.445s\n",
      "  training loss (in-iteration): \t0.000664\n",
      "  validation loss: \t\t\t0.000581\n",
      "Epoch 16 of 100 took 54.315s\n",
      "  training loss (in-iteration): \t0.000646\n",
      "  validation loss: \t\t\t0.000566\n",
      "Epoch 17 of 100 took 55.185s\n",
      "  training loss (in-iteration): \t0.000630\n",
      "  validation loss: \t\t\t0.000549\n",
      "Epoch 18 of 100 took 54.754s\n",
      "  training loss (in-iteration): \t0.000616\n",
      "  validation loss: \t\t\t0.000538\n",
      "Epoch 19 of 100 took 57.400s\n",
      "  training loss (in-iteration): \t0.000603\n",
      "  validation loss: \t\t\t0.000526\n",
      "Epoch 20 of 100 took 62.458s\n",
      "  training loss (in-iteration): \t0.000592\n",
      "  validation loss: \t\t\t0.000518\n",
      "Epoch 21 of 100 took 62.858s\n",
      "  training loss (in-iteration): \t0.000582\n",
      "  validation loss: \t\t\t0.000513\n",
      "Epoch 22 of 100 took 57.567s\n",
      "  training loss (in-iteration): \t0.000573\n",
      "  validation loss: \t\t\t0.000509\n",
      "Epoch 23 of 100 took 55.489s\n",
      "  training loss (in-iteration): \t0.000565\n",
      "  validation loss: \t\t\t0.000505\n",
      "Epoch 24 of 100 took 56.001s\n",
      "  training loss (in-iteration): \t0.000557\n",
      "  validation loss: \t\t\t0.000500\n",
      "Epoch 25 of 100 took 55.017s\n",
      "  training loss (in-iteration): \t0.000550\n",
      "  validation loss: \t\t\t0.000495\n",
      "Epoch 26 of 100 took 55.292s\n",
      "  training loss (in-iteration): \t0.000543\n",
      "  validation loss: \t\t\t0.000492\n",
      "Epoch 27 of 100 took 55.066s\n",
      "  training loss (in-iteration): \t0.000537\n",
      "  validation loss: \t\t\t0.000486\n",
      "Epoch 28 of 100 took 55.980s\n",
      "  training loss (in-iteration): \t0.000531\n",
      "  validation loss: \t\t\t0.000483\n",
      "Epoch 29 of 100 took 55.335s\n",
      "  training loss (in-iteration): \t0.000525\n",
      "  validation loss: \t\t\t0.000481\n",
      "Epoch 30 of 100 took 55.492s\n",
      "  training loss (in-iteration): \t0.000519\n",
      "  validation loss: \t\t\t0.000478\n"
     ]
    },
    {
     "ename": "KeyboardInterrupt",
     "evalue": "",
     "output_type": "error",
     "traceback": [
      "\u001b[0;31m---------------------------------------------------------------------------\u001b[0m",
      "\u001b[0;31mKeyboardInterrupt\u001b[0m                         Traceback (most recent call last)",
      "\u001b[0;32m<ipython-input-35-0def43420e41>\u001b[0m in \u001b[0;36m<module>\u001b[0;34m()\u001b[0m\n\u001b[1;32m     14\u001b[0m     \u001b[0mautoencoder\u001b[0m\u001b[0;34m.\u001b[0m\u001b[0mtrain\u001b[0m\u001b[0;34m(\u001b[0m\u001b[0;32mTrue\u001b[0m\u001b[0;34m)\u001b[0m \u001b[0;31m# enable dropout / batch_norm training behavior\u001b[0m\u001b[0;34m\u001b[0m\u001b[0m\n\u001b[1;32m     15\u001b[0m     \u001b[0mi\u001b[0m \u001b[0;34m=\u001b[0m \u001b[0;36m0\u001b[0m\u001b[0;34m\u001b[0m\u001b[0m\n\u001b[0;32m---> 16\u001b[0;31m     \u001b[0;32mfor\u001b[0m \u001b[0mX_batch\u001b[0m\u001b[0;34m,\u001b[0m \u001b[0my_batch\u001b[0m \u001b[0;32min\u001b[0m \u001b[0mtrain_loader\u001b[0m\u001b[0;34m:\u001b[0m\u001b[0;34m\u001b[0m\u001b[0m\n\u001b[0m\u001b[1;32m     17\u001b[0m         \u001b[0mi\u001b[0m \u001b[0;34m+=\u001b[0m \u001b[0;36m1\u001b[0m\u001b[0;34m\u001b[0m\u001b[0m\n\u001b[1;32m     18\u001b[0m         \u001b[0;31m# train on batch\u001b[0m\u001b[0;34m\u001b[0m\u001b[0;34m\u001b[0m\u001b[0m\n",
      "\u001b[0;32m~/anaconda3/lib/python3.6/site-packages/torch/utils/data/dataloader.py\u001b[0m in \u001b[0;36m__next__\u001b[0;34m(self)\u001b[0m\n\u001b[1;32m    257\u001b[0m         \u001b[0;32mif\u001b[0m \u001b[0mself\u001b[0m\u001b[0;34m.\u001b[0m\u001b[0mnum_workers\u001b[0m \u001b[0;34m==\u001b[0m \u001b[0;36m0\u001b[0m\u001b[0;34m:\u001b[0m  \u001b[0;31m# same-process loading\u001b[0m\u001b[0;34m\u001b[0m\u001b[0m\n\u001b[1;32m    258\u001b[0m             \u001b[0mindices\u001b[0m \u001b[0;34m=\u001b[0m \u001b[0mnext\u001b[0m\u001b[0;34m(\u001b[0m\u001b[0mself\u001b[0m\u001b[0;34m.\u001b[0m\u001b[0msample_iter\u001b[0m\u001b[0;34m)\u001b[0m  \u001b[0;31m# may raise StopIteration\u001b[0m\u001b[0;34m\u001b[0m\u001b[0m\n\u001b[0;32m--> 259\u001b[0;31m             \u001b[0mbatch\u001b[0m \u001b[0;34m=\u001b[0m \u001b[0mself\u001b[0m\u001b[0;34m.\u001b[0m\u001b[0mcollate_fn\u001b[0m\u001b[0;34m(\u001b[0m\u001b[0;34m[\u001b[0m\u001b[0mself\u001b[0m\u001b[0;34m.\u001b[0m\u001b[0mdataset\u001b[0m\u001b[0;34m[\u001b[0m\u001b[0mi\u001b[0m\u001b[0;34m]\u001b[0m \u001b[0;32mfor\u001b[0m \u001b[0mi\u001b[0m \u001b[0;32min\u001b[0m \u001b[0mindices\u001b[0m\u001b[0;34m]\u001b[0m\u001b[0;34m)\u001b[0m\u001b[0;34m\u001b[0m\u001b[0m\n\u001b[0m\u001b[1;32m    260\u001b[0m             \u001b[0;32mif\u001b[0m \u001b[0mself\u001b[0m\u001b[0;34m.\u001b[0m\u001b[0mpin_memory\u001b[0m\u001b[0;34m:\u001b[0m\u001b[0;34m\u001b[0m\u001b[0m\n\u001b[1;32m    261\u001b[0m                 \u001b[0mbatch\u001b[0m \u001b[0;34m=\u001b[0m \u001b[0mpin_memory_batch\u001b[0m\u001b[0;34m(\u001b[0m\u001b[0mbatch\u001b[0m\u001b[0;34m)\u001b[0m\u001b[0;34m\u001b[0m\u001b[0m\n",
      "\u001b[0;32m~/anaconda3/lib/python3.6/site-packages/torch/utils/data/dataloader.py\u001b[0m in \u001b[0;36m<listcomp>\u001b[0;34m(.0)\u001b[0m\n\u001b[1;32m    257\u001b[0m         \u001b[0;32mif\u001b[0m \u001b[0mself\u001b[0m\u001b[0;34m.\u001b[0m\u001b[0mnum_workers\u001b[0m \u001b[0;34m==\u001b[0m \u001b[0;36m0\u001b[0m\u001b[0;34m:\u001b[0m  \u001b[0;31m# same-process loading\u001b[0m\u001b[0;34m\u001b[0m\u001b[0m\n\u001b[1;32m    258\u001b[0m             \u001b[0mindices\u001b[0m \u001b[0;34m=\u001b[0m \u001b[0mnext\u001b[0m\u001b[0;34m(\u001b[0m\u001b[0mself\u001b[0m\u001b[0;34m.\u001b[0m\u001b[0msample_iter\u001b[0m\u001b[0;34m)\u001b[0m  \u001b[0;31m# may raise StopIteration\u001b[0m\u001b[0;34m\u001b[0m\u001b[0m\n\u001b[0;32m--> 259\u001b[0;31m             \u001b[0mbatch\u001b[0m \u001b[0;34m=\u001b[0m \u001b[0mself\u001b[0m\u001b[0;34m.\u001b[0m\u001b[0mcollate_fn\u001b[0m\u001b[0;34m(\u001b[0m\u001b[0;34m[\u001b[0m\u001b[0mself\u001b[0m\u001b[0;34m.\u001b[0m\u001b[0mdataset\u001b[0m\u001b[0;34m[\u001b[0m\u001b[0mi\u001b[0m\u001b[0;34m]\u001b[0m \u001b[0;32mfor\u001b[0m \u001b[0mi\u001b[0m \u001b[0;32min\u001b[0m \u001b[0mindices\u001b[0m\u001b[0;34m]\u001b[0m\u001b[0;34m)\u001b[0m\u001b[0;34m\u001b[0m\u001b[0m\n\u001b[0m\u001b[1;32m    260\u001b[0m             \u001b[0;32mif\u001b[0m \u001b[0mself\u001b[0m\u001b[0;34m.\u001b[0m\u001b[0mpin_memory\u001b[0m\u001b[0;34m:\u001b[0m\u001b[0;34m\u001b[0m\u001b[0m\n\u001b[1;32m    261\u001b[0m                 \u001b[0mbatch\u001b[0m \u001b[0;34m=\u001b[0m \u001b[0mpin_memory_batch\u001b[0m\u001b[0;34m(\u001b[0m\u001b[0mbatch\u001b[0m\u001b[0;34m)\u001b[0m\u001b[0;34m\u001b[0m\u001b[0m\n",
      "\u001b[0;32m~/hw_sk/Projcet/loader.py\u001b[0m in \u001b[0;36m__getitem__\u001b[0;34m(self, i)\u001b[0m\n\u001b[1;32m    160\u001b[0m             \u001b[0mstickman\u001b[0m \u001b[0;34m=\u001b[0m \u001b[0mself\u001b[0m\u001b[0;34m.\u001b[0m\u001b[0mmake_joint_img\u001b[0m\u001b[0;34m(\u001b[0m\u001b[0;34m(\u001b[0m\u001b[0mwidth\u001b[0m\u001b[0;34m,\u001b[0m \u001b[0mheight\u001b[0m\u001b[0;34m,\u001b[0m \u001b[0;36m3\u001b[0m\u001b[0;34m)\u001b[0m\u001b[0;34m,\u001b[0m \u001b[0mself\u001b[0m\u001b[0;34m.\u001b[0m\u001b[0mjo\u001b[0m\u001b[0;34m,\u001b[0m \u001b[0mjoint_coord\u001b[0m\u001b[0;34m)\u001b[0m\u001b[0;34m\u001b[0m\u001b[0m\n\u001b[1;32m    161\u001b[0m             \u001b[0;32mif\u001b[0m \u001b[0mself\u001b[0m\u001b[0;34m.\u001b[0m\u001b[0mtransform\u001b[0m\u001b[0;34m:\u001b[0m\u001b[0;34m\u001b[0m\u001b[0m\n\u001b[0;32m--> 162\u001b[0;31m                 \u001b[0mimg\u001b[0m \u001b[0;34m=\u001b[0m \u001b[0mself\u001b[0m\u001b[0;34m.\u001b[0m\u001b[0mtransform\u001b[0m\u001b[0;34m(\u001b[0m\u001b[0mPIL\u001b[0m\u001b[0;34m.\u001b[0m\u001b[0mImage\u001b[0m\u001b[0;34m.\u001b[0m\u001b[0mfromarray\u001b[0m\u001b[0;34m(\u001b[0m\u001b[0mimg\u001b[0m\u001b[0;34m)\u001b[0m\u001b[0;34m)\u001b[0m\u001b[0;34m\u001b[0m\u001b[0m\n\u001b[0m\u001b[1;32m    163\u001b[0m                 \u001b[0mstickman\u001b[0m \u001b[0;34m=\u001b[0m \u001b[0mself\u001b[0m\u001b[0;34m.\u001b[0m\u001b[0mtransform\u001b[0m\u001b[0;34m(\u001b[0m\u001b[0mPIL\u001b[0m\u001b[0;34m.\u001b[0m\u001b[0mImage\u001b[0m\u001b[0;34m.\u001b[0m\u001b[0mfromarray\u001b[0m\u001b[0;34m(\u001b[0m\u001b[0mstickman\u001b[0m\u001b[0;34m)\u001b[0m\u001b[0;34m)\u001b[0m\u001b[0;34m\u001b[0m\u001b[0m\n\u001b[1;32m    164\u001b[0m             \u001b[0mimgs\u001b[0m\u001b[0;34m.\u001b[0m\u001b[0mappend\u001b[0m\u001b[0;34m(\u001b[0m\u001b[0mimg\u001b[0m\u001b[0;34m)\u001b[0m\u001b[0;34m\u001b[0m\u001b[0m\n",
      "\u001b[0;32m~/anaconda3/lib/python3.6/site-packages/torchvision-0.2.0-py3.6.egg/torchvision/transforms/transforms.py\u001b[0m in \u001b[0;36m__call__\u001b[0;34m(self, img)\u001b[0m\n\u001b[1;32m     40\u001b[0m     \u001b[0;32mdef\u001b[0m \u001b[0m__call__\u001b[0m\u001b[0;34m(\u001b[0m\u001b[0mself\u001b[0m\u001b[0;34m,\u001b[0m \u001b[0mimg\u001b[0m\u001b[0;34m)\u001b[0m\u001b[0;34m:\u001b[0m\u001b[0;34m\u001b[0m\u001b[0m\n\u001b[1;32m     41\u001b[0m         \u001b[0;32mfor\u001b[0m \u001b[0mt\u001b[0m \u001b[0;32min\u001b[0m \u001b[0mself\u001b[0m\u001b[0;34m.\u001b[0m\u001b[0mtransforms\u001b[0m\u001b[0;34m:\u001b[0m\u001b[0;34m\u001b[0m\u001b[0m\n\u001b[0;32m---> 42\u001b[0;31m             \u001b[0mimg\u001b[0m \u001b[0;34m=\u001b[0m \u001b[0mt\u001b[0m\u001b[0;34m(\u001b[0m\u001b[0mimg\u001b[0m\u001b[0;34m)\u001b[0m\u001b[0;34m\u001b[0m\u001b[0m\n\u001b[0m\u001b[1;32m     43\u001b[0m         \u001b[0;32mreturn\u001b[0m \u001b[0mimg\u001b[0m\u001b[0;34m\u001b[0m\u001b[0m\n\u001b[1;32m     44\u001b[0m \u001b[0;34m\u001b[0m\u001b[0m\n",
      "\u001b[0;32m~/anaconda3/lib/python3.6/site-packages/torchvision-0.2.0-py3.6.egg/torchvision/transforms/transforms.py\u001b[0m in \u001b[0;36m__call__\u001b[0;34m(self, pic)\u001b[0m\n\u001b[1;32m     51\u001b[0m     \"\"\"\n\u001b[1;32m     52\u001b[0m \u001b[0;34m\u001b[0m\u001b[0m\n\u001b[0;32m---> 53\u001b[0;31m     \u001b[0;32mdef\u001b[0m \u001b[0m__call__\u001b[0m\u001b[0;34m(\u001b[0m\u001b[0mself\u001b[0m\u001b[0;34m,\u001b[0m \u001b[0mpic\u001b[0m\u001b[0;34m)\u001b[0m\u001b[0;34m:\u001b[0m\u001b[0;34m\u001b[0m\u001b[0m\n\u001b[0m\u001b[1;32m     54\u001b[0m         \"\"\"\n\u001b[1;32m     55\u001b[0m         \u001b[0mArgs\u001b[0m\u001b[0;34m:\u001b[0m\u001b[0;34m\u001b[0m\u001b[0m\n",
      "\u001b[0;31mKeyboardInterrupt\u001b[0m: "
     ]
    }
   ],
   "source": [
    "# Train your autoencoder\n",
    "# Visualize progress in reconstruction and loss decay\n",
    "\n",
    "train_loss = []\n",
    "val_loss = []\n",
    "reconstructed_pictures = []\n",
    "\n",
    "import time\n",
    "num_epochs = 100 # total amount of full passes over training data\n",
    "\n",
    "for epoch in range(num_epochs):\n",
    "    # In each epoch, we do a full pass over the training data:\n",
    "    start_time = time.time()\n",
    "    autoencoder.train(True) # enable dropout / batch_norm training behavior\n",
    "    i = 0\n",
    "    for X_batch, y_batch in train_loader:\n",
    "        i += 1\n",
    "        # train on batch\n",
    "        X_batch_0 = torch.FloatTensor(X_batch[:, 0])\n",
    "        X_batch_0 = Variable(X_batch_0).cuda()\n",
    "#         X_batch = Variable(X_batch)\n",
    "#         y_batch = Variable(y_batch)\n",
    "        output_img, _ = autoencoder(X_batch_0)\n",
    "        loss = criterion(output_img, X_batch_0)\n",
    "        loss.backward()\n",
    "        optimizer.step()\n",
    "        optimizer.zero_grad()\n",
    "        train_loss.append(loss.cpu().data.numpy()[0])\n",
    "#         train_loss.append(loss.data.numpy())\n",
    "        \n",
    "        X_batch_1 = torch.FloatTensor(X_batch[:, 1])\n",
    "        X_batch_1 = Variable(X_batch_1).cuda()\n",
    "#         X_batch = Variable(X_batch)\n",
    "#         y_batch = Variable(y_batch)\n",
    "        output_img, _ = autoencoder(X_batch_1)\n",
    "        loss = criterion(output_img, X_batch_1)\n",
    "        loss.backward()\n",
    "        optimizer.step()\n",
    "        optimizer.zero_grad()\n",
    "        train_loss.append(loss.cpu().data.numpy()[0])\n",
    "#         train_loss.append(loss.data.numpy())\n",
    "#         print(i, \":\", loss.data.cpu().numpy()[0], end=\", \")\n",
    "\n",
    "    # And a full pass over the validation data:\n",
    "    autoencoder.train(False) # disable dropout / use averages for batch_norm\n",
    "    for X_batch, y_batch in val_loader:\n",
    "        X_batch_0 = Variable(X_batch[:, 0]).cuda()\n",
    "        output_img, _ = autoencoder(X_batch_0)\n",
    "        val_loss.append(criterion(output_img, X_batch_0).cpu().data.numpy()[0])\n",
    "        X_batch_1 = Variable(X_batch[:, 1]).cuda()\n",
    "        output_img, _ = autoencoder(X_batch_1)\n",
    "        val_loss.append(criterion(output_img, X_batch_1).cpu().data.numpy()[0])\n",
    "#         val_loss.append(criterion(output_img, X_batch).data.numpy())\n",
    "#     if epoch % 16 == 0:\n",
    "#         X_batch = Variable(torch.FloatTensor(np.array([X_val[247]]))).cuda()\n",
    "#         output_img, _ = autoencoder(X_batch)\n",
    "#         # reconstructed_pictures.append(output_img.cpu().data.numpy()[0])\n",
    "#         reconstructed_pictures.append(output_img.data.numpy())\n",
    "    # Then we print the results for this epoch:\n",
    "    print \n",
    "    print(\"Epoch {} of {} took {:.3f}s\".format(\n",
    "        epoch + 1, num_epochs, time.time() - start_time))\n",
    "    print(\"  training loss (in-iteration): \\t{:.6f}\".format(\n",
    "        np.mean(train_loss[-2 * len(train_loader):])))\n",
    "    print(\"  validation loss: \\t\\t\\t{:.6f}\".format(\n",
    "        np.mean(val_loss[-2 * len(val_loader):])))"
   ]
  },
  {
   "cell_type": "code",
   "execution_count": 36,
   "metadata": {
    "collapsed": true
   },
   "outputs": [],
   "source": [
    "def plot_gallery(images, h, w, n_row=3, n_col=6):\n",
    "    \"\"\"Helper function to plot a gallery of portraits\"\"\"\n",
    "    scale_const = 1.2\n",
    "    plt.figure(figsize=(3 / scale_const * n_col, 3.4 / scale_const * n_row))\n",
    "    plt.subplots_adjust(bottom=0, left=.01, right=.99, top=.90, hspace=.35)\n",
    "    for i in range(n_row * n_col):\n",
    "        plt.subplot(n_row, n_col, i + 1)\n",
    "        plt.imshow(images[i].numpy().transpose(1,2,0), cmap=plt.cm.gray, vmin=-1, vmax=1, interpolation='nearest')\n",
    "        plt.xticks(())\n",
    "        plt.yticks(())"
   ]
  },
  {
   "cell_type": "code",
   "execution_count": 53,
   "metadata": {
    "scrolled": false
   },
   "outputs": [
    {
     "data": {
      "image/png": "[encoded data removed]",
      "text/plain": [
       "<matplotlib.figure.Figure at 0x7fa0c26c37f0>"
      ]
     },
     "metadata": {},
     "output_type": "display_data"
    }
   ],
   "source": [
    "plot_gallery(X_batch[:3, 1], image_h, image_w, n_row=1, n_col=3)"
   ]
  },
  {
   "cell_type": "code",
   "execution_count": 56,
   "metadata": {},
   "outputs": [
    {
     "data": {
      "image/png": "[encoded data removed]",
      "text/plain": [
       "<matplotlib.figure.Figure at 0x7fa0b96f8128>"
      ]
     },
     "metadata": {},
     "output_type": "display_data"
    }
   ],
   "source": [
    "plot_gallery(y_batch[:3, 0], image_h, image_w, n_row=1, n_col=3)"
   ]
  },
  {
   "cell_type": "code",
   "execution_count": 55,
   "metadata": {},
   "outputs": [
    {
     "data": {
      "image/png": "[encoded data removed]",
      "text/plain": [
       "<matplotlib.figure.Figure at 0x7fa0c22c4080>"
      ]
     },
     "metadata": {},
     "output_type": "display_data"
    }
   ],
   "source": [
    "plot_gallery(autoencoder(Variable(y_batch[:3, 1]).cuda())[0].cpu().data, image_h, image_w, n_row=1, n_col=3)"
   ]
  },
  {
   "cell_type": "code",
   "execution_count": 42,
   "metadata": {
    "scrolled": true
   },
   "outputs": [
    {
     "name": "stderr",
     "output_type": "stream",
     "text": [
      "/home/koloskov/anaconda3/lib/python3.6/site-packages/torch/serialization.py:159: UserWarning: Couldn't retrieve source code for container of type Autoencoder4. It won't be checked for correctness upon loading.\n",
      "  \"type \" + obj.__name__ + \". It won't be checked \"\n"
     ]
    }
   ],
   "source": [
    "torch.save(autoencoder, \"autoencoder.people.4.pt\")"
   ]
  },
  {
   "cell_type": "markdown",
   "metadata": {},
   "source": [
    "# Train stickmans"
   ]
  },
  {
   "cell_type": "code",
   "execution_count": 45,
   "metadata": {
    "collapsed": true
   },
   "outputs": [],
   "source": [
    "# Create MSE loss function\n",
    "criterion = torch.nn.MSELoss()\n",
    "\n",
    "autoencoder = Autoencoder4().cuda()\n",
    "\n",
    "# Use Adam optimizer\n",
    "optimizer = optim.Adam(autoencoder.parameters(), lr=1e-3)"
   ]
  },
  {
   "cell_type": "code",
   "execution_count": 46,
   "metadata": {},
   "outputs": [
    {
     "name": "stdout",
     "output_type": "stream",
     "text": [
      "Epoch 1 of 100 took 55.506s\n",
      "  training loss (in-iteration): \t0.031539\n",
      "  validation loss: \t\t\t0.004092\n",
      "Epoch 2 of 100 took 55.456s\n",
      "  training loss (in-iteration): \t0.002874\n",
      "  validation loss: \t\t\t0.002067\n",
      "Epoch 3 of 100 took 54.498s\n",
      "  training loss (in-iteration): \t0.001614\n",
      "  validation loss: \t\t\t0.001265\n",
      "Epoch 4 of 100 took 54.376s\n",
      "  training loss (in-iteration): \t0.001009\n",
      "  validation loss: \t\t\t0.000900\n",
      "Epoch 5 of 100 took 54.630s\n",
      "  training loss (in-iteration): \t0.000739\n",
      "  validation loss: \t\t\t0.000708\n",
      "Epoch 6 of 100 took 56.645s\n",
      "  training loss (in-iteration): \t0.000610\n",
      "  validation loss: \t\t\t0.000601\n",
      "Epoch 7 of 100 took 57.803s\n",
      "  training loss (in-iteration): \t0.000534\n",
      "  validation loss: \t\t\t0.000539\n",
      "Epoch 8 of 100 took 60.079s\n",
      "  training loss (in-iteration): \t0.000481\n",
      "  validation loss: \t\t\t0.000479\n",
      "Epoch 9 of 100 took 60.249s\n",
      "  training loss (in-iteration): \t0.000442\n",
      "  validation loss: \t\t\t0.000445\n",
      "Epoch 10 of 100 took 58.670s\n",
      "  training loss (in-iteration): \t0.000405\n",
      "  validation loss: \t\t\t0.000396\n",
      "Epoch 11 of 100 took 56.204s\n",
      "  training loss (in-iteration): \t0.000339\n",
      "  validation loss: \t\t\t0.000329\n",
      "Epoch 12 of 100 took 56.444s\n",
      "  training loss (in-iteration): \t0.000295\n",
      "  validation loss: \t\t\t0.000301\n",
      "Epoch 13 of 100 took 55.639s\n",
      "  training loss (in-iteration): \t0.000272\n",
      "  validation loss: \t\t\t0.000283\n",
      "Epoch 14 of 100 took 55.672s\n",
      "  training loss (in-iteration): \t0.000254\n",
      "  validation loss: \t\t\t0.000268\n",
      "Epoch 15 of 100 took 55.144s\n",
      "  training loss (in-iteration): \t0.000240\n",
      "  validation loss: \t\t\t0.000261\n",
      "Epoch 16 of 100 took 54.877s\n",
      "  training loss (in-iteration): \t0.000228\n",
      "  validation loss: \t\t\t0.000248\n",
      "Epoch 17 of 100 took 55.721s\n",
      "  training loss (in-iteration): \t0.000218\n",
      "  validation loss: \t\t\t0.000239\n",
      "Epoch 18 of 100 took 57.447s\n",
      "  training loss (in-iteration): \t0.000209\n",
      "  validation loss: \t\t\t0.000230\n",
      "Epoch 19 of 100 took 55.672s\n",
      "  training loss (in-iteration): \t0.000201\n",
      "  validation loss: \t\t\t0.000224\n",
      "Epoch 20 of 100 took 56.144s\n",
      "  training loss (in-iteration): \t0.000194\n",
      "  validation loss: \t\t\t0.000218\n",
      "Epoch 21 of 100 took 55.645s\n",
      "  training loss (in-iteration): \t0.000187\n",
      "  validation loss: \t\t\t0.000214\n",
      "Epoch 22 of 100 took 55.453s\n",
      "  training loss (in-iteration): \t0.000181\n",
      "  validation loss: \t\t\t0.000210\n",
      "Epoch 23 of 100 took 55.064s\n",
      "  training loss (in-iteration): \t0.000175\n",
      "  validation loss: \t\t\t0.000205\n",
      "Epoch 24 of 100 took 55.669s\n",
      "  training loss (in-iteration): \t0.000170\n",
      "  validation loss: \t\t\t0.000201\n",
      "Epoch 25 of 100 took 56.310s\n",
      "  training loss (in-iteration): \t0.000165\n",
      "  validation loss: \t\t\t0.000195\n",
      "Epoch 26 of 100 took 54.908s\n",
      "  training loss (in-iteration): \t0.000160\n",
      "  validation loss: \t\t\t0.000189\n",
      "Epoch 27 of 100 took 55.781s\n",
      "  training loss (in-iteration): \t0.000155\n",
      "  validation loss: \t\t\t0.000185\n",
      "Epoch 28 of 100 took 56.014s\n",
      "  training loss (in-iteration): \t0.000151\n",
      "  validation loss: \t\t\t0.000181\n",
      "Epoch 29 of 100 took 55.468s\n",
      "  training loss (in-iteration): \t0.000147\n",
      "  validation loss: \t\t\t0.000180\n",
      "Epoch 30 of 100 took 54.158s\n",
      "  training loss (in-iteration): \t0.000143\n",
      "  validation loss: \t\t\t0.000175\n",
      "Epoch 31 of 100 took 55.389s\n",
      "  training loss (in-iteration): \t0.000140\n",
      "  validation loss: \t\t\t0.000173\n",
      "Epoch 32 of 100 took 53.591s\n",
      "  training loss (in-iteration): \t0.000137\n",
      "  validation loss: \t\t\t0.000171\n",
      "Epoch 33 of 100 took 56.315s\n",
      "  training loss (in-iteration): \t0.000134\n",
      "  validation loss: \t\t\t0.000166\n",
      "Epoch 34 of 100 took 61.537s\n",
      "  training loss (in-iteration): \t0.000131\n",
      "  validation loss: \t\t\t0.000161\n",
      "Epoch 35 of 100 took 58.063s\n",
      "  training loss (in-iteration): \t0.000128\n",
      "  validation loss: \t\t\t0.000156\n",
      "Epoch 36 of 100 took 58.044s\n",
      "  training loss (in-iteration): \t0.000126\n",
      "  validation loss: \t\t\t0.000155\n",
      "Epoch 37 of 100 took 56.857s\n",
      "  training loss (in-iteration): \t0.000124\n",
      "  validation loss: \t\t\t0.000155\n",
      "Epoch 38 of 100 took 55.840s\n",
      "  training loss (in-iteration): \t0.000122\n",
      "  validation loss: \t\t\t0.000150\n",
      "Epoch 39 of 100 took 55.951s\n",
      "  training loss (in-iteration): \t0.000120\n",
      "  validation loss: \t\t\t0.000148\n",
      "Epoch 40 of 100 took 54.717s\n",
      "  training loss (in-iteration): \t0.000118\n",
      "  validation loss: \t\t\t0.000147\n",
      "Epoch 41 of 100 took 54.232s\n",
      "  training loss (in-iteration): \t0.000116\n",
      "  validation loss: \t\t\t0.000145\n",
      "Epoch 42 of 100 took 54.380s\n",
      "  training loss (in-iteration): \t0.000115\n",
      "  validation loss: \t\t\t0.000143\n",
      "Epoch 43 of 100 took 55.406s\n",
      "  training loss (in-iteration): \t0.000113\n",
      "  validation loss: \t\t\t0.000142\n",
      "Epoch 44 of 100 took 55.215s\n",
      "  training loss (in-iteration): \t0.000112\n",
      "  validation loss: \t\t\t0.000141\n",
      "Epoch 45 of 100 took 55.281s\n",
      "  training loss (in-iteration): \t0.000110\n",
      "  validation loss: \t\t\t0.000141\n",
      "Epoch 46 of 100 took 55.238s\n",
      "  training loss (in-iteration): \t0.000109\n",
      "  validation loss: \t\t\t0.000141\n",
      "Epoch 47 of 100 took 55.585s\n",
      "  training loss (in-iteration): \t0.000107\n",
      "  validation loss: \t\t\t0.000139\n",
      "Epoch 48 of 100 took 55.973s\n",
      "  training loss (in-iteration): \t0.000106\n",
      "  validation loss: \t\t\t0.000138\n",
      "Epoch 49 of 100 took 55.919s\n",
      "  training loss (in-iteration): \t0.000105\n",
      "  validation loss: \t\t\t0.000137\n",
      "Epoch 50 of 100 took 55.594s\n",
      "  training loss (in-iteration): \t0.000104\n",
      "  validation loss: \t\t\t0.000135\n",
      "Epoch 51 of 100 took 55.777s\n",
      "  training loss (in-iteration): \t0.000103\n",
      "  validation loss: \t\t\t0.000131\n",
      "Epoch 52 of 100 took 55.515s\n",
      "  training loss (in-iteration): \t0.000102\n",
      "  validation loss: \t\t\t0.000131\n",
      "Epoch 53 of 100 took 55.805s\n",
      "  training loss (in-iteration): \t0.000100\n",
      "  validation loss: \t\t\t0.000130\n",
      "Epoch 54 of 100 took 54.717s\n",
      "  training loss (in-iteration): \t0.000099\n",
      "  validation loss: \t\t\t0.000130\n",
      "Epoch 55 of 100 took 55.353s\n",
      "  training loss (in-iteration): \t0.000098\n",
      "  validation loss: \t\t\t0.000129\n",
      "Epoch 56 of 100 took 68.572s\n",
      "  training loss (in-iteration): \t0.000097\n",
      "  validation loss: \t\t\t0.000128\n",
      "Epoch 57 of 100 took 79.908s\n",
      "  training loss (in-iteration): \t0.000096\n",
      "  validation loss: \t\t\t0.000125\n",
      "Epoch 58 of 100 took 61.089s\n",
      "  training loss (in-iteration): \t0.000096\n",
      "  validation loss: \t\t\t0.000125\n",
      "Epoch 59 of 100 took 56.233s\n",
      "  training loss (in-iteration): \t0.000095\n",
      "  validation loss: \t\t\t0.000125\n",
      "Epoch 60 of 100 took 56.990s\n",
      "  training loss (in-iteration): \t0.000094\n",
      "  validation loss: \t\t\t0.000124\n",
      "Epoch 61 of 100 took 56.141s\n",
      "  training loss (in-iteration): \t0.000093\n",
      "  validation loss: \t\t\t0.000122\n",
      "Epoch 62 of 100 took 55.996s\n",
      "  training loss (in-iteration): \t0.000093\n",
      "  validation loss: \t\t\t0.000121\n",
      "Epoch 63 of 100 took 57.544s\n",
      "  training loss (in-iteration): \t0.000092\n",
      "  validation loss: \t\t\t0.000121\n",
      "Epoch 64 of 100 took 57.283s\n",
      "  training loss (in-iteration): \t0.000091\n",
      "  validation loss: \t\t\t0.000120\n",
      "Epoch 65 of 100 took 55.876s\n",
      "  training loss (in-iteration): \t0.000091\n",
      "  validation loss: \t\t\t0.000120\n",
      "Epoch 66 of 100 took 55.522s\n",
      "  training loss (in-iteration): \t0.000090\n",
      "  validation loss: \t\t\t0.000121\n",
      "Epoch 67 of 100 took 55.787s\n",
      "  training loss (in-iteration): \t0.000090\n",
      "  validation loss: \t\t\t0.000120\n",
      "Epoch 68 of 100 took 56.044s\n",
      "  training loss (in-iteration): \t0.000089\n",
      "  validation loss: \t\t\t0.000120\n",
      "Epoch 69 of 100 took 54.532s\n",
      "  training loss (in-iteration): \t0.000089\n",
      "  validation loss: \t\t\t0.000120\n",
      "Epoch 70 of 100 took 64.444s\n",
      "  training loss (in-iteration): \t0.000088\n",
      "  validation loss: \t\t\t0.000120\n",
      "Epoch 71 of 100 took 76.292s\n",
      "  training loss (in-iteration): \t0.000088\n",
      "  validation loss: \t\t\t0.000119\n",
      "Epoch 72 of 100 took 60.450s\n",
      "  training loss (in-iteration): \t0.000088\n",
      "  validation loss: \t\t\t0.000116\n",
      "Epoch 73 of 100 took 56.304s\n",
      "  training loss (in-iteration): \t0.000087\n",
      "  validation loss: \t\t\t0.000116\n",
      "Epoch 74 of 100 took 56.526s\n",
      "  training loss (in-iteration): \t0.000087\n",
      "  validation loss: \t\t\t0.000115\n",
      "Epoch 75 of 100 took 55.783s\n",
      "  training loss (in-iteration): \t0.000086\n",
      "  validation loss: \t\t\t0.000115\n",
      "Epoch 76 of 100 took 56.724s\n",
      "  training loss (in-iteration): \t0.000086\n",
      "  validation loss: \t\t\t0.000114\n",
      "Epoch 77 of 100 took 56.257s\n",
      "  training loss (in-iteration): \t0.000086\n",
      "  validation loss: \t\t\t0.000112\n",
      "Epoch 78 of 100 took 56.655s\n",
      "  training loss (in-iteration): \t0.000085\n",
      "  validation loss: \t\t\t0.000112\n",
      "Epoch 79 of 100 took 64.336s\n",
      "  training loss (in-iteration): \t0.000085\n",
      "  validation loss: \t\t\t0.000111\n",
      "Epoch 80 of 100 took 64.452s\n",
      "  training loss (in-iteration): \t0.000085\n",
      "  validation loss: \t\t\t0.000112\n",
      "Epoch 81 of 100 took 60.310s\n",
      "  training loss (in-iteration): \t0.000084\n",
      "  validation loss: \t\t\t0.000111\n"
     ]
    },
    {
     "name": "stdout",
     "output_type": "stream",
     "text": [
      "Epoch 82 of 100 took 56.259s\n",
      "  training loss (in-iteration): \t0.000084\n",
      "  validation loss: \t\t\t0.000112\n",
      "Epoch 83 of 100 took 56.090s\n",
      "  training loss (in-iteration): \t0.000083\n",
      "  validation loss: \t\t\t0.000111\n",
      "Epoch 84 of 100 took 56.727s\n",
      "  training loss (in-iteration): \t0.000083\n",
      "  validation loss: \t\t\t0.000112\n",
      "Epoch 85 of 100 took 56.003s\n",
      "  training loss (in-iteration): \t0.000083\n",
      "  validation loss: \t\t\t0.000113\n",
      "Epoch 86 of 100 took 56.760s\n",
      "  training loss (in-iteration): \t0.000083\n",
      "  validation loss: \t\t\t0.000113\n",
      "Epoch 87 of 100 took 55.806s\n",
      "  training loss (in-iteration): \t0.000082\n",
      "  validation loss: \t\t\t0.000114\n",
      "Epoch 88 of 100 took 54.700s\n",
      "  training loss (in-iteration): \t0.000082\n",
      "  validation loss: \t\t\t0.000114\n",
      "Epoch 89 of 100 took 60.102s\n",
      "  training loss (in-iteration): \t0.000082\n",
      "  validation loss: \t\t\t0.000113\n",
      "Epoch 90 of 100 took 60.198s\n",
      "  training loss (in-iteration): \t0.000081\n",
      "  validation loss: \t\t\t0.000113\n"
     ]
    },
    {
     "ename": "TypeError",
     "evalue": "int() argument must be a string, a bytes-like object or a number, not 'JpegImageFile'",
     "output_type": "error",
     "traceback": [
      "\u001b[0;31m---------------------------------------------------------------------------\u001b[0m",
      "\u001b[0;31mTypeError\u001b[0m                                 Traceback (most recent call last)",
      "\u001b[0;32m<ipython-input-46-4490f7042f70>\u001b[0m in \u001b[0;36m<module>\u001b[0;34m()\u001b[0m\n\u001b[1;32m     14\u001b[0m     \u001b[0mautoencoder\u001b[0m\u001b[0;34m.\u001b[0m\u001b[0mtrain\u001b[0m\u001b[0;34m(\u001b[0m\u001b[0;32mTrue\u001b[0m\u001b[0;34m)\u001b[0m \u001b[0;31m# enable dropout / batch_norm training behavior\u001b[0m\u001b[0;34m\u001b[0m\u001b[0m\n\u001b[1;32m     15\u001b[0m     \u001b[0mi\u001b[0m \u001b[0;34m=\u001b[0m \u001b[0;36m0\u001b[0m\u001b[0;34m\u001b[0m\u001b[0m\n\u001b[0;32m---> 16\u001b[0;31m     \u001b[0;32mfor\u001b[0m \u001b[0mX_batch\u001b[0m\u001b[0;34m,\u001b[0m \u001b[0my_batch\u001b[0m \u001b[0;32min\u001b[0m \u001b[0mtrain_loader\u001b[0m\u001b[0;34m:\u001b[0m\u001b[0;34m\u001b[0m\u001b[0m\n\u001b[0m\u001b[1;32m     17\u001b[0m         \u001b[0mi\u001b[0m \u001b[0;34m+=\u001b[0m \u001b[0;36m1\u001b[0m\u001b[0;34m\u001b[0m\u001b[0m\n\u001b[1;32m     18\u001b[0m         \u001b[0;31m# train on batch\u001b[0m\u001b[0;34m\u001b[0m\u001b[0;34m\u001b[0m\u001b[0m\n",
      "\u001b[0;32m~/anaconda3/lib/python3.6/site-packages/torch/utils/data/dataloader.py\u001b[0m in \u001b[0;36m__next__\u001b[0;34m(self)\u001b[0m\n\u001b[1;32m    257\u001b[0m         \u001b[0;32mif\u001b[0m \u001b[0mself\u001b[0m\u001b[0;34m.\u001b[0m\u001b[0mnum_workers\u001b[0m \u001b[0;34m==\u001b[0m \u001b[0;36m0\u001b[0m\u001b[0;34m:\u001b[0m  \u001b[0;31m# same-process loading\u001b[0m\u001b[0;34m\u001b[0m\u001b[0m\n\u001b[1;32m    258\u001b[0m             \u001b[0mindices\u001b[0m \u001b[0;34m=\u001b[0m \u001b[0mnext\u001b[0m\u001b[0;34m(\u001b[0m\u001b[0mself\u001b[0m\u001b[0;34m.\u001b[0m\u001b[0msample_iter\u001b[0m\u001b[0;34m)\u001b[0m  \u001b[0;31m# may raise StopIteration\u001b[0m\u001b[0;34m\u001b[0m\u001b[0m\n\u001b[0;32m--> 259\u001b[0;31m             \u001b[0mbatch\u001b[0m \u001b[0;34m=\u001b[0m \u001b[0mself\u001b[0m\u001b[0;34m.\u001b[0m\u001b[0mcollate_fn\u001b[0m\u001b[0;34m(\u001b[0m\u001b[0;34m[\u001b[0m\u001b[0mself\u001b[0m\u001b[0;34m.\u001b[0m\u001b[0mdataset\u001b[0m\u001b[0;34m[\u001b[0m\u001b[0mi\u001b[0m\u001b[0;34m]\u001b[0m \u001b[0;32mfor\u001b[0m \u001b[0mi\u001b[0m \u001b[0;32min\u001b[0m \u001b[0mindices\u001b[0m\u001b[0;34m]\u001b[0m\u001b[0;34m)\u001b[0m\u001b[0;34m\u001b[0m\u001b[0m\n\u001b[0m\u001b[1;32m    260\u001b[0m             \u001b[0;32mif\u001b[0m \u001b[0mself\u001b[0m\u001b[0;34m.\u001b[0m\u001b[0mpin_memory\u001b[0m\u001b[0;34m:\u001b[0m\u001b[0;34m\u001b[0m\u001b[0m\n\u001b[1;32m    261\u001b[0m                 \u001b[0mbatch\u001b[0m \u001b[0;34m=\u001b[0m \u001b[0mpin_memory_batch\u001b[0m\u001b[0;34m(\u001b[0m\u001b[0mbatch\u001b[0m\u001b[0;34m)\u001b[0m\u001b[0;34m\u001b[0m\u001b[0m\n",
      "\u001b[0;32m~/anaconda3/lib/python3.6/site-packages/torch/utils/data/dataloader.py\u001b[0m in \u001b[0;36m<listcomp>\u001b[0;34m(.0)\u001b[0m\n\u001b[1;32m    257\u001b[0m         \u001b[0;32mif\u001b[0m \u001b[0mself\u001b[0m\u001b[0;34m.\u001b[0m\u001b[0mnum_workers\u001b[0m \u001b[0;34m==\u001b[0m \u001b[0;36m0\u001b[0m\u001b[0;34m:\u001b[0m  \u001b[0;31m# same-process loading\u001b[0m\u001b[0;34m\u001b[0m\u001b[0m\n\u001b[1;32m    258\u001b[0m             \u001b[0mindices\u001b[0m \u001b[0;34m=\u001b[0m \u001b[0mnext\u001b[0m\u001b[0;34m(\u001b[0m\u001b[0mself\u001b[0m\u001b[0;34m.\u001b[0m\u001b[0msample_iter\u001b[0m\u001b[0;34m)\u001b[0m  \u001b[0;31m# may raise StopIteration\u001b[0m\u001b[0;34m\u001b[0m\u001b[0m\n\u001b[0;32m--> 259\u001b[0;31m             \u001b[0mbatch\u001b[0m \u001b[0;34m=\u001b[0m \u001b[0mself\u001b[0m\u001b[0;34m.\u001b[0m\u001b[0mcollate_fn\u001b[0m\u001b[0;34m(\u001b[0m\u001b[0;34m[\u001b[0m\u001b[0mself\u001b[0m\u001b[0;34m.\u001b[0m\u001b[0mdataset\u001b[0m\u001b[0;34m[\u001b[0m\u001b[0mi\u001b[0m\u001b[0;34m]\u001b[0m \u001b[0;32mfor\u001b[0m \u001b[0mi\u001b[0m \u001b[0;32min\u001b[0m \u001b[0mindices\u001b[0m\u001b[0;34m]\u001b[0m\u001b[0;34m)\u001b[0m\u001b[0;34m\u001b[0m\u001b[0m\n\u001b[0m\u001b[1;32m    260\u001b[0m             \u001b[0;32mif\u001b[0m \u001b[0mself\u001b[0m\u001b[0;34m.\u001b[0m\u001b[0mpin_memory\u001b[0m\u001b[0;34m:\u001b[0m\u001b[0;34m\u001b[0m\u001b[0m\n\u001b[1;32m    261\u001b[0m                 \u001b[0mbatch\u001b[0m \u001b[0;34m=\u001b[0m \u001b[0mpin_memory_batch\u001b[0m\u001b[0;34m(\u001b[0m\u001b[0mbatch\u001b[0m\u001b[0;34m)\u001b[0m\u001b[0;34m\u001b[0m\u001b[0m\n",
      "\u001b[0;32m~/hw_sk/Projcet/loader.py\u001b[0m in \u001b[0;36m__getitem__\u001b[0;34m(self, i)\u001b[0m\n\u001b[1;32m    154\u001b[0m             \u001b[0;32mif\u001b[0m \u001b[0mnum_man\u001b[0m \u001b[0;34m==\u001b[0m \u001b[0;36m2\u001b[0m\u001b[0;34m:\u001b[0m\u001b[0;34m\u001b[0m\u001b[0m\n\u001b[1;32m    155\u001b[0m                 \u001b[0;32mbreak\u001b[0m\u001b[0;34m\u001b[0m\u001b[0m\n\u001b[0;32m--> 156\u001b[0;31m             \u001b[0mimg\u001b[0m \u001b[0;34m=\u001b[0m \u001b[0mself\u001b[0m\u001b[0;34m.\u001b[0m\u001b[0mload_img\u001b[0m\u001b[0;34m(\u001b[0m\u001b[0;34m\"../deepfashion/\"\u001b[0m \u001b[0;34m+\u001b[0m \u001b[0mman\u001b[0m\u001b[0;34m[\u001b[0m\u001b[0;36m0\u001b[0m\u001b[0;34m]\u001b[0m\u001b[0;34m)\u001b[0m\u001b[0;34m\u001b[0m\u001b[0m\n\u001b[0m\u001b[1;32m    157\u001b[0m             \u001b[0mwidth\u001b[0m\u001b[0;34m,\u001b[0m \u001b[0mheight\u001b[0m \u001b[0;34m=\u001b[0m \u001b[0mimg\u001b[0m\u001b[0;34m.\u001b[0m\u001b[0mshape\u001b[0m\u001b[0;34m[\u001b[0m\u001b[0;36m0\u001b[0m\u001b[0;34m]\u001b[0m\u001b[0;34m,\u001b[0m \u001b[0mimg\u001b[0m\u001b[0;34m.\u001b[0m\u001b[0mshape\u001b[0m\u001b[0;34m[\u001b[0m\u001b[0;36m1\u001b[0m\u001b[0;34m]\u001b[0m\u001b[0;34m\u001b[0m\u001b[0m\n\u001b[1;32m    158\u001b[0m             \u001b[0mjoints_to_img_size\u001b[0m \u001b[0;34m=\u001b[0m \u001b[0mnp\u001b[0m\u001b[0;34m.\u001b[0m\u001b[0marray\u001b[0m\u001b[0;34m(\u001b[0m\u001b[0;34m[\u001b[0m\u001b[0;34m[\u001b[0m\u001b[0mwidth\u001b[0m\u001b[0;34m,\u001b[0m \u001b[0mheight\u001b[0m\u001b[0;34m]\u001b[0m\u001b[0;34m]\u001b[0m\u001b[0;34m)\u001b[0m\u001b[0;34m\u001b[0m\u001b[0m\n",
      "\u001b[0;32m~/hw_sk/Projcet/loader.py\u001b[0m in \u001b[0;36mload_img\u001b[0;34m(self, path)\u001b[0m\n\u001b[1;32m     65\u001b[0m             \u001b[0mimg\u001b[0m \u001b[0;34m=\u001b[0m \u001b[0mimg\u001b[0m\u001b[0;34m.\u001b[0m\u001b[0mconvert\u001b[0m\u001b[0;34m(\u001b[0m\u001b[0;34m'RGB'\u001b[0m\u001b[0;34m)\u001b[0m\u001b[0;34m\u001b[0m\u001b[0m\n\u001b[1;32m     66\u001b[0m \u001b[0;34m\u001b[0m\u001b[0m\n\u001b[0;32m---> 67\u001b[0;31m         \u001b[0mx\u001b[0m \u001b[0;34m=\u001b[0m \u001b[0mnp\u001b[0m\u001b[0;34m.\u001b[0m\u001b[0masarray\u001b[0m\u001b[0;34m(\u001b[0m\u001b[0mimg\u001b[0m\u001b[0;34m,\u001b[0m \u001b[0mdtype\u001b[0m \u001b[0;34m=\u001b[0m \u001b[0;34m\"uint8\"\u001b[0m\u001b[0;34m)\u001b[0m\u001b[0;34m\u001b[0m\u001b[0m\n\u001b[0m\u001b[1;32m     68\u001b[0m         \u001b[0;32mif\u001b[0m \u001b[0mlen\u001b[0m\u001b[0;34m(\u001b[0m\u001b[0mx\u001b[0m\u001b[0;34m.\u001b[0m\u001b[0mshape\u001b[0m\u001b[0;34m)\u001b[0m \u001b[0;34m==\u001b[0m \u001b[0;36m2\u001b[0m\u001b[0;34m:\u001b[0m\u001b[0;34m\u001b[0m\u001b[0m\n\u001b[1;32m     69\u001b[0m             \u001b[0mx\u001b[0m \u001b[0;34m=\u001b[0m \u001b[0mnp\u001b[0m\u001b[0;34m.\u001b[0m\u001b[0mexpand_dims\u001b[0m\u001b[0;34m(\u001b[0m\u001b[0mx\u001b[0m\u001b[0;34m,\u001b[0m \u001b[0;34m-\u001b[0m\u001b[0;36m1\u001b[0m\u001b[0;34m)\u001b[0m\u001b[0;34m\u001b[0m\u001b[0m\n",
      "\u001b[0;32m~/anaconda3/lib/python3.6/site-packages/numpy/core/numeric.py\u001b[0m in \u001b[0;36masarray\u001b[0;34m(a, dtype, order)\u001b[0m\n\u001b[1;32m    529\u001b[0m \u001b[0;34m\u001b[0m\u001b[0m\n\u001b[1;32m    530\u001b[0m     \"\"\"\n\u001b[0;32m--> 531\u001b[0;31m     \u001b[0;32mreturn\u001b[0m \u001b[0marray\u001b[0m\u001b[0;34m(\u001b[0m\u001b[0ma\u001b[0m\u001b[0;34m,\u001b[0m \u001b[0mdtype\u001b[0m\u001b[0;34m,\u001b[0m \u001b[0mcopy\u001b[0m\u001b[0;34m=\u001b[0m\u001b[0;32mFalse\u001b[0m\u001b[0;34m,\u001b[0m \u001b[0morder\u001b[0m\u001b[0;34m=\u001b[0m\u001b[0morder\u001b[0m\u001b[0;34m)\u001b[0m\u001b[0;34m\u001b[0m\u001b[0m\n\u001b[0m\u001b[1;32m    532\u001b[0m \u001b[0;34m\u001b[0m\u001b[0m\n\u001b[1;32m    533\u001b[0m \u001b[0;34m\u001b[0m\u001b[0m\n",
      "\u001b[0;31mTypeError\u001b[0m: int() argument must be a string, a bytes-like object or a number, not 'JpegImageFile'"
     ]
    }
   ],
   "source": [
    "# Train your autoencoder\n",
    "# Visualize progress in reconstruction and loss decay\n",
    "\n",
    "train_loss = []\n",
    "val_loss = []\n",
    "reconstructed_pictures = []\n",
    "\n",
    "import time\n",
    "num_epochs = 100 # total amount of full passes over training data\n",
    "\n",
    "for epoch in range(num_epochs):\n",
    "    # In each epoch, we do a full pass over the training data:\n",
    "    start_time = time.time()\n",
    "    autoencoder.train(True) # enable dropout / batch_norm training behavior\n",
    "    i = 0\n",
    "    for X_batch, y_batch in train_loader:\n",
    "        i += 1\n",
    "        # train on batch\n",
    "        X_batch_0 = torch.FloatTensor(y_batch[:, 0])\n",
    "        X_batch_0 = Variable(X_batch_0).cuda()\n",
    "#         X_batch = Variable(X_batch)\n",
    "#         y_batch = Variable(y_batch)\n",
    "        output_img, _ = autoencoder(X_batch_0)\n",
    "        loss = criterion(output_img, X_batch_0)\n",
    "        loss.backward()\n",
    "        optimizer.step()\n",
    "        optimizer.zero_grad()\n",
    "        train_loss.append(loss.cpu().data.numpy()[0])\n",
    "#         train_loss.append(loss.data.numpy())\n",
    "        \n",
    "        X_batch_1 = torch.FloatTensor(y_batch[:, 1])\n",
    "        X_batch_1 = Variable(X_batch_1).cuda()\n",
    "#         X_batch = Variable(X_batch)\n",
    "#         y_batch = Variable(y_batch)\n",
    "        output_img, _ = autoencoder(X_batch_1)\n",
    "        loss = criterion(output_img, X_batch_1)\n",
    "        loss.backward()\n",
    "        optimizer.step()\n",
    "        optimizer.zero_grad()\n",
    "        train_loss.append(loss.cpu().data.numpy()[0])\n",
    "#         train_loss.append(loss.data.numpy())\n",
    "#         print(i, \":\", loss.data.cpu().numpy()[0], end=\", \")\n",
    "\n",
    "    # And a full pass over the validation data:\n",
    "    autoencoder.train(False) # disable dropout / use averages for batch_norm\n",
    "    for X_batch, y_batch in val_loader:\n",
    "        X_batch_0 = Variable(y_batch[:, 0]).cuda()\n",
    "        output_img, _ = autoencoder(X_batch_0)\n",
    "        val_loss.append(criterion(output_img, X_batch_0).cpu().data.numpy()[0])\n",
    "        X_batch_1 = Variable(y_batch[:, 1]).cuda()\n",
    "        output_img, _ = autoencoder(X_batch_1)\n",
    "        val_loss.append(criterion(output_img, X_batch_1).cpu().data.numpy()[0])\n",
    "#         val_loss.append(criterion(output_img, X_batch).data.numpy())\n",
    "#     if epoch % 16 == 0:\n",
    "#         X_batch = Variable(torch.FloatTensor(np.array([X_val[247]]))).cuda()\n",
    "#         output_img, _ = autoencoder(X_batch)\n",
    "#         # reconstructed_pictures.append(output_img.cpu().data.numpy()[0])\n",
    "#         reconstructed_pictures.append(output_img.data.numpy())\n",
    "    # Then we print the results for this epoch:\n",
    "    print \n",
    "    print(\"Epoch {} of {} took {:.3f}s\".format(\n",
    "        epoch + 1, num_epochs, time.time() - start_time))\n",
    "    print(\"  training loss (in-iteration): \\t{:.6f}\".format(\n",
    "        np.mean(train_loss[-2 * len(train_loader):])))\n",
    "    print(\"  validation loss: \\t\\t\\t{:.6f}\".format(\n",
    "        np.mean(val_loss[-2 * len(val_loader):])))"
   ]
  },
  {
   "cell_type": "code",
   "execution_count": 47,
   "metadata": {},
   "outputs": [
    {
     "data": {
      "text/plain": [
       "Autoencoder4(\n",
       "  (encoder): Sequential(\n",
       "    (0): Conv2d(3, 16, kernel_size=(2, 2), stride=(1, 1))\n",
       "    (1): ReLU()\n",
       "    (2): Conv2d(16, 16, kernel_size=(2, 2), stride=(1, 1), padding=(1, 1))\n",
       "    (3): BatchNorm2d(16, eps=1e-05, momentum=0.1, affine=True)\n",
       "    (4): MaxPool2d(kernel_size=(2, 2), stride=(2, 2), dilation=(1, 1), ceil_mode=False)\n",
       "    (5): ReLU()\n",
       "  )\n",
       "  (decoder): Sequential(\n",
       "    (0): ConvTranspose2d(16, 16, kernel_size=(2, 2), stride=(2, 2))\n",
       "    (1): BatchNorm2d(16, eps=1e-05, momentum=0.1, affine=True)\n",
       "    (2): ReLU()\n",
       "    (3): Conv2d(16, 3, kernel_size=(3, 3), stride=(1, 1), padding=(1, 1))\n",
       "    (4): Sigmoid()\n",
       "  )\n",
       ")"
      ]
     },
     "execution_count": 47,
     "metadata": {},
     "output_type": "execute_result"
    }
   ],
   "source": [
    "autoencoder.train(False)"
   ]
  },
  {
   "cell_type": "code",
   "execution_count": 48,
   "metadata": {},
   "outputs": [
    {
     "name": "stderr",
     "output_type": "stream",
     "text": [
      "/home/koloskov/anaconda3/lib/python3.6/site-packages/torch/serialization.py:159: UserWarning: Couldn't retrieve source code for container of type Autoencoder4. It won't be checked for correctness upon loading.\n",
      "  \"type \" + obj.__name__ + \". It won't be checked \"\n"
     ]
    }
   ],
   "source": [
    "torch.save(autoencoder, \"autoencoder.stickmen.4.pt\")"
   ]
  },
  {
   "cell_type": "code",
   "execution_count": 50,
   "metadata": {},
   "outputs": [
    {
     "data": {
      "image/png": "[encoded data removed]",
      "text/plain": [
       "<matplotlib.figure.Figure at 0x7fa0b9692b00>"
      ]
     },
     "metadata": {},
     "output_type": "display_data"
    }
   ],
   "source": [
    "plot_gallery(y_batch[:3, 1], image_h, image_w, n_row=1, n_col=3)"
   ]
  },
  {
   "cell_type": "code",
   "execution_count": 51,
   "metadata": {},
   "outputs": [
    {
     "data": {
      "image/png": "[encoded data removed]",
      "text/plain": [
       "<matplotlib.figure.Figure at 0x7fa0c2735d68>"
      ]
     },
     "metadata": {},
     "output_type": "display_data"
    }
   ],
   "source": [
    "plot_gallery(autoencoder(Variable(y_batch[:3, 1]).cuda())[0].cpu().data, image_h, image_w, n_row=1, n_col=3)"
   ]
  },
  {
   "cell_type": "code",
   "execution_count": 38,
   "metadata": {
    "scrolled": true
   },
   "outputs": [
    {
     "data": {
      "text/plain": [
       "torch.Size([3, 16, 4, 4])"
      ]
     },
     "execution_count": 38,
     "metadata": {},
     "output_type": "execute_result"
    }
   ],
   "source": [
    "autoencoder(Variable(X_batch[:3, 1]).cuda())[1].cpu().data.shape"
   ]
  },
  {
   "cell_type": "code",
   "execution_count": null,
   "metadata": {
    "collapsed": true
   },
   "outputs": [],
   "source": [
    "optimizer = optim.Adam(autoencoder.parameters(), lr=1e-4)"
   ]
  },
  {
   "cell_type": "code",
   "execution_count": 120,
   "metadata": {},
   "outputs": [
    {
     "name": "stdout",
     "output_type": "stream",
     "text": [
      "Epoch 1 of 1 took 100.482s\n",
      "  training loss (in-iteration): \t0.003360\n",
      "  validation loss: \t\t\t0.003582\n"
     ]
    }
   ],
   "source": [
    "# Train your autoencoder\n",
    "# Visualize progress in reconstruction and loss decay\n",
    "\n",
    "train_loss = []\n",
    "val_loss = []\n",
    "reconstructed_pictures = []\n",
    "\n",
    "import time\n",
    "num_epochs = 1 # total amount of full passes over training data\n",
    "\n",
    "for epoch in range(num_epochs):\n",
    "    # In each epoch, we do a full pass over the training data:\n",
    "    start_time = time.time()\n",
    "    autoencoder.train(True) # enable dropout / batch_norm training behavior\n",
    "    i = 0\n",
    "    for X_batch, y_batch in train_loader:\n",
    "        i += 1\n",
    "        # train on batch\n",
    "        X_batch_0 = torch.FloatTensor(X_batch[:, 0])\n",
    "        X_batch_0 = Variable(X_batch_0).cuda()\n",
    "#         X_batch = Variable(X_batch)\n",
    "#         y_batch = Variable(y_batch)\n",
    "        output_img, _ = autoencoder(X_batch_0)\n",
    "        loss = criterion(output_img, X_batch_0)\n",
    "        loss.backward()\n",
    "        optimizer.step()\n",
    "        optimizer.zero_grad()\n",
    "        train_loss.append(loss.cpu().data.numpy()[0])\n",
    "#         train_loss.append(loss.data.numpy())\n",
    "        \n",
    "        X_batch_1 = torch.FloatTensor(X_batch[:, 1])\n",
    "        X_batch_1 = Variable(X_batch_1).cuda()\n",
    "#         X_batch = Variable(X_batch)\n",
    "#         y_batch = Variable(y_batch)\n",
    "        output_img, _ = autoencoder(X_batch_1)\n",
    "        loss = criterion(output_img, X_batch_1)\n",
    "        loss.backward()\n",
    "        optimizer.step()\n",
    "        optimizer.zero_grad()\n",
    "        train_loss.append(loss.cpu().data.numpy()[0])\n",
    "#         train_loss.append(loss.data.numpy())\n",
    "#         print(i, \":\", loss.data.cpu().numpy()[0], end=\", \")\n",
    "\n",
    "    # And a full pass over the validation data:\n",
    "    autoencoder.train(False) # disable dropout / use averages for batch_norm\n",
    "    for X_batch, y_batch in val_loader:\n",
    "        X_batch_0 = Variable(X_batch[:, 0]).cuda()\n",
    "        output_img, _ = autoencoder(X_batch_0)\n",
    "        val_loss.append(criterion(output_img, X_batch_0).cpu().data.numpy()[0])\n",
    "        X_batch_1 = Variable(X_batch[:, 1]).cuda()\n",
    "        output_img, _ = autoencoder(X_batch_1)\n",
    "        val_loss.append(criterion(output_img, X_batch_1).cpu().data.numpy()[0])\n",
    "#         val_loss.append(criterion(output_img, X_batch).data.numpy())\n",
    "#     if epoch % 16 == 0:\n",
    "#         X_batch = Variable(torch.FloatTensor(np.array([X_val[247]]))).cuda()\n",
    "#         output_img, _ = autoencoder(X_batch)\n",
    "#         # reconstructed_pictures.append(output_img.cpu().data.numpy()[0])\n",
    "#         reconstructed_pictures.append(output_img.data.numpy())\n",
    "    # Then we print the results for this epoch:\n",
    "    print \n",
    "    print(\"Epoch {} of {} took {:.3f}s\".format(\n",
    "        epoch + 1, num_epochs, time.time() - start_time))\n",
    "    print(\"  training loss (in-iteration): \\t{:.6f}\".format(\n",
    "        np.mean(train_loss[-2 * len(train_loader):])))\n",
    "    print(\"  validation loss: \\t\\t\\t{:.6f}\".format(\n",
    "        np.mean(val_loss[-2 * len(val_loader):])))"
   ]
  },
  {
   "cell_type": "code",
   "execution_count": null,
   "metadata": {
    "collapsed": true
   },
   "outputs": [],
   "source": []
  },
  {
   "cell_type": "code",
   "execution_count": null,
   "metadata": {
    "collapsed": true
   },
   "outputs": [],
   "source": []
  },
  {
   "cell_type": "code",
   "execution_count": 127,
   "metadata": {},
   "outputs": [
    {
     "name": "stderr",
     "output_type": "stream",
     "text": [
      "/home/koloskov/anaconda3/lib/python3.6/site-packages/torch/serialization.py:159: UserWarning: Couldn't retrieve source code for container of type Autoencoder. It won't be checked for correctness upon loading.\n",
      "  \"type \" + obj.__name__ + \". It won't be checked \"\n"
     ]
    }
   ],
   "source": [
    "torch.save(autoencoder, \"autoencoder2.pt\")"
   ]
  },
  {
   "cell_type": "code",
   "execution_count": 27,
   "metadata": {
    "collapsed": true
   },
   "outputs": [],
   "source": [
    "optimizer = optim.Adam(autoencoder.parameters(), lr=1e-4)"
   ]
  },
  {
   "cell_type": "code",
   "execution_count": null,
   "metadata": {
    "scrolled": true
   },
   "outputs": [
    {
     "name": "stdout",
     "output_type": "stream",
     "text": [
      "Epoch 2 of 10 took 93.951s\n",
      "  training loss (in-iteration): \t0.064745\n",
      "  validation loss: \t\t\t0.064221\n"
     ]
    },
    {
     "ename": "KeyboardInterrupt",
     "evalue": "",
     "output_type": "error",
     "traceback": [
      "\u001b[0;31m---------------------------------------------------------------------------\u001b[0m",
      "\u001b[0;31mKeyboardInterrupt\u001b[0m                         Traceback (most recent call last)",
      "\u001b[0;32m<ipython-input-28-05e7979aacc0>\u001b[0m in \u001b[0;36m<module>\u001b[0;34m()\u001b[0m\n\u001b[1;32m     14\u001b[0m     \u001b[0mautoencoder\u001b[0m\u001b[0;34m.\u001b[0m\u001b[0mtrain\u001b[0m\u001b[0;34m(\u001b[0m\u001b[0;32mTrue\u001b[0m\u001b[0;34m)\u001b[0m \u001b[0;31m# enable dropout / batch_norm training behavior\u001b[0m\u001b[0;34m\u001b[0m\u001b[0m\n\u001b[1;32m     15\u001b[0m     \u001b[0mi\u001b[0m \u001b[0;34m=\u001b[0m \u001b[0;36m0\u001b[0m\u001b[0;34m\u001b[0m\u001b[0m\n\u001b[0;32m---> 16\u001b[0;31m     \u001b[0;32mfor\u001b[0m \u001b[0mX_batch\u001b[0m\u001b[0;34m,\u001b[0m \u001b[0my_batch\u001b[0m \u001b[0;32min\u001b[0m \u001b[0mtrain_loader\u001b[0m\u001b[0;34m:\u001b[0m\u001b[0;34m\u001b[0m\u001b[0m\n\u001b[0m\u001b[1;32m     17\u001b[0m         \u001b[0mi\u001b[0m \u001b[0;34m+=\u001b[0m \u001b[0;36m1\u001b[0m\u001b[0;34m\u001b[0m\u001b[0m\n\u001b[1;32m     18\u001b[0m         \u001b[0;31m# train on batch\u001b[0m\u001b[0;34m\u001b[0m\u001b[0;34m\u001b[0m\u001b[0m\n",
      "\u001b[0;32m~/anaconda3/lib/python3.6/site-packages/torch/utils/data/dataloader.py\u001b[0m in \u001b[0;36m__next__\u001b[0;34m(self)\u001b[0m\n\u001b[1;32m    257\u001b[0m         \u001b[0;32mif\u001b[0m \u001b[0mself\u001b[0m\u001b[0;34m.\u001b[0m\u001b[0mnum_workers\u001b[0m \u001b[0;34m==\u001b[0m \u001b[0;36m0\u001b[0m\u001b[0;34m:\u001b[0m  \u001b[0;31m# same-process loading\u001b[0m\u001b[0;34m\u001b[0m\u001b[0m\n\u001b[1;32m    258\u001b[0m             \u001b[0mindices\u001b[0m \u001b[0;34m=\u001b[0m \u001b[0mnext\u001b[0m\u001b[0;34m(\u001b[0m\u001b[0mself\u001b[0m\u001b[0;34m.\u001b[0m\u001b[0msample_iter\u001b[0m\u001b[0;34m)\u001b[0m  \u001b[0;31m# may raise StopIteration\u001b[0m\u001b[0;34m\u001b[0m\u001b[0m\n\u001b[0;32m--> 259\u001b[0;31m             \u001b[0mbatch\u001b[0m \u001b[0;34m=\u001b[0m \u001b[0mself\u001b[0m\u001b[0;34m.\u001b[0m\u001b[0mcollate_fn\u001b[0m\u001b[0;34m(\u001b[0m\u001b[0;34m[\u001b[0m\u001b[0mself\u001b[0m\u001b[0;34m.\u001b[0m\u001b[0mdataset\u001b[0m\u001b[0;34m[\u001b[0m\u001b[0mi\u001b[0m\u001b[0;34m]\u001b[0m \u001b[0;32mfor\u001b[0m \u001b[0mi\u001b[0m \u001b[0;32min\u001b[0m \u001b[0mindices\u001b[0m\u001b[0;34m]\u001b[0m\u001b[0;34m)\u001b[0m\u001b[0;34m\u001b[0m\u001b[0m\n\u001b[0m\u001b[1;32m    260\u001b[0m             \u001b[0;32mif\u001b[0m \u001b[0mself\u001b[0m\u001b[0;34m.\u001b[0m\u001b[0mpin_memory\u001b[0m\u001b[0;34m:\u001b[0m\u001b[0;34m\u001b[0m\u001b[0m\n\u001b[1;32m    261\u001b[0m                 \u001b[0mbatch\u001b[0m \u001b[0;34m=\u001b[0m \u001b[0mpin_memory_batch\u001b[0m\u001b[0;34m(\u001b[0m\u001b[0mbatch\u001b[0m\u001b[0;34m)\u001b[0m\u001b[0;34m\u001b[0m\u001b[0m\n",
      "\u001b[0;32m~/anaconda3/lib/python3.6/site-packages/torch/utils/data/dataloader.py\u001b[0m in \u001b[0;36m<listcomp>\u001b[0;34m(.0)\u001b[0m\n\u001b[1;32m    257\u001b[0m         \u001b[0;32mif\u001b[0m \u001b[0mself\u001b[0m\u001b[0;34m.\u001b[0m\u001b[0mnum_workers\u001b[0m \u001b[0;34m==\u001b[0m \u001b[0;36m0\u001b[0m\u001b[0;34m:\u001b[0m  \u001b[0;31m# same-process loading\u001b[0m\u001b[0;34m\u001b[0m\u001b[0m\n\u001b[1;32m    258\u001b[0m             \u001b[0mindices\u001b[0m \u001b[0;34m=\u001b[0m \u001b[0mnext\u001b[0m\u001b[0;34m(\u001b[0m\u001b[0mself\u001b[0m\u001b[0;34m.\u001b[0m\u001b[0msample_iter\u001b[0m\u001b[0;34m)\u001b[0m  \u001b[0;31m# may raise StopIteration\u001b[0m\u001b[0;34m\u001b[0m\u001b[0m\n\u001b[0;32m--> 259\u001b[0;31m             \u001b[0mbatch\u001b[0m \u001b[0;34m=\u001b[0m \u001b[0mself\u001b[0m\u001b[0;34m.\u001b[0m\u001b[0mcollate_fn\u001b[0m\u001b[0;34m(\u001b[0m\u001b[0;34m[\u001b[0m\u001b[0mself\u001b[0m\u001b[0;34m.\u001b[0m\u001b[0mdataset\u001b[0m\u001b[0;34m[\u001b[0m\u001b[0mi\u001b[0m\u001b[0;34m]\u001b[0m \u001b[0;32mfor\u001b[0m \u001b[0mi\u001b[0m \u001b[0;32min\u001b[0m \u001b[0mindices\u001b[0m\u001b[0;34m]\u001b[0m\u001b[0;34m)\u001b[0m\u001b[0;34m\u001b[0m\u001b[0m\n\u001b[0m\u001b[1;32m    260\u001b[0m             \u001b[0;32mif\u001b[0m \u001b[0mself\u001b[0m\u001b[0;34m.\u001b[0m\u001b[0mpin_memory\u001b[0m\u001b[0;34m:\u001b[0m\u001b[0;34m\u001b[0m\u001b[0m\n\u001b[1;32m    261\u001b[0m                 \u001b[0mbatch\u001b[0m \u001b[0;34m=\u001b[0m \u001b[0mpin_memory_batch\u001b[0m\u001b[0;34m(\u001b[0m\u001b[0mbatch\u001b[0m\u001b[0;34m)\u001b[0m\u001b[0;34m\u001b[0m\u001b[0m\n",
      "\u001b[0;32m~/hw_sk/Projcet/loader.py\u001b[0m in \u001b[0;36m__getitem__\u001b[0;34m(self, i)\u001b[0m\n\u001b[1;32m    161\u001b[0m             \u001b[0;32mif\u001b[0m \u001b[0mself\u001b[0m\u001b[0;34m.\u001b[0m\u001b[0mtransform\u001b[0m\u001b[0;34m:\u001b[0m\u001b[0;34m\u001b[0m\u001b[0m\n\u001b[1;32m    162\u001b[0m                 \u001b[0mimg\u001b[0m \u001b[0;34m=\u001b[0m \u001b[0mself\u001b[0m\u001b[0;34m.\u001b[0m\u001b[0mtransform\u001b[0m\u001b[0;34m(\u001b[0m\u001b[0mPIL\u001b[0m\u001b[0;34m.\u001b[0m\u001b[0mImage\u001b[0m\u001b[0;34m.\u001b[0m\u001b[0mfromarray\u001b[0m\u001b[0;34m(\u001b[0m\u001b[0mimg\u001b[0m\u001b[0;34m)\u001b[0m\u001b[0;34m)\u001b[0m\u001b[0;34m\u001b[0m\u001b[0m\n\u001b[0;32m--> 163\u001b[0;31m                 \u001b[0mstickman\u001b[0m \u001b[0;34m=\u001b[0m \u001b[0mself\u001b[0m\u001b[0;34m.\u001b[0m\u001b[0mtransform\u001b[0m\u001b[0;34m(\u001b[0m\u001b[0mPIL\u001b[0m\u001b[0;34m.\u001b[0m\u001b[0mImage\u001b[0m\u001b[0;34m.\u001b[0m\u001b[0mfromarray\u001b[0m\u001b[0;34m(\u001b[0m\u001b[0mstickman\u001b[0m\u001b[0;34m)\u001b[0m\u001b[0;34m)\u001b[0m\u001b[0;34m\u001b[0m\u001b[0m\n\u001b[0m\u001b[1;32m    164\u001b[0m             \u001b[0mimgs\u001b[0m\u001b[0;34m.\u001b[0m\u001b[0mappend\u001b[0m\u001b[0;34m(\u001b[0m\u001b[0mimg\u001b[0m\u001b[0;34m)\u001b[0m\u001b[0;34m\u001b[0m\u001b[0m\n\u001b[1;32m    165\u001b[0m             \u001b[0mstickmans\u001b[0m\u001b[0;34m.\u001b[0m\u001b[0mappend\u001b[0m\u001b[0;34m(\u001b[0m\u001b[0mstickman\u001b[0m\u001b[0;34m)\u001b[0m\u001b[0;34m\u001b[0m\u001b[0m\n",
      "\u001b[0;32m~/anaconda3/lib/python3.6/site-packages/PIL/Image.py\u001b[0m in \u001b[0;36mfromarray\u001b[0;34m(obj, mode)\u001b[0m\n\u001b[1;32m   2378\u001b[0m             \u001b[0mobj\u001b[0m \u001b[0;34m=\u001b[0m \u001b[0mobj\u001b[0m\u001b[0;34m.\u001b[0m\u001b[0mtostring\u001b[0m\u001b[0;34m(\u001b[0m\u001b[0;34m)\u001b[0m\u001b[0;34m\u001b[0m\u001b[0m\n\u001b[1;32m   2379\u001b[0m \u001b[0;34m\u001b[0m\u001b[0m\n\u001b[0;32m-> 2380\u001b[0;31m     \u001b[0;32mreturn\u001b[0m \u001b[0mfrombuffer\u001b[0m\u001b[0;34m(\u001b[0m\u001b[0mmode\u001b[0m\u001b[0;34m,\u001b[0m \u001b[0msize\u001b[0m\u001b[0;34m,\u001b[0m \u001b[0mobj\u001b[0m\u001b[0;34m,\u001b[0m \u001b[0;34m\"raw\"\u001b[0m\u001b[0;34m,\u001b[0m \u001b[0mrawmode\u001b[0m\u001b[0;34m,\u001b[0m \u001b[0;36m0\u001b[0m\u001b[0;34m,\u001b[0m \u001b[0;36m1\u001b[0m\u001b[0;34m)\u001b[0m\u001b[0;34m\u001b[0m\u001b[0m\n\u001b[0m\u001b[1;32m   2381\u001b[0m \u001b[0;34m\u001b[0m\u001b[0m\n\u001b[1;32m   2382\u001b[0m \u001b[0;34m\u001b[0m\u001b[0m\n",
      "\u001b[0;32m~/anaconda3/lib/python3.6/site-packages/PIL/Image.py\u001b[0m in \u001b[0;36mfrombuffer\u001b[0;34m(mode, size, data, decoder_name, *args)\u001b[0m\n\u001b[1;32m   2331\u001b[0m             \u001b[0;32mreturn\u001b[0m \u001b[0mim\u001b[0m\u001b[0;34m\u001b[0m\u001b[0m\n\u001b[1;32m   2332\u001b[0m \u001b[0;34m\u001b[0m\u001b[0m\n\u001b[0;32m-> 2333\u001b[0;31m     \u001b[0;32mreturn\u001b[0m \u001b[0mfrombytes\u001b[0m\u001b[0;34m(\u001b[0m\u001b[0mmode\u001b[0m\u001b[0;34m,\u001b[0m \u001b[0msize\u001b[0m\u001b[0;34m,\u001b[0m \u001b[0mdata\u001b[0m\u001b[0;34m,\u001b[0m \u001b[0mdecoder_name\u001b[0m\u001b[0;34m,\u001b[0m \u001b[0margs\u001b[0m\u001b[0;34m)\u001b[0m\u001b[0;34m\u001b[0m\u001b[0m\n\u001b[0m\u001b[1;32m   2334\u001b[0m \u001b[0;34m\u001b[0m\u001b[0m\n\u001b[1;32m   2335\u001b[0m \u001b[0;34m\u001b[0m\u001b[0m\n",
      "\u001b[0;32m~/anaconda3/lib/python3.6/site-packages/PIL/Image.py\u001b[0m in \u001b[0;36mfrombytes\u001b[0;34m(mode, size, data, decoder_name, *args)\u001b[0m\n\u001b[1;32m   2264\u001b[0m \u001b[0;34m\u001b[0m\u001b[0m\n\u001b[1;32m   2265\u001b[0m     \u001b[0mim\u001b[0m \u001b[0;34m=\u001b[0m \u001b[0mnew\u001b[0m\u001b[0;34m(\u001b[0m\u001b[0mmode\u001b[0m\u001b[0;34m,\u001b[0m \u001b[0msize\u001b[0m\u001b[0;34m)\u001b[0m\u001b[0;34m\u001b[0m\u001b[0m\n\u001b[0;32m-> 2266\u001b[0;31m     \u001b[0mim\u001b[0m\u001b[0;34m.\u001b[0m\u001b[0mfrombytes\u001b[0m\u001b[0;34m(\u001b[0m\u001b[0mdata\u001b[0m\u001b[0;34m,\u001b[0m \u001b[0mdecoder_name\u001b[0m\u001b[0;34m,\u001b[0m \u001b[0margs\u001b[0m\u001b[0;34m)\u001b[0m\u001b[0;34m\u001b[0m\u001b[0m\n\u001b[0m\u001b[1;32m   2267\u001b[0m     \u001b[0;32mreturn\u001b[0m \u001b[0mim\u001b[0m\u001b[0;34m\u001b[0m\u001b[0m\n\u001b[1;32m   2268\u001b[0m \u001b[0;34m\u001b[0m\u001b[0m\n",
      "\u001b[0;32m~/anaconda3/lib/python3.6/site-packages/PIL/Image.py\u001b[0m in \u001b[0;36mfrombytes\u001b[0;34m(self, data, decoder_name, *args)\u001b[0m\n\u001b[1;32m    753\u001b[0m         \u001b[0md\u001b[0m \u001b[0;34m=\u001b[0m \u001b[0m_getdecoder\u001b[0m\u001b[0;34m(\u001b[0m\u001b[0mself\u001b[0m\u001b[0;34m.\u001b[0m\u001b[0mmode\u001b[0m\u001b[0;34m,\u001b[0m \u001b[0mdecoder_name\u001b[0m\u001b[0;34m,\u001b[0m \u001b[0margs\u001b[0m\u001b[0;34m)\u001b[0m\u001b[0;34m\u001b[0m\u001b[0m\n\u001b[1;32m    754\u001b[0m         \u001b[0md\u001b[0m\u001b[0;34m.\u001b[0m\u001b[0msetimage\u001b[0m\u001b[0;34m(\u001b[0m\u001b[0mself\u001b[0m\u001b[0;34m.\u001b[0m\u001b[0mim\u001b[0m\u001b[0;34m)\u001b[0m\u001b[0;34m\u001b[0m\u001b[0m\n\u001b[0;32m--> 755\u001b[0;31m         \u001b[0ms\u001b[0m \u001b[0;34m=\u001b[0m \u001b[0md\u001b[0m\u001b[0;34m.\u001b[0m\u001b[0mdecode\u001b[0m\u001b[0;34m(\u001b[0m\u001b[0mdata\u001b[0m\u001b[0;34m)\u001b[0m\u001b[0;34m\u001b[0m\u001b[0m\n\u001b[0m\u001b[1;32m    756\u001b[0m \u001b[0;34m\u001b[0m\u001b[0m\n\u001b[1;32m    757\u001b[0m         \u001b[0;32mif\u001b[0m \u001b[0ms\u001b[0m\u001b[0;34m[\u001b[0m\u001b[0;36m0\u001b[0m\u001b[0;34m]\u001b[0m \u001b[0;34m>=\u001b[0m \u001b[0;36m0\u001b[0m\u001b[0;34m:\u001b[0m\u001b[0;34m\u001b[0m\u001b[0m\n",
      "\u001b[0;31mKeyboardInterrupt\u001b[0m: "
     ]
    }
   ],
   "source": [
    "# Train your autoencoder\n",
    "# Visualize progress in reconstruction and loss decay\n",
    "\n",
    "train_loss = []\n",
    "val_loss = []\n",
    "reconstructed_pictures = []\n",
    "\n",
    "import time\n",
    "num_epochs = 10 # total amount of full passes over training data\n",
    "\n",
    "for epoch in range(num_epochs):\n",
    "    # In each epoch, we do a full pass over the training data:\n",
    "    start_time = time.time()\n",
    "    autoencoder.train(True) # enable dropout / batch_norm training behavior\n",
    "    i = 0\n",
    "    for X_batch, y_batch in train_loader:\n",
    "        i += 1\n",
    "        # train on batch\n",
    "        X_batch_0 = torch.FloatTensor(X_batch[:, 0])\n",
    "        X_batch_0 = Variable(X_batch_0).cuda()\n",
    "#         X_batch = Variable(X_batch)\n",
    "#         y_batch = Variable(y_batch)\n",
    "        output_img, _ = autoencoder(X_batch_0)\n",
    "        loss = criterion(output_img, X_batch_0)\n",
    "        loss.backward()\n",
    "        optimizer.step()\n",
    "        optimizer.zero_grad()\n",
    "        train_loss.append(loss.cpu().data.numpy()[0])\n",
    "#         train_loss.append(loss.data.numpy())\n",
    "        \n",
    "        X_batch_1 = torch.FloatTensor(X_batch[:, 1])\n",
    "        X_batch_1 = Variable(X_batch_1).cuda()\n",
    "#         X_batch = Variable(X_batch)\n",
    "#         y_batch = Variable(y_batch)\n",
    "        output_img, _ = autoencoder(X_batch_1)\n",
    "        loss = criterion(output_img, X_batch_1)\n",
    "        loss.backward()\n",
    "        optimizer.step()\n",
    "        optimizer.zero_grad()\n",
    "        train_loss.append(loss.cpu().data.numpy()[0])\n",
    "#         train_loss.append(loss.data.numpy())\n",
    "#         print(i, \":\", loss.data.cpu().numpy()[0], end=\", \")\n",
    "\n",
    "    # And a full pass over the validation data:\n",
    "    autoencoder.train(False) # disable dropout / use averages for batch_norm\n",
    "    for X_batch, y_batch in val_loader:\n",
    "        X_batch_0 = Variable(X_batch[:, 0]).cuda()\n",
    "        output_img, _ = autoencoder(X_batch_0)\n",
    "        val_loss.append(criterion(output_img, X_batch_0).cpu().data.numpy()[0])\n",
    "        X_batch_1 = Variable(X_batch[:, 1]).cuda()\n",
    "        output_img, _ = autoencoder(X_batch_1)\n",
    "        val_loss.append(criterion(output_img, X_batch_1).cpu().data.numpy()[0])\n",
    "#         val_loss.append(criterion(output_img, X_batch).data.numpy())\n",
    "#     if epoch % 16 == 0:\n",
    "#         X_batch = Variable(torch.FloatTensor(np.array([X_val[247]]))).cuda()\n",
    "#         output_img, _ = autoencoder(X_batch)\n",
    "#         # reconstructed_pictures.append(output_img.cpu().data.numpy()[0])\n",
    "#         reconstructed_pictures.append(output_img.data.numpy())\n",
    "    # Then we print the results for this epoch:\n",
    "    print \n",
    "    print(\"Epoch {} of {} took {:.3f}s\".format(\n",
    "        epoch + 1, num_epochs, time.time() - start_time))\n",
    "    print(\"  training loss (in-iteration): \\t{:.6f}\".format(\n",
    "        np.mean(train_loss[-2 * len(train_loader):])))\n",
    "    print(\"  validation loss: \\t\\t\\t{:.6f}\".format(\n",
    "        np.mean(val_loss[-2 * len(val_loader):])))"
   ]
  },
  {
   "cell_type": "code",
   "execution_count": 36,
   "metadata": {
    "collapsed": true
   },
   "outputs": [],
   "source": [
    "def plot_gallery(images, h, w, n_row=3, n_col=6):\n",
    "    \"\"\"Helper function to plot a gallery of portraits\"\"\"\n",
    "    scale_const = 1.2\n",
    "    plt.figure(figsize=(3 / scale_const * n_col, 3.4 / scale_const * n_row))\n",
    "    plt.subplots_adjust(bottom=0, left=.01, right=.99, top=.90, hspace=.35)\n",
    "    for i in range(n_row * n_col):\n",
    "        plt.subplot(n_row, n_col, i + 1)\n",
    "        plt.imshow(images[i].numpy().transpose(1,2,0), cmap=plt.cm.gray, vmin=-1, vmax=1, interpolation='nearest')\n",
    "        plt.xticks(())\n",
    "        plt.yticks(())"
   ]
  },
  {
   "cell_type": "code",
   "execution_count": 38,
   "metadata": {},
   "outputs": [
    {
     "data": {
      "text/plain": [
       "torch.Size([30, 2, 3, 128, 128])"
      ]
     },
     "execution_count": 38,
     "metadata": {},
     "output_type": "execute_result"
    }
   ],
   "source": [
    "X_batch.shape"
   ]
  },
  {
   "cell_type": "code",
   "execution_count": 39,
   "metadata": {},
   "outputs": [
    {
     "data": {
      "image/png": "[encoded data removed]",
      "text/plain": [
       "<matplotlib.figure.Figure at 0x7f3126d369b0>"
      ]
     },
     "metadata": {},
     "output_type": "display_data"
    }
   ],
   "source": [
    "plot_gallery(X_batch[:3, 1], image_h, image_w, n_row=1, n_col=3)"
   ]
  },
  {
   "cell_type": "code",
   "execution_count": 128,
   "metadata": {
    "collapsed": true
   },
   "outputs": [],
   "source": [
    "autoencoder2 = torch.load('autoencoder.pt')"
   ]
  },
  {
   "cell_type": "code",
   "execution_count": 131,
   "metadata": {},
   "outputs": [
    {
     "data": {
      "text/plain": [
       "Autoencoder(\n",
       "  (encoder): Sequential(\n",
       "    (0): Conv2d(3, 16, kernel_size=(2, 2), stride=(1, 1))\n",
       "    (1): BatchNorm2d(16, eps=1e-05, momentum=0.1, affine=True)\n",
       "    (2): ReLU()\n",
       "    (3): Conv2d(16, 32, kernel_size=(2, 2), stride=(1, 1), padding=(1, 1))\n",
       "    (4): BatchNorm2d(32, eps=1e-05, momentum=0.1, affine=True)\n",
       "    (5): MaxPool2d(kernel_size=(2, 2), stride=(2, 2), dilation=(1, 1), ceil_mode=False)\n",
       "    (6): ReLU()\n",
       "    (7): Conv2d(32, 32, kernel_size=(2, 2), stride=(1, 1))\n",
       "    (8): BatchNorm2d(32, eps=1e-05, momentum=0.1, affine=True)\n",
       "    (9): ReLU()\n",
       "    (10): Conv2d(32, 32, kernel_size=(2, 2), stride=(1, 1), padding=(1, 1))\n",
       "    (11): BatchNorm2d(32, eps=1e-05, momentum=0.1, affine=True)\n",
       "    (12): MaxPool2d(kernel_size=(2, 2), stride=(2, 2), dilation=(1, 1), ceil_mode=False)\n",
       "    (13): ReLU()\n",
       "    (14): Conv2d(32, 32, kernel_size=(2, 2), stride=(1, 1))\n",
       "    (15): BatchNorm2d(32, eps=1e-05, momentum=0.1, affine=True)\n",
       "    (16): ReLU()\n",
       "    (17): Conv2d(32, 32, kernel_size=(2, 2), stride=(1, 1), padding=(1, 1))\n",
       "    (18): BatchNorm2d(32, eps=1e-05, momentum=0.1, affine=True)\n",
       "    (19): MaxPool2d(kernel_size=(2, 2), stride=(2, 2), dilation=(1, 1), ceil_mode=False)\n",
       "    (20): ReLU()\n",
       "    (21): Conv2d(32, 32, kernel_size=(2, 2), stride=(1, 1))\n",
       "    (22): BatchNorm2d(32, eps=1e-05, momentum=0.1, affine=True)\n",
       "    (23): ReLU()\n",
       "    (24): Conv2d(32, 32, kernel_size=(2, 2), stride=(1, 1), padding=(1, 1))\n",
       "    (25): BatchNorm2d(32, eps=1e-05, momentum=0.1, affine=True)\n",
       "    (26): MaxPool2d(kernel_size=(2, 2), stride=(2, 2), dilation=(1, 1), ceil_mode=False)\n",
       "    (27): ReLU()\n",
       "    (28): Conv2d(32, 32, kernel_size=(2, 2), stride=(1, 1), padding=(1, 1))\n",
       "    (29): BatchNorm2d(32, eps=1e-05, momentum=0.1, affine=True)\n",
       "    (30): MaxPool2d(kernel_size=(2, 2), stride=(2, 2), dilation=(1, 1), ceil_mode=False)\n",
       "    (31): ReLU()\n",
       "  )\n",
       "  (decoder): Sequential(\n",
       "    (0): ConvTranspose2d(32, 32, kernel_size=(2, 2), stride=(2, 2))\n",
       "    (1): BatchNorm2d(32, eps=1e-05, momentum=0.1, affine=True)\n",
       "    (2): ReLU()\n",
       "    (3): ConvTranspose2d(32, 32, kernel_size=(2, 2), stride=(2, 2))\n",
       "    (4): BatchNorm2d(32, eps=1e-05, momentum=0.1, affine=True)\n",
       "    (5): ReLU()\n",
       "    (6): ConvTranspose2d(32, 32, kernel_size=(2, 2), stride=(2, 2))\n",
       "    (7): BatchNorm2d(32, eps=1e-05, momentum=0.1, affine=True)\n",
       "    (8): ReLU()\n",
       "    (9): Conv2d(32, 32, kernel_size=(2, 2), stride=(1, 1))\n",
       "    (10): BatchNorm2d(32, eps=1e-05, momentum=0.1, affine=True)\n",
       "    (11): ReLU()\n",
       "    (12): ConvTranspose2d(32, 32, kernel_size=(2, 2), stride=(2, 2))\n",
       "    (13): BatchNorm2d(32, eps=1e-05, momentum=0.1, affine=True)\n",
       "    (14): ReLU()\n",
       "    (15): Conv2d(32, 32, kernel_size=(2, 2), stride=(1, 1), padding=(1, 1))\n",
       "    (16): BatchNorm2d(32, eps=1e-05, momentum=0.1, affine=True)\n",
       "    (17): ReLU()\n",
       "    (18): ConvTranspose2d(32, 3, kernel_size=(2, 2), stride=(2, 2))\n",
       "    (19): BatchNorm2d(3, eps=1e-05, momentum=0.1, affine=True)\n",
       "    (20): ReLU()\n",
       "    (21): Conv2d(3, 3, kernel_size=(3, 3), stride=(1, 1), padding=(2, 2))\n",
       "    (22): BatchNorm2d(3, eps=1e-05, momentum=0.1, affine=True)\n",
       "    (23): Sigmoid()\n",
       "  )\n",
       ")"
      ]
     },
     "execution_count": 131,
     "metadata": {},
     "output_type": "execute_result"
    }
   ],
   "source": [
    "autoencoder.eval()"
   ]
  },
  {
   "cell_type": "code",
   "execution_count": 132,
   "metadata": {},
   "outputs": [
    {
     "data": {
      "image/png": "[encoded data removed]",
      "text/plain": [
       "<matplotlib.figure.Figure at 0x7f3129982780>"
      ]
     },
     "metadata": {},
     "output_type": "display_data"
    }
   ],
   "source": [
    "plot_gallery(autoencoder2(Variable(X_batch[:3, 1]).cuda())[0].cpu().data, image_h, image_w, n_row=1, n_col=3)"
   ]
  },
  {
   "cell_type": "code",
   "execution_count": null,
   "metadata": {
    "collapsed": true
   },
   "outputs": [],
   "source": []
  }
 ],
 "metadata": {
  "kernelspec": {
   "display_name": "Python 3",
   "language": "python",
   "name": "python3"
  },
  "language_info": {
   "codemirror_mode": {
    "name": "ipython",
    "version": 3
   },
   "file_extension": ".py",
   "mimetype": "text/x-python",
   "name": "python",
   "nbconvert_exporter": "python",
   "pygments_lexer": "ipython3",
   "version": "3.6.3"
  },
  "toc": {
   "nav_menu": {},
   "number_sections": true,
   "sideBar": true,
   "skip_h1_title": false,
   "title_cell": "Table of Contents",
   "title_sidebar": "Contents",
   "toc_cell": false,
   "toc_position": {},
   "toc_section_display": true,
   "toc_window_display": false
  }
 },
 "nbformat": 4,
 "nbformat_minor": 2
}
